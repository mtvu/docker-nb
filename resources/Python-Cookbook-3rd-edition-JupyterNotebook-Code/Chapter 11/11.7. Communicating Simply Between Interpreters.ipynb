{
 "cells": [
  {
   "cell_type": "code",
   "execution_count": null,
   "metadata": {
    "collapsed": true
   },
   "outputs": [],
   "source": [
    "from multiprocessing.connection import Listener\n",
    "import traceback\n",
    "\n",
    "def echo_client(conn):\n",
    "    try:\n",
    "        while True:\n",
    "            msg = conn.recv()\n",
    "            conn.send(msg)\n",
    "    except EOFError:\n",
    "        print('Connection closed')\n",
    "\n",
    "def echo_server(address, authkey):\n",
    "    serv = Listener(address, authkey=authkey)\n",
    "    while True:\n",
    "    try:\n",
    "        client = serv.accept()\n",
    "        echo_client(client)\n",
    " \n",
    "    except Exception:\n",
    "        traceback.print_exc()\n",
    "\n",
    "echo_server(('', 25000), authkey=b'peekaboo')"
   ]
  },
  {
   "cell_type": "code",
   "execution_count": null,
   "metadata": {
    "collapsed": true
   },
   "outputs": [],
   "source": [
    "from multiprocessing.connection import Client\n",
    "c = Client(('localhost', 25000), authkey=b'peekaboo')\n",
    "c.send('hello')\n",
    "c.recv()"
   ]
  },
  {
   "cell_type": "code",
   "execution_count": null,
   "metadata": {
    "collapsed": true
   },
   "outputs": [],
   "source": [
    "c.send(42)\n",
    "c.recv()"
   ]
  },
  {
   "cell_type": "code",
   "execution_count": null,
   "metadata": {
    "collapsed": true
   },
   "outputs": [],
   "source": [
    "c.send([1, 2, 3, 4, 5])\n",
    "c.recv()"
   ]
  },
  {
   "cell_type": "code",
   "execution_count": null,
   "metadata": {
    "collapsed": true
   },
   "outputs": [],
   "source": [
    "s = Listener('/tmp/myconn', authkey=b'peekaboo')"
   ]
  },
  {
   "cell_type": "code",
   "execution_count": null,
   "metadata": {
    "collapsed": true
   },
   "outputs": [],
   "source": [
    "s = Listener(r'\\\\.\\pipe\\myconn', authkey=b'peekaboo')"
   ]
  }
 ],
 "metadata": {
  "kernelspec": {
   "display_name": "Python 2",
   "language": "python",
   "name": "python2"
  },
  "language_info": {
   "codemirror_mode": {
    "name": "ipython",
    "version": 2
   },
   "file_extension": ".py",
   "mimetype": "text/x-python",
   "name": "python",
   "nbconvert_exporter": "python",
   "pygments_lexer": "ipython2",
   "version": "2.7.13"
  }
 },
 "nbformat": 4,
 "nbformat_minor": 2
}
