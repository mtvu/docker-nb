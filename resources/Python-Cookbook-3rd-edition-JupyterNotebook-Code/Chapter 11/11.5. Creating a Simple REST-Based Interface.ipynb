{
 "cells": [
  {
   "cell_type": "code",
   "execution_count": null,
   "metadata": {
    "collapsed": true
   },
   "outputs": [],
   "source": [
    "# resty.py\n",
    "import cgi\n",
    "\n",
    "def notfound_404(environ, start_response):\n",
    "    start_response('404 Not Found', [ ('Content-type', 'text/plain') ])\n",
    "    return [b'Not Found']\n",
    "\n",
    "class PathDispatcher:\n",
    "    def __init__(self):\n",
    "        self.pathmap = { }\n",
    " \n",
    "    def __call__(self, environ, start_response):\n",
    "        path = environ['PATH_INFO']\n",
    "        params = cgi.FieldStorage(environ['wsgi.input'],\n",
    "                                    environ=environ)\n",
    "\n",
    "        method = environ['REQUEST_METHOD'].lower()\n",
    "        environ['params'] = { key: params.getvalue(key) for key in params }\n",
    "        handler = self.pathmap.get((method,path), notfound_404)\n",
    "        return handler(environ, start_response)\n",
    " \n",
    "    def register(self, method, path, function):\n",
    "        self.pathmap[method.lower(), path] = function\n",
    "        return function"
   ]
  },
  {
   "cell_type": "code",
   "execution_count": null,
   "metadata": {
    "collapsed": true
   },
   "outputs": [],
   "source": [
    "import time\n",
    "\n",
    "_hello_resp = '''\\\n",
    "    <html>\n",
    "    <head>\n",
    "    <title>Hello {name}</title>\n",
    "    </head>\n",
    "    <body>\n",
    "    <h1>Hello {name}!</h1>\n",
    "    </body>\n",
    "    </html>'''"
   ]
  },
  {
   "cell_type": "code",
   "execution_count": null,
   "metadata": {
    "collapsed": true
   },
   "outputs": [],
   "source": [
    "def hello_world(environ, start_response):\n",
    "    start_response('200 OK', [ ('Content-type','text/html')])\n",
    "    params = environ['params']\n",
    "    resp = _hello_resp.format(name=params.get('name'))\n",
    "    yield resp.encode('utf-8')\n",
    "\n",
    "    \n",
    "_localtime_resp = '''\\\n",
    "<?xml version=\"1.0\"?>\n",
    "<time>\n",
    " <year>{t.tm_year}</year>\n",
    " <month>{t.tm_mon}</month>\n",
    " <day>{t.tm_mday}</day>\n",
    " <hour>{t.tm_hour}</hour>\n",
    " <minute>{t.tm_min}</minute>\n",
    " <second>{t.tm_sec}</second>\n",
    "</time>'''\n",
    "\n",
    "def localtime(environ, start_response):\n",
    "    start_response('200 OK', [ ('Content-type', 'application/xml') ])\n",
    "    resp = _localtime_resp.format(t=time.localtime())\n",
    "    yield resp.encode('utf-8')\n",
    "\n",
    "    \n",
    "if __name__ == '__main__':\n",
    "    from resty import PathDispatcher\n",
    "    from wsgiref.simple_server import make_server\n",
    "    \n",
    "    # Create the dispatcher and register functions\n",
    "    dispatcher = PathDispatcher()\n",
    "    dispatcher.register('GET', '/hello', hello_world)\n",
    "    dispatcher.register('GET', '/localtime', localtime)\n",
    "    \n",
    "    # Launch a basic server\n",
    "    httpd = make_server('', 8080, dispatcher)\n",
    "    print('Serving on port 8080...')\n",
    "    httpd.serve_forever()"
   ]
  },
  {
   "cell_type": "code",
   "execution_count": null,
   "metadata": {
    "collapsed": true
   },
   "outputs": [],
   "source": [
    "u = urlopen('http://localhost:8080/hello?name=Guido')\n",
    "print(u.read().decode('utf-8')"
   ]
  },
  {
   "cell_type": "code",
   "execution_count": null,
   "metadata": {
    "collapsed": true
   },
   "outputs": [],
   "source": [
    "u = urlopen('http://localhost:8080/localtime')\n",
    "print(u.read().decode('utf-8'))"
   ]
  },
  {
   "cell_type": "code",
   "execution_count": null,
   "metadata": {
    "collapsed": true
   },
   "outputs": [],
   "source": [
    "import cgi\n",
    "\n",
    "def wsgi_app(environ, start_response):"
   ]
  },
  {
   "cell_type": "code",
   "execution_count": null,
   "metadata": {
    "collapsed": true
   },
   "outputs": [],
   "source": [
    "def wsgi_app(environ, start_response):\n",
    "    method = environ['REQUEST_METHOD']\n",
    "    path = environ['PATH_INFO']\n",
    "    # Parse the query parameters\n",
    "    params = cgi.FieldStorage(environ['wsgi.input'], environ=environ)"
   ]
  },
  {
   "cell_type": "code",
   "execution_count": null,
   "metadata": {
    "collapsed": true
   },
   "outputs": [],
   "source": [
    "def wsgi_app(environ, start_response):\n",
    "    start_response('200 OK', [('Content-type', 'text/plain')])"
   ]
  },
  {
   "cell_type": "code",
   "execution_count": null,
   "metadata": {
    "collapsed": true
   },
   "outputs": [],
   "source": [
    "def wsgi_app(environ, start_response):\n",
    "    start_response('200 OK', [('Content-type', 'text/plain')])\n",
    "    resp = []\n",
    "    resp.append(b'Hello World\\n')\n",
    "    resp.append(b'Goodbye!\\n')\n",
    "    return resp"
   ]
  },
  {
   "cell_type": "code",
   "execution_count": null,
   "metadata": {
    "collapsed": true
   },
   "outputs": [],
   "source": [
    "def wsgi_app(environ, start_response):\n",
    "    start_response('200 OK', [('Content-type', 'text/plain')])\n",
    "    yield b'Hello World\\n'\n",
    "    yield b'Goodbye!\\n"
   ]
  },
  {
   "cell_type": "code",
   "execution_count": null,
   "metadata": {
    "collapsed": true
   },
   "outputs": [],
   "source": [
    "class WSGIApplication:\n",
    "    def __init__(self):\n",
    " \n",
    "    def __call__(self, environ, start_response)"
   ]
  },
  {
   "cell_type": "code",
   "execution_count": null,
   "metadata": {
    "collapsed": true
   },
   "outputs": [],
   "source": [
    "if __name__ == '__main__':\n",
    "    from wsgiref.simple_server import make_server\n",
    "    # Create the dispatcher and register functions\n",
    "    dispatcher = PathDispatcher()\n",
    " \n",
    "    # Launch a basic server\n",
    "    httpd = make_server('', 8080, dispatcher)\n",
    "    print('Serving on port 8080...')\n",
    "    httpd.serve_forever()\n"
   ]
  }
 ],
 "metadata": {
  "kernelspec": {
   "display_name": "Python 2",
   "language": "python",
   "name": "python2"
  },
  "language_info": {
   "codemirror_mode": {
    "name": "ipython",
    "version": 2
   },
   "file_extension": ".py",
   "mimetype": "text/x-python",
   "name": "python",
   "nbconvert_exporter": "python",
   "pygments_lexer": "ipython2",
   "version": "2.7.13"
  }
 },
 "nbformat": 4,
 "nbformat_minor": 2
}
