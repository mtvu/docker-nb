{
 "cells": [
  {
   "cell_type": "code",
   "execution_count": null,
   "metadata": {
    "collapsed": true
   },
   "outputs": [],
   "source": [
    "class EventHandler:\n",
    "    def fileno(self):\n",
    "        'Return the associated file descriptor'\n",
    "        raise NotImplemented('must implement')\n",
    "\n",
    "    def wants_to_receive(self):\n",
    "        'Return True if receiving is allowed'\n",
    "        return False\n",
    " \n",
    "    def handle_receive(self):\n",
    "        'Perform the receive operation'\n",
    "        pass\n",
    " \n",
    "    def wants_to_send(self):\n",
    "        'Return True if sending is requested'\n",
    "        return False\n",
    " \n",
    "    def handle_send(self):\n",
    "        'Send outgoing data'\n",
    "        pass"
   ]
  },
  {
   "cell_type": "code",
   "execution_count": null,
   "metadata": {
    "collapsed": true
   },
   "outputs": [],
   "source": [
    "import select\n",
    "\n",
    "def event_loop(handlers):\n",
    "    while True:\n",
    "        wants_recv = [h for h in handlers if h.wants_to_receive()]\n",
    "        wants_send = [h for h in handlers if h.wants_to_send()]\n",
    "        can_recv, can_send, _ = select.select(wants_recv, wants_send, [])\n",
    "        for h in can_recv:\n",
    "            h.handle_receive()\n",
    "        for h in can_send:\n",
    "            h.handle_send()"
   ]
  },
  {
   "cell_type": "code",
   "execution_count": null,
   "metadata": {
    "collapsed": true
   },
   "outputs": [],
   "source": [
    "import socket\n",
    "import time\n",
    "\n",
    "class UDPServer(EventHandler):\n",
    "    def __init__(self, address):\n",
    "        self.sock = socket.socket(socket.AF_INET, socket.SOCK_DGRAM)\n",
    "        self.sock.bind(address)\n",
    "        \n",
    "    def fileno(self):\n",
    "        return self.sock.fileno()\n",
    " \n",
    "    def wants_to_receive(self):\n",
    "        return True\n",
    "\n",
    "\n",
    "class UDPTimeServer(UDPServer):\n",
    "    def handle_receive(self):\n",
    "        msg, addr = self.sock.recvfrom(1)\n",
    "        self.sock.sendto(time.ctime().encode('ascii'), addr)\n",
    "\n",
    "        \n",
    "class UDPEchoServer(UDPServer):\n",
    "    def handle_receive(self):\n",
    "        msg, addr = self.sock.recvfrom(8192)\n",
    "        self.sock.sendto(msg, addr)\n",
    "\n",
    "        \n",
    "if __name__ == '__main__':\n",
    "    handlers = [ UDPTimeServer(('',14000)), UDPEchoServer(('',15000)) ]\n",
    "    event_loop(handlers)"
   ]
  },
  {
   "cell_type": "code",
   "execution_count": null,
   "metadata": {
    "collapsed": true
   },
   "outputs": [],
   "source": [
    "from socket import *\n",
    "s = socket(AF_INET, SOCK_DGRAM)\n",
    "s.sendto(b'',('localhost',14000))"
   ]
  },
  {
   "cell_type": "code",
   "execution_count": null,
   "metadata": {
    "collapsed": true
   },
   "outputs": [],
   "source": [
    "s.recvfrom(128)"
   ]
  },
  {
   "cell_type": "code",
   "execution_count": null,
   "metadata": {
    "collapsed": true
   },
   "outputs": [],
   "source": [
    "s.sendto(b'Hello',('localhost',15000))\n",
    "\n",
    "s.recvfrom(128)"
   ]
  },
  {
   "cell_type": "code",
   "execution_count": null,
   "metadata": {
    "collapsed": true
   },
   "outputs": [],
   "source": [
    "class TCPServer(EventHandler):\n",
    "    def __init__(self, address, client_handler, handler_list):\n",
    "        self.sock = socket.socket(socket.AF_INET, socket.SOCK_STREAM)\n",
    "        self.sock.setsockopt(socket.SOL_SOCKET, socket.SO_REUSEADDR, True)\n",
    "        self.sock.bind(address)\n",
    "        self.sock.listen(1)\n",
    "        self.client_handler = client_handler\n",
    "        self.handler_list = handler_list\n",
    " \n",
    "    def fileno(self):\n",
    "        return self.sock.fileno()\n",
    " \n",
    "    def wants_to_receive(self):\n",
    "        return True\n",
    "\n",
    "    def handle_receive(self):\n",
    "        client, addr = self.sock.accept()\n",
    "        # Add the client to the event loop's handler list\n",
    "        self.handler_list.append(self.client_handler(client, self.handler_list))\n",
    "\n",
    "        \n",
    "class TCPClient(EventHandler):\n",
    "    def __init__(self, sock, handler_list):\n",
    "        self.sock = sock\n",
    "        self.handler_list = handler_list\n",
    "        self.outgoing = bytearray()\n",
    " \n",
    "    def fileno(self):\n",
    "        return self.sock.fileno()\n",
    " \n",
    "    def close(self):\n",
    "        self.sock.close()\n",
    "        # Remove myself from the event loop's handler list\n",
    "        self.handler_list.remove(self)\n",
    " \n",
    "    def wants_to_send(self):\n",
    "        return True if self.outgoing else False\n",
    " \n",
    "    def handle_send(self):\n",
    "        nsent = self.sock.send(self.outgoing)\n",
    "        self.outgoing = self.outgoing[nsent:]\n",
    "\n",
    "\n",
    "class TCPEchoClient(TCPClient):\n",
    "    def wants_to_receive(self):\n",
    "        return True\n",
    "\n",
    "    def handle_receive(self):\n",
    "        data = self.sock.recv(8192)\n",
    "        if not data:\n",
    "            self.close()\n",
    "        else:\n",
    "            self.outgoing.extend(data)\n",
    "\n",
    "\n",
    "if __name__ == '__main__':\n",
    "    handlers = []\n",
    "    handlers.append(TCPServer(('',16000), TCPEchoClient, handlers))\n",
    "    event_loop(handlers)"
   ]
  },
  {
   "cell_type": "code",
   "execution_count": null,
   "metadata": {
    "collapsed": true
   },
   "outputs": [],
   "source": [
    "from concurrent.futures import ThreadPoolExecutor\n",
    "import os\n",
    "class ThreadPoolHandler(EventHandler):\n",
    "    def __init__(self, nworkers):\n",
    "        if os.name == 'posix':\n",
    "            self.signal_done_sock, self.done_sock = socket.socketpair()\n",
    "        else:\n",
    "            server = socket.socket(socket.AF_INET, socket.SOCK_STREAM)\n",
    "            server.bind(('127.0.0.1', 0))\n",
    "            server.listen(1)\n",
    "            self.signal_done_sock = socket.socket(socket.AF_INET,\n",
    "                                                     socket.SOCK_STREAM)\n",
    "            self.signal_done_sock.connect(server.getsockname())\n",
    "            self.done_sock, _ = server.accept()\n",
    "            server.close()\n",
    " \n",
    "        self.pending = []\n",
    "        self.pool = ThreadPoolExecutor(nworkers)\n",
    " \n",
    "    def fileno(self):\n",
    "        return self.done_sock.fileno()\n",
    " \n",
    "\n",
    "    # Callback that executes when the thread is done\n",
    "    def _complete(self, callback, r):\n",
    "        self.pending.append((callback, r.result()))\n",
    "        self.signal_done_sock.send(b'x')\n",
    " \n",
    "\n",
    "    # Run a function in a thread pool\n",
    "    def run(self, func, args=(), kwargs={},*,callback):\n",
    "        r = self.pool.submit(func, *args, **kwargs)\n",
    "        r.add_done_callback(lambda r: self._complete(callback, r))\n",
    " \n",
    "    def wants_to_receive(self):\n",
    "        return True\n",
    " \n",
    "    # Run callback functions of completed work\n",
    "    def handle_receive(self):\n",
    "        # Invoke all pending callback functions\n",
    "        for callback, result in self.pending:\n",
    "            callback(result)\n",
    "            self.done_sock.recv(1)\n",
    "        self.pending = []"
   ]
  },
  {
   "cell_type": "code",
   "execution_count": null,
   "metadata": {
    "collapsed": true
   },
   "outputs": [],
   "source": [
    "# A really bad Fibonacci implementation\n",
    "def fib(n):\n",
    "    if n < 2:\n",
    "        return 1\n",
    "    else:\n",
    "        return fib(n - 1) + fib(n - 2)\n",
    "\n",
    "    \n",
    "class UDPFibServer(UDPServer):\n",
    "    def handle_receive(self):\n",
    "        msg, addr = self.sock.recvfrom(128)\n",
    "        n = int(msg)\n",
    "        pool.run(fib, (n,), callback=lambda r: self.respond(r, addr))\n",
    " \n",
    "    def respond(self, result, addr):\n",
    "        self.sock.sendto(str(result).encode('ascii'), addr)\n",
    "        \n",
    "if __name__ == '__main__':\n",
    "    pool = ThreadPoolHandler(16)\n",
    "    handlers = [ pool, UDPFibServer(('',16000))]\n",
    "    event_loop(handlers)"
   ]
  },
  {
   "cell_type": "code",
   "execution_count": null,
   "metadata": {
    "collapsed": true
   },
   "outputs": [],
   "source": [
    "from socket import *\n",
    "sock = socket(AF_INET, SOCK_DGRAM)\n",
    "for x in range(40):\n",
    "    sock.sendto(str(x).encode('ascii'), ('localhost', 16000))\n",
    "    resp = sock.recvfrom(8192)\n",
    "    print(resp[0])"
   ]
  }
 ],
 "metadata": {
  "kernelspec": {
   "display_name": "Python 2",
   "language": "python",
   "name": "python2"
  },
  "language_info": {
   "codemirror_mode": {
    "name": "ipython",
    "version": 2
   },
   "file_extension": ".py",
   "mimetype": "text/x-python",
   "name": "python",
   "nbconvert_exporter": "python",
   "pygments_lexer": "ipython2",
   "version": "2.7.13"
  }
 },
 "nbformat": 4,
 "nbformat_minor": 2
}
