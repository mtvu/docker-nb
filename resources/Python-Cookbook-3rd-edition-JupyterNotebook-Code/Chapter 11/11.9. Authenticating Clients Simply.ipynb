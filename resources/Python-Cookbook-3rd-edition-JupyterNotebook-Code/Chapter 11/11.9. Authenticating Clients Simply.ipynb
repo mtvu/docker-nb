{
 "cells": [
  {
   "cell_type": "code",
   "execution_count": null,
   "metadata": {
    "collapsed": true
   },
   "outputs": [],
   "source": [
    "import hmac\n",
    "import os\n",
    "\n",
    "def client_authenticate(connection, secret_key):\n",
    "    '''\n",
    "    Authenticate client to a remote service.\n",
    "    connection represents a network connection.\n",
    "    secret_key is a key known only to both client/server.\n",
    "    '''\n",
    " \n",
    "    message = connection.recv(32)\n",
    "    hash = hmac.new(secret_key, message)\n",
    "    digest = hash.digest()\n",
    "    connection.send(digest)\n",
    "\n",
    "    \n",
    "def server_authenticate(connection, secret_key):\n",
    "    '''\n",
    "    Request client authentication.\n",
    "    '''\n",
    "    message = os.urandom(32)\n",
    "    connection.send(message)\n",
    "    hash = hmac.new(secret_key, message)\n",
    "    digest = hash.digest()\n",
    "    response = connection.recv(len(digest))\n",
    "    return hmac.compare_digest(digest,response)"
   ]
  },
  {
   "cell_type": "code",
   "execution_count": null,
   "metadata": {
    "collapsed": true
   },
   "outputs": [],
   "source": [
    "from socket import socket, AF_INET, SOCK_STREAM\n",
    "secret_key = b'peekaboo'\n",
    "\n",
    "def echo_handler(client_sock):\n",
    "    if not server_authenticate(client_sock, secret_key):\n",
    "        client_sock.close()\n",
    "        return\n",
    "    while True:\n",
    "        msg = client_sock.recv(8192)\n",
    "        if not msg:\n",
    "            break\n",
    "        client_sock.sendall(msg)\n",
    "\n",
    "        \n",
    "def echo_server(address):\n",
    "    s = socket(AF_INET, SOCK_STREAM)\n",
    "    s.bind(address)\n",
    "    s.listen(5)\n",
    "    while True:\n",
    "        c,a = s.accept()\n",
    "        echo_handler(c)\n",
    "\n",
    "        \n",
    "echo_server(('', 18000))"
   ]
  },
  {
   "cell_type": "code",
   "execution_count": null,
   "metadata": {
    "collapsed": true
   },
   "outputs": [],
   "source": [
    "from socket import socket, AF_INET, SOCK_STREAM\n",
    "\n",
    "secret_key = b'peekaboo'\n",
    "\n",
    "s = socket(AF_INET, SOCK_STREAM)\n",
    "s.connect(('localhost', 18000))\n",
    "client_authenticate(s, secret_key)\n",
    "s.send(b'Hello World')\n",
    "resp = s.recv(1024)"
   ]
  }
 ],
 "metadata": {
  "kernelspec": {
   "display_name": "Python 2",
   "language": "python",
   "name": "python2"
  },
  "language_info": {
   "codemirror_mode": {
    "name": "ipython",
    "version": 2
   },
   "file_extension": ".py",
   "mimetype": "text/x-python",
   "name": "python",
   "nbconvert_exporter": "python",
   "pygments_lexer": "ipython2",
   "version": "2.7.13"
  }
 },
 "nbformat": 4,
 "nbformat_minor": 2
}
