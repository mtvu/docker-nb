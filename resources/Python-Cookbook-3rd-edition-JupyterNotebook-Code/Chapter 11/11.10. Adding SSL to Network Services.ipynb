{
 "cells": [
  {
   "cell_type": "code",
   "execution_count": null,
   "metadata": {
    "collapsed": true
   },
   "outputs": [],
   "source": [
    "from socket import socket, AF_INET, SOCK_STREAM\n",
    "import ssl\n",
    "\n",
    "KEYFILE = 'server_key.pem' # Private key of the server\n",
    "CERTFILE = 'server_cert.pem' # Server certificate (given to client)\n",
    "\n",
    "def echo_client(s):\n",
    "    while True:\n",
    "        data = s.recv(8192)\n",
    "        if data == b'':\n",
    "            break\n",
    "        s.send(data)\n",
    "    s.close()\n",
    "    print('Connection closed')\n",
    "\n",
    "def echo_server(address):\n",
    "    s = socket(AF_INET, SOCK_STREAM)\n",
    "    s.bind(address)\n",
    "    s.listen(1)\n",
    "    \n",
    "    # Wrap with an SSL layer requiring client certs\n",
    "    s_ssl = ssl.wrap_socket(s,\n",
    "                            keyfile=KEYFILE,\n",
    "                            certfile=CERTFILE,\n",
    "                            server_side=True\n",
    "                            )\n",
    "\n",
    "    # Wait for connections\n",
    "    while True:\n",
    "        try:\n",
    "            c,a = s_ssl.accept()\n",
    "            print('Got connection', c, a)\n",
    "            echo_client(c)\n",
    "        except Exception as e:\n",
    "            print('{}: {}'.format(e.__class__.__name__, e))\n",
    "            \n",
    "echo_server(('', 20000))"
   ]
  },
  {
   "cell_type": "code",
   "execution_count": null,
   "metadata": {
    "collapsed": true
   },
   "outputs": [],
   "source": [
    "from socket import socket, AF_INET, SOCK_STREAM\n",
    "import ssl\n",
    "s = socket(AF_INET, SOCK_STREAM)\n",
    "s_ssl = ssl.wrap_socket(s,\n",
    "                        cert_reqs=ssl.CERT_REQUIRED,\n",
    "                        ca_certs = 'server_cert.pem')\n",
    "s_ssl.connect(('localhost', 20000))\n",
    "s_ssl.send(b'Hello World?')"
   ]
  },
  {
   "cell_type": "code",
   "execution_count": null,
   "metadata": {
    "collapsed": true
   },
   "outputs": [],
   "source": [
    "s_ssl.recv(8192)"
   ]
  },
  {
   "cell_type": "code",
   "execution_count": 1,
   "metadata": {},
   "outputs": [
    {
     "ename": "SyntaxError",
     "evalue": "invalid syntax (<ipython-input-1-ff26bc0c0814>, line 10)",
     "output_type": "error",
     "traceback": [
      "\u001b[1;36m  File \u001b[1;32m\"<ipython-input-1-ff26bc0c0814>\"\u001b[1;36m, line \u001b[1;32m10\u001b[0m\n\u001b[1;33m    keyfile=None, certfile=None, ca_certs=None,\u001b[0m\n\u001b[1;37m          ^\u001b[0m\n\u001b[1;31mSyntaxError\u001b[0m\u001b[1;31m:\u001b[0m invalid syntax\n"
     ]
    }
   ],
   "source": [
    "import ssl\n",
    "\n",
    "class SSLMixin:\n",
    "    '''\n",
    "    Mixin class that adds support for SSL to existing servers based\n",
    "    on the socketserver module.\n",
    "    '''\n",
    " \n",
    "    def __init__(self, *args,\n",
    "                keyfile=None, certfile=None, ca_certs=None,\n",
    "                cert_reqs=ssl.NONE,\n",
    "                 **kwargs):\n",
    "        self._keyfile = keyfile\n",
    "        self._certfile = certfile\n",
    "        self._ca_certs = ca_certs\n",
    "        self._cert_reqs = cert_reqs\n",
    "        super().__init__(*args, **kwargs)\n",
    " \n",
    "    def get_request(self):\n",
    "        client, addr = super().get_request()\n",
    "        client_ssl = ssl.wrap_socket(client,\n",
    "                                    keyfile = self._keyfile,\n",
    "                                    certfile = self._certfile,\n",
    "                                    ca_certs = self._ca_certs,\n",
    "                                     cert_reqs = self._cert_reqs,\n",
    "                                     server_side = True)\n",
    "        return client_ssl, addr"
   ]
  },
  {
   "cell_type": "code",
   "execution_count": null,
   "metadata": {
    "collapsed": true
   },
   "outputs": [],
   "source": [
    "# XML-RPC server with SSL\n",
    "\n",
    "from xmlrpc.server import SimpleXMLRPCServer\n",
    "\n",
    "class SSLSimpleXMLRPCServer(SSLMixin, SimpleXMLRPCServer):\n",
    "    pass"
   ]
  },
  {
   "cell_type": "code",
   "execution_count": null,
   "metadata": {
    "collapsed": true
   },
   "outputs": [],
   "source": [
    "import ssl\n",
    "from xmlrpc.server import SimpleXMLRPCServer\n",
    "from sslmixin import SSLMixin\n",
    "\n",
    "class SSLSimpleXMLRPCServer(SSLMixin, SimpleXMLRPCServer):\n",
    "    pass\n",
    "\n",
    "class KeyValueServer:\n",
    "    _rpc_methods_ = ['get', 'set', 'delete', 'exists', 'keys']\n",
    "    def __init__(self, *args, **kwargs):\n",
    "        self._data = {}\n",
    "        self._serv = SSLSimpleXMLRPCServer(*args, allow_none=True, **kwargs)\n",
    "        for name in self._rpc_methods_:\n",
    "            self._serv.register_function(getattr(self, name))\n",
    " \n",
    "    def get(self, name):\n",
    "        return self._data[name]\n",
    " \n",
    "    def set(self, name, value):\n",
    "        self._data[name] = value\n",
    " \n",
    "    def delete(self, name):\n",
    "        del self._data[name]\n",
    " \n",
    "    def exists(self, name):\n",
    "        return name in self._data\n",
    " \n",
    "    def keys(self):\n",
    "        return list(self._data)\n",
    " \n",
    "    def serve_forever(self):\n",
    "        self._serv.serve_forever()\n",
    "\n",
    "if __name__ == '__main__':\n",
    "    KEYFILE='server_key.pem' # Private key of the server\n",
    "    CERTFILE='server_cert.pem' # Server certificate\n",
    "    kvserv = KeyValueServer(('', 15000),\n",
    "                            keyfile=KEYFILE,\n",
    "                            certfile=CERTFILE),\n",
    "    kvserv.serve_forever()"
   ]
  },
  {
   "cell_type": "code",
   "execution_count": null,
   "metadata": {
    "collapsed": true
   },
   "outputs": [],
   "source": [
    "from xmlrpc.client import ServerProxy\n",
    "s = ServerProxy('https://localhost:15000', allow_none=True)\n",
    "s.set('foo','bar')\n",
    "s.set('spam', [1, 2, 3])\n",
    "s.keys()\n",
    "\n",
    "s.get('foo')\n",
    "\n",
    "s.get('spam')\n",
    "\n",
    "s.delete('spam')\n",
    "s.exists('spam')"
   ]
  },
  {
   "cell_type": "code",
   "execution_count": null,
   "metadata": {
    "collapsed": true
   },
   "outputs": [],
   "source": [
    "from xmlrpc.client import SafeTransport, ServerProxy\n",
    "import ssl\n",
    "\n",
    "class VerifyCertSafeTransport(SafeTransport):\n",
    "    def __init__(self, cafile, certfile=None, keyfile=None):\n",
    "        SafeTransport.__init__(self)\n",
    "        self._ssl_context = ssl.SSLContext(ssl.PROTOCOL_TLSv1)\n",
    "        self._ssl_context.load_verify_locations(cafile)\n",
    "        if cert:\n",
    "            self._ssl_context.load_cert_chain(certfile, keyfile)\n",
    "            self._ssl_context.verify_mode = ssl.CERT_REQUIRED\n",
    " \n",
    "    def make_connection(self, host):\n",
    "        # Items in the passed dictionary are passed as keyword\n",
    "        # arguments to the http.client.HTTPSConnection() constructor.\n",
    "        # The context argument allows an ssl.SSLContext instance to\n",
    "        # be passed with information about the SSL configuration\n",
    "        s = super().make_connection((host, {'context': self._ssl_context}))\n",
    "        return s\n",
    "\n",
    "# Create the client proxy\n",
    "s = ServerProxy('https://localhost:15000',\n",
    "                 transport=VerifyCertSafeTransport('server_cert.pem'),\n",
    "                 allow_none=True)"
   ]
  },
  {
   "cell_type": "code",
   "execution_count": null,
   "metadata": {
    "collapsed": true
   },
   "outputs": [],
   "source": [
    "if __name__ == '__main__':\n",
    "    KEYFILE='server_key.pem' # Private key of the server\n",
    "    CERTFILE='server_cert.pem' # Server certificate\n",
    "    CA_CERTS='client_cert.pem' # Certificates of accepted clients\n",
    "    kvserv = KeyValueServer(('', 15000),\n",
    "                            keyfile=KEYFILE,\n",
    "                            certfile=CERTFILE,\n",
    "                            ca_certs=CA_CERTS,\n",
    "                            cert_reqs=ssl.CERT_REQUIRED,\n",
    "                             )\n",
    "\n",
    "    kvserv.serve_forever()"
   ]
  },
  {
   "cell_type": "code",
   "execution_count": null,
   "metadata": {
    "collapsed": true
   },
   "outputs": [],
   "source": [
    "# Create the client proxy\n",
    "s = ServerProxy('https://localhost:15000',\n",
    "                 transport=VerifyCertSafeTransport('server_cert.pem',\n",
    "                                                   'client_cert.pem',\n",
    "                                                   'client_key.pem'),\n",
    "                allow_none=True)\n"
   ]
  }
 ],
 "metadata": {
  "kernelspec": {
   "display_name": "Python 2",
   "language": "python",
   "name": "python2"
  },
  "language_info": {
   "codemirror_mode": {
    "name": "ipython",
    "version": 2
   },
   "file_extension": ".py",
   "mimetype": "text/x-python",
   "name": "python",
   "nbconvert_exporter": "python",
   "pygments_lexer": "ipython2",
   "version": "2.7.13"
  }
 },
 "nbformat": 4,
 "nbformat_minor": 2
}
