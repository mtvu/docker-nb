{
 "cells": [
  {
   "cell_type": "code",
   "execution_count": null,
   "metadata": {
    "collapsed": true
   },
   "outputs": [],
   "source": [
    "from socketserver import BaseRequestHandler, UDPServer\n",
    "import time\n",
    "\n",
    "class TimeHandler(BaseRequestHandler):\n",
    "    def handle(self):\n",
    "        print('Got connection from', self.client_address)\n",
    "        # Get message and client socket\n",
    "        msg, sock = self.request\n",
    "        resp = time.ctime()\n",
    "        sock.sendto(resp.encode('ascii'), self.client_address)\n",
    "\n",
    "if __name__ == '__main__':\n",
    "    serv = UDPServer(('', 20000), TimeHandler)\n",
    "    serv.serve_forever()"
   ]
  },
  {
   "cell_type": "code",
   "execution_count": null,
   "metadata": {
    "collapsed": true
   },
   "outputs": [],
   "source": [
    "from socket import socket, AF_INET, SOCK_DGRAM\n",
    "s = socket(AF_INET, SOCK_DGRAM)\n",
    "s.sendto(b'', ('localhost', 20000))\n",
    "\n",
    "s.recvfrom(8192)"
   ]
  },
  {
   "cell_type": "code",
   "execution_count": null,
   "metadata": {
    "collapsed": true
   },
   "outputs": [],
   "source": [
    "from socketserver import ThreadingUDPServer\n",
    "\n",
    "if __name__ == '__main__':\n",
    "    serv = ThreadingUDPServer(('',20000), TimeHandler)\n",
    "    serv.serve_forever()"
   ]
  },
  {
   "cell_type": "code",
   "execution_count": null,
   "metadata": {
    "collapsed": true
   },
   "outputs": [],
   "source": [
    "from socket import socket, AF_INET, SOCK_DGRAM\n",
    "import time\n",
    "\n",
    "def time_server(address):\n",
    "    sock = socket(AF_INET, SOCK_DGRAM)\n",
    "    sock.bind(address)\n",
    "    while True:\n",
    "        msg, addr = sock.recvfrom(8192)\n",
    "        print('Got message from', addr)\n",
    "        resp = time.ctime()\n",
    "        sock.sendto(resp.encode('ascii'), addr)\n",
    "\n",
    "if __name__ == '__main__':\n",
    "    time_server(('', 20000))"
   ]
  }
 ],
 "metadata": {
  "kernelspec": {
   "display_name": "Python 2",
   "language": "python",
   "name": "python2"
  },
  "language_info": {
   "codemirror_mode": {
    "name": "ipython",
    "version": 2
   },
   "file_extension": ".py",
   "mimetype": "text/x-python",
   "name": "python",
   "nbconvert_exporter": "python",
   "pygments_lexer": "ipython2",
   "version": "2.7.13"
  }
 },
 "nbformat": 4,
 "nbformat_minor": 2
}
