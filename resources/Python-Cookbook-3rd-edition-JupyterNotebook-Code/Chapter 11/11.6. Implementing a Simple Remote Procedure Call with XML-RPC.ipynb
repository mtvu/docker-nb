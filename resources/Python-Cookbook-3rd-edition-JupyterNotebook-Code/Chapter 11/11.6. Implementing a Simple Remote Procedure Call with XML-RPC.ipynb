{
 "cells": [
  {
   "cell_type": "code",
   "execution_count": null,
   "metadata": {
    "collapsed": true
   },
   "outputs": [],
   "source": [
    "from xmlrpc.server import SimpleXMLRPCServer\n",
    "\n",
    "class KeyValueServer:\n",
    "    _rpc_methods_ = ['get', 'set', 'delete', 'exists', 'keys']\n",
    "    def __init__(self, address):\n",
    "        self._data = {}\n",
    "        self._serv = SimpleXMLRPCServer(address, allow_none=True)\n",
    "        for name in self._rpc_methods_:\n",
    "            self._serv.register_function(getattr(self, name))\n",
    " \n",
    "    def get(self, name):\n",
    "        return self._data[name]\n",
    " \n",
    "    def set(self, name, value):\n",
    "        self._data[name] = value\n",
    " \n",
    "    def delete(self, name):\n",
    "        del self._data[name]\n",
    " \n",
    "    def exists(self, name):\n",
    "        return name in self._data\n",
    "    \n",
    "    def keys(self):\n",
    "        return list(self._data)\n",
    "    \n",
    "    def serve_forever(self):\n",
    "        self._serv.serve_forever()\n",
    "\n",
    "# Example\n",
    "if __name__ == '__main__':\n",
    "    kvserv = KeyValueServer(('', 15000))\n",
    "    kvserv.serve_forever()"
   ]
  },
  {
   "cell_type": "code",
   "execution_count": null,
   "metadata": {
    "collapsed": true
   },
   "outputs": [],
   "source": [
    "from xmlrpc.client import ServerProxy\n",
    "s = ServerProxy('http://localhost:15000', allow_none=True)\n",
    "s.set('foo', 'bar')\n",
    "s.set('spam', [1, 2, 3])\n",
    "s.keys()"
   ]
  },
  {
   "cell_type": "code",
   "execution_count": null,
   "metadata": {
    "collapsed": true
   },
   "outputs": [],
   "source": [
    "s.get('foo')"
   ]
  },
  {
   "cell_type": "code",
   "execution_count": null,
   "metadata": {
    "collapsed": true
   },
   "outputs": [],
   "source": [
    "s.get('spam')"
   ]
  },
  {
   "cell_type": "code",
   "execution_count": null,
   "metadata": {
    "collapsed": true
   },
   "outputs": [],
   "source": [
    "s.delete('spam')\n",
    "s.exists('spam')"
   ]
  },
  {
   "cell_type": "code",
   "execution_count": null,
   "metadata": {
    "collapsed": true
   },
   "outputs": [],
   "source": [
    "from xmlrpc.server import SimpleXMLRPCServer\n",
    "def add(x,y):\n",
    "    return x+y\n",
    "\n",
    "serv = SimpleXMLRPCServer(('', 15000))\n",
    "serv.register_function(add)\n",
    "serv.serve_forever()\n"
   ]
  },
  {
   "cell_type": "code",
   "execution_count": null,
   "metadata": {
    "collapsed": true
   },
   "outputs": [],
   "source": [
    "class Point:\n",
    "    def __init__(self, x, y):\n",
    "        self.x = x\n",
    "        self.y = y\n",
    "\n",
    "p = Point(2, 3)\n",
    "s.set('foo', p)\n",
    "s.get('foo')"
   ]
  },
  {
   "cell_type": "code",
   "execution_count": null,
   "metadata": {
    "collapsed": true
   },
   "outputs": [],
   "source": [
    "s.set('foo', b'Hello World')\n",
    "s.get('foo')"
   ]
  },
  {
   "cell_type": "code",
   "execution_count": null,
   "metadata": {
    "collapsed": true
   },
   "outputs": [],
   "source": [
    "_.data"
   ]
  }
 ],
 "metadata": {
  "kernelspec": {
   "display_name": "Python 2",
   "language": "python",
   "name": "python2"
  },
  "language_info": {
   "codemirror_mode": {
    "name": "ipython",
    "version": 2
   },
   "file_extension": ".py",
   "mimetype": "text/x-python",
   "name": "python",
   "nbconvert_exporter": "python",
   "pygments_lexer": "ipython2",
   "version": "2.7.13"
  }
 },
 "nbformat": 4,
 "nbformat_minor": 2
}
