{
 "cells": [
  {
   "cell_type": "code",
   "execution_count": null,
   "metadata": {},
   "outputs": [],
   "source": [
    "from urllib import request, parse\n",
    "\n",
    "# Base URL being accessed\n",
    "url = 'http://httpbin.org/get'\n",
    "\n",
    "# Dictionary of query parameters (if any)\n",
    "parms = {\n",
    "    'name1' : 'value1',\n",
    "    'name2' : 'value2'\n",
    "    }\n",
    "\n",
    "# Encode the query string\n",
    "querystring = parse.urlencode(parms)\n",
    "\n",
    "# Make a GET request and read the response\n",
    "u = request.urlopen(url+'?' + querystring)\n",
    "resp = u.read()"
   ]
  },
  {
   "cell_type": "code",
   "execution_count": null,
   "metadata": {},
   "outputs": [],
   "source": [
    "import sys\n",
    "!{sys.executable} - python -m pip install --upgrade pip\n"
   ]
  },
  {
   "cell_type": "code",
   "execution_count": null,
   "metadata": {
    "collapsed": true
   },
   "outputs": [],
   "source": [
    "from urllib import request, parse\n",
    "\n",
    "# Base URL being accessed\n",
    "url = 'http://httpbin.org/post'\n",
    "\n",
    "# Dictionary of query parameters (if any)\n",
    "parms = {\n",
    "    'name1' : 'value1',\n",
    "    'name2' : 'value2'\n",
    "    }\n",
    "\n",
    "# Encode the query string\n",
    "querystring = parse.urlencode(parms)\n",
    "\n",
    "# Make a POST request and read the response\n",
    "u = request.urlopen(url, querystring.encode('ascii'))\n",
    "resp = u.read()\n"
   ]
  },
  {
   "cell_type": "code",
   "execution_count": null,
   "metadata": {
    "collapsed": true
   },
   "outputs": [],
   "source": [
    "from urllib import request, parse\n",
    "\n",
    "# Extra headers\n",
    "headers = {\n",
    " 'User-agent' : 'none/ofyourbusiness',\n",
    " 'Spam' : 'Eggs'\n",
    "}\n",
    "\n",
    "req = request.Request(url, querystring.encode('ascii'), headers=headers)\n",
    "\n",
    "# Make a request and read the response\n",
    "u = request.urlopen(req)\n",
    "resp = u.read()\n"
   ]
  },
  {
   "cell_type": "code",
   "execution_count": null,
   "metadata": {
    "collapsed": true
   },
   "outputs": [],
   "source": [
    "import requests\n",
    "\n",
    "# Base URL being accessed\n",
    "url = 'http://httpbin.org/post'\n",
    "\n",
    "# Dictionary of query parameters (if any)\n",
    "parms = {\n",
    " 'name1' : 'value1',\n",
    " 'name2' : 'value2'\n",
    "}\n",
    "# Extra headers\n",
    "headers = {\n",
    " 'User-agent' : 'none/ofyourbusiness',\n",
    " 'Spam' : 'Eggs'\n",
    "}\n",
    "\n",
    "resp = requests.post(url, data=parms, headers=headers)\n",
    "\n",
    "# Decoded text returned by the request\n",
    "text = resp.text"
   ]
  },
  {
   "cell_type": "code",
   "execution_count": null,
   "metadata": {
    "collapsed": true
   },
   "outputs": [],
   "source": [
    "import requests\n",
    "\n",
    "resp = requests.head('http://www.python.org/index.html')\n",
    "\n",
    "status = resp.status_code\n",
    "last_modified = resp.headers['last-modified']\n",
    "content_type = resp.headers['content-type']\n",
    "content_length = resp.headers['content-length']"
   ]
  },
  {
   "cell_type": "code",
   "execution_count": null,
   "metadata": {
    "collapsed": true
   },
   "outputs": [],
   "source": [
    "import requests\n",
    "\n",
    "resp = requests.get('http://pypi.python.org/pypi?:action=login',\n",
    "                    auth=('user','password'))"
   ]
  },
  {
   "cell_type": "code",
   "execution_count": null,
   "metadata": {
    "collapsed": true
   },
   "outputs": [],
   "source": [
    "import requests\n",
    "# First request\n",
    "resp1 = requests.get(url)\n",
    "\n",
    "# Second requests with cookies received on first requests\n",
    "resp2 = requests.get(url, cookies=resp1.cookies)"
   ]
  },
  {
   "cell_type": "code",
   "execution_count": null,
   "metadata": {
    "collapsed": true
   },
   "outputs": [],
   "source": [
    "import requests\n",
    "url = 'http://httpbin.org/post'\n",
    "files = { 'file': ('data.csv', open('data.csv', 'rb')) }\n",
    "\n",
    "r = requests.post(url, files=files)"
   ]
  },
  {
   "cell_type": "code",
   "execution_count": null,
   "metadata": {
    "collapsed": true
   },
   "outputs": [],
   "source": [
    "from http.client import HTTPConnection\n",
    "from urllib import parse\n",
    "\n",
    "c = HTTPConnection('www.python.org', 80)\n",
    "c.request('HEAD', '/index.html')\n",
    "resp = c.getresponse()\n",
    "\n",
    "print('Status', resp.status)\n",
    "for name, value in resp.getheaders():\n",
    "    print(name, value)"
   ]
  },
  {
   "cell_type": "code",
   "execution_count": null,
   "metadata": {
    "collapsed": true
   },
   "outputs": [],
   "source": [
    "import urllib.request\n",
    "\n",
    "auth = urllib.request.HTTPBasicAuthHandler()\n",
    "auth.add_password('pypi','http://pypi.python.org','username','password')\n",
    "opener = urllib.request.build_opener(auth)\n",
    "\n",
    "r = urllib.request.Request('http://pypi.python.org/pypi?:action=login')\n",
    "u = opener.open(r)\n",
    "resp = u.read()"
   ]
  },
  {
   "cell_type": "code",
   "execution_count": null,
   "metadata": {
    "collapsed": true
   },
   "outputs": [],
   "source": [
    "import requests\n",
    "r = requests.get('http://httpbin.org/get?name=Dave&n=37',\n",
    "headers = { 'User-agent': 'goaway/1.0' })\n",
    "resp = r.json\n",
    "resp['headers']"
   ]
  },
  {
   "cell_type": "code",
   "execution_count": null,
   "metadata": {
    "collapsed": true
   },
   "outputs": [],
   "source": []
  }
 ],
 "metadata": {
  "kernelspec": {
   "display_name": "Python 2",
   "language": "python",
   "name": "python2"
  },
  "language_info": {
   "codemirror_mode": {
    "name": "ipython",
    "version": 2
   },
   "file_extension": ".py",
   "mimetype": "text/x-python",
   "name": "python",
   "nbconvert_exporter": "python",
   "pygments_lexer": "ipython2",
   "version": "2.7.13"
  }
 },
 "nbformat": 4,
 "nbformat_minor": 2
}
