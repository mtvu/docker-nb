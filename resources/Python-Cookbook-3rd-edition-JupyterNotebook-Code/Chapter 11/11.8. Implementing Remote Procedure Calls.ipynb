{
 "cells": [
  {
   "cell_type": "code",
   "execution_count": null,
   "metadata": {
    "collapsed": true
   },
   "outputs": [],
   "source": [
    "# rpcserver.py\n",
    "\n",
    "import pickle\n",
    "class RPCHandler:\n",
    "    def __init__(self):\n",
    "        self._functions = { }\n",
    "    \n",
    "    def register_function(self, func):\n",
    "        self._functions[func.__name__] = func\n",
    "\n",
    "    def handle_connection(self, connection):\n",
    "        try:\n",
    "            while True:\n",
    "                # Receive a message\n",
    "                func_name, args, kwargs = pickle.loads(connection.recv())\n",
    "                # Run the RPC and send a response\n",
    "            try:\n",
    "                r = self._functions[func_name](*args,**kwargs)\n",
    "                connection.send(pickle.dumps(r))\n",
    "            except Exception as e:\n",
    "                connection.send(pickle.dumps(e))\n",
    "        except EOFError:\n",
    "            pass\n"
   ]
  },
  {
   "cell_type": "code",
   "execution_count": null,
   "metadata": {
    "collapsed": true
   },
   "outputs": [],
   "source": [
    "from multiprocessing.connection import Listener\n",
    "from threading import Thread\n",
    "\n",
    "def rpc_server(handler, address, authkey):\n",
    "    sock = Listener(address, authkey=authkey)\n",
    "    while True:\n",
    "        client = sock.accept()\n",
    "        t = Thread(target=handler.handle_connection, args=(client,))\n",
    "        t.daemon = True\n",
    "        t.start()\n",
    "\n",
    "# Some remote functions\n",
    "def add(x, y):\n",
    "    return x + y\n",
    "\n",
    "def sub(x, y):\n",
    "    return x - y\n",
    "\n",
    "# Register with a handler\n",
    "handler = RPCHandler()\n",
    "handler.register_function(add)\n",
    "handler.register_function(sub)\n",
    "\n",
    "# Run the server\n",
    "rpc_server(handler, ('localhost', 17000), authkey=b'peekaboo')"
   ]
  },
  {
   "cell_type": "code",
   "execution_count": null,
   "metadata": {
    "collapsed": true
   },
   "outputs": [],
   "source": [
    "import pickle\n",
    "\n",
    "class RPCProxy:\n",
    "    def __init__(self, connection):\n",
    "        self._connection = connection\n",
    "    def __getattr__(self, name):\n",
    "        def do_rpc(*args, **kwargs):\n",
    "            self._connection.send(pickle.dumps((name, args, kwargs)))\n",
    "            result = pickle.loads(self._connection.recv())\n",
    "            if isinstance(result, Exception):\n",
    "                raise result\n",
    "            return result\n",
    "        return do_rpc\n"
   ]
  },
  {
   "cell_type": "code",
   "execution_count": null,
   "metadata": {
    "collapsed": true
   },
   "outputs": [],
   "source": [
    "from multiprocessing.connection import Client\n",
    "c = Client(('localhost', 17000), authkey=b'peekaboo')\n",
    "proxy = RPCProxy(c)\n",
    "proxy.add(2,3)"
   ]
  },
  {
   "cell_type": "code",
   "execution_count": null,
   "metadata": {
    "collapsed": true
   },
   "outputs": [],
   "source": [
    "proxy.sub([1,2], 4)"
   ]
  },
  {
   "cell_type": "code",
   "execution_count": null,
   "metadata": {
    "collapsed": true
   },
   "outputs": [],
   "source": [
    "# jsonrpcserver.py\n",
    "import json\n",
    "class RPCHandler:\n",
    "    def __init__(self):\n",
    "        self._functions = { }\n",
    "\n",
    "    def register_function(self, func):\n",
    "        self._functions[func.__name__] = func\n",
    " \n",
    "    def handle_connection(self, connection):\n",
    "        try:\n",
    "            while True:\n",
    "                # Receive a message\n",
    "                func_name, args, kwargs = json.loads(connection.recv())\n",
    "            # Run the RPC and send a response\n",
    "            try:\n",
    "                r = self._functions[func_name](*args,**kwargs)\n",
    "                connection.send(json.dumps(r))\n",
    "            except Exception as e:\n",
    "                connection.send(json.dumps(str(e)))\n",
    "        except EOFError:\n",
    "            pass\n",
    "\n",
    "# jsonrpcclient.py\n",
    "import json\n",
    "\n",
    "class RPCProxy:\n",
    "    def __init__(self, connection):\n",
    "        self._connection = connection\n",
    "    def __getattr__(self, name):\n",
    "        def do_rpc(*args, **kwargs):\n",
    "            self._connection.send(json.dumps((name, args, kwargs)))\n",
    "            result = json.loads(self._connection.recv())\n",
    "            return result\n",
    "    return do_rpc"
   ]
  }
 ],
 "metadata": {
  "kernelspec": {
   "display_name": "Python 2",
   "language": "python",
   "name": "python2"
  },
  "language_info": {
   "codemirror_mode": {
    "name": "ipython",
    "version": 2
   },
   "file_extension": ".py",
   "mimetype": "text/x-python",
   "name": "python",
   "nbconvert_exporter": "python",
   "pygments_lexer": "ipython2",
   "version": "2.7.13"
  }
 },
 "nbformat": 4,
 "nbformat_minor": 2
}
