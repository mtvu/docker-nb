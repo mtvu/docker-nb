{
 "cells": [
  {
   "cell_type": "code",
   "execution_count": null,
   "metadata": {},
   "outputs": [],
   "source": [
    "from socketserver import BaseRequestHandler, TCPServer\n",
    "\n",
    "class EchoHandler(BaseRequestHandler):\n",
    "    def handle(self):\n",
    "        print('Got connection from', self.client_address)\n",
    "        while True:\n",
    "            msg = self.request.recv(8192)\n",
    "            if not msg:\n",
    "                break\n",
    "            self.request.send(msg)\n",
    "\n",
    "if __name__ == '__main__':\n",
    "    serv = TCPServer(('', 20000), EchoHandler)\n",
    "    serv.serve_forever()"
   ]
  },
  {
   "cell_type": "code",
   "execution_count": null,
   "metadata": {},
   "outputs": [],
   "source": [
    "from socket import socket, AF_INET, SOCK_STREAM\n",
    "s = socket(AF_INET, SOCK_STREAM)\n",
    "s.connect(('localhost', 20000))\n",
    "s.send(b'Hello')"
   ]
  },
  {
   "cell_type": "code",
   "execution_count": null,
   "metadata": {
    "collapsed": true
   },
   "outputs": [],
   "source": [
    "s.recv(8192)"
   ]
  },
  {
   "cell_type": "code",
   "execution_count": null,
   "metadata": {
    "collapsed": true
   },
   "outputs": [],
   "source": [
    "from socketserver import StreamRequestHandler, TCPServer\n",
    "\n",
    "class EchoHandler(StreamRequestHandler):\n",
    "    def handle(self):\n",
    "        print('Got connection from', self.client_address)\n",
    "        # self.rfile is a file-like object for reading\n",
    "        for line in self.rfile:\n",
    "            # self.wfile is a file-like object for writing\n",
    "            self.wfile.write(line)\n",
    "\n",
    "if __name__ == '__main__':\n",
    "    serv = TCPServer(('', 20000), EchoHandler)\n",
    "    serv.serve_forever()"
   ]
  },
  {
   "cell_type": "code",
   "execution_count": null,
   "metadata": {
    "collapsed": true
   },
   "outputs": [],
   "source": [
    "from socketserver import ThreadingTCPServer\n",
    "\n",
    "if __name__ == '__main__':\n",
    "    serv = ThreadingTCPServer(('', 20000), EchoHandler)\n",
    "    serv.serve_forever()"
   ]
  },
  {
   "cell_type": "code",
   "execution_count": null,
   "metadata": {
    "collapsed": true
   },
   "outputs": [],
   "source": [
    "if __name__ == '__main__':\n",
    "    from threading import Thread\n",
    "    NWORKERS = 16\n",
    "    serv = TCPServer(('', 20000), EchoHandler)\n",
    "    for n in range(NWORKERS):\n",
    "        t = Thread(target=serv.serve_forever)\n",
    "        t.daemon = True\n",
    "        t.start()\n",
    "    serv.serve_forever()"
   ]
  },
  {
   "cell_type": "code",
   "execution_count": null,
   "metadata": {
    "collapsed": true
   },
   "outputs": [],
   "source": [
    "if __name__ == '__main__':\n",
    "    serv = TCPServer(('', 20000), EchoHandler, bind_and_activate=False)\n",
    "    # Set up various socket options\n",
    "    serv.socket.setsockopt(socket.SOL_SOCKET, socket.SO_REUSEADDR, True)\n",
    "    # Bind and activate\n",
    "    serv.server_bind()\n",
    "    serv.server_activate()\n",
    "    serv.serve_forever()"
   ]
  },
  {
   "cell_type": "code",
   "execution_count": null,
   "metadata": {
    "collapsed": true
   },
   "outputs": [],
   "source": [
    "if __name__ == '__main__':\n",
    "    TCPServer.allow_reuse_address = True\n",
    "    serv = TCPServer(('', 20000), EchoHandler)\n",
    "    serv.serve_forever()"
   ]
  },
  {
   "cell_type": "code",
   "execution_count": null,
   "metadata": {
    "collapsed": true
   },
   "outputs": [],
   "source": [
    "import socket\n",
    "\n",
    "class EchoHandler(StreamRequestHandler):\n",
    "    # Optional settings (defaults shown)\n",
    "    timeout = 5 # Timeout on all socket operations\n",
    "    rbufsize = -1 # Read buffer size\n",
    "    wbufsize = 0 # Write buffer size\n",
    "    disable_nagle_algorithm = False # Sets TCP_NODELAY socket option\n",
    "    def handle(self):\n",
    "        print('Got connection from', self.client_address)\n",
    "        try:\n",
    "            for line in self.rfile:\n",
    "                # self.wfile is a file-like object for writing\n",
    "                self.wfile.write(line)\n",
    "        except socket.timeout:\n",
    "            print('Timed out!')"
   ]
  },
  {
   "cell_type": "code",
   "execution_count": null,
   "metadata": {
    "collapsed": true
   },
   "outputs": [],
   "source": [
    "from socket import socket, AF_INET, SOCK_STREAM\n",
    "\n",
    "def echo_handler(address, client_sock):\n",
    "    print('Got connection from {}'.format(address))\n",
    "    while True:\n",
    "        msg = client_sock.recv(8192)\n",
    "        if not msg:\n",
    "            break\n",
    "        client_sock.sendall(msg)\n",
    "    client_sock.close()\n",
    "\n",
    "def echo_server(address, backlog=5):\n",
    "    sock = socket(AF_INET, SOCK_STREAM)\n",
    "    sock.bind(address)\n",
    "    sock.listen(backlog)\n",
    "    while True:\n",
    "        client_sock, client_addr = sock.accept()\n",
    "        echo_handler(client_addr, client_sock)\n",
    "        \n",
    "if __name__ == '__main__':\n",
    "    echo_server(('', 20000))"
   ]
  }
 ],
 "metadata": {
  "kernelspec": {
   "display_name": "Python 2",
   "language": "python",
   "name": "python2"
  },
  "language_info": {
   "codemirror_mode": {
    "name": "ipython",
    "version": 2
   },
   "file_extension": ".py",
   "mimetype": "text/x-python",
   "name": "python",
   "nbconvert_exporter": "python",
   "pygments_lexer": "ipython2",
   "version": "2.7.13"
  }
 },
 "nbformat": 4,
 "nbformat_minor": 2
}
