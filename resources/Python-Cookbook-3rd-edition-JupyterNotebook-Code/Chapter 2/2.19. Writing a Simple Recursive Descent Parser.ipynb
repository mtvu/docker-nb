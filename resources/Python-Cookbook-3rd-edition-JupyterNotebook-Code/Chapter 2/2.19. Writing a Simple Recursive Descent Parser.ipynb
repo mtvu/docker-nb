{
 "cells": [
  {
   "cell_type": "code",
   "execution_count": null,
   "metadata": {
    "collapsed": true
   },
   "outputs": [],
   "source": [
    "expr ::= expr + term\n",
    "        | expr - term\n",
    "        | term\n",
    "\n",
    "term ::= term * factor\n",
    "        | term / factor\n",
    "        | factor\n",
    " \n",
    "factor ::= ( expr )\n",
    "        | NUM\n"
   ]
  },
  {
   "cell_type": "code",
   "execution_count": null,
   "metadata": {
    "collapsed": true
   },
   "outputs": [],
   "source": [
    "expr ::= term { (+|-) term }*\n",
    "\n",
    "term ::= factor { (*|/) factor }*\n",
    "\n",
    "factor ::= ( expr )\n",
    "    | NUM\n"
   ]
  },
  {
   "cell_type": "code",
   "execution_count": null,
   "metadata": {
    "collapsed": true
   },
   "outputs": [],
   "source": [
    "NUM + NUM * NUM"
   ]
  },
  {
   "cell_type": "code",
   "execution_count": null,
   "metadata": {
    "collapsed": true
   },
   "outputs": [],
   "source": [
    "expr\n",
    "expr ::= term { (+|-) term }*\n",
    "expr ::= factor { (*|/) factor }* { (+|-) term }*\n",
    "expr ::= NUM { (*|/) factor }* { (+|-) term }*\n",
    "expr ::= NUM { (+|-) term }*\n",
    "expr ::= NUM + term { (+|-) term }*\n",
    "expr ::= NUM + factor { (*|/) factor }* { (+|-) term }*\n",
    "expr ::= NUM + NUM { (*|/) factor}* { (+|-) term }*\n",
    "expr ::= NUM + NUM * factor { (*|/) factor }* { (+|-) term }*\n",
    "expr ::= NUM + NUM * NUM { (*|/) factor }* { (+|-) term }*\n",
    "expr ::= NUM + NUM * NUM { (+|-) term }*\n",
    "expr ::= NUM + NUM * NUM\n"
   ]
  },
  {
   "cell_type": "code",
   "execution_count": null,
   "metadata": {
    "collapsed": true
   },
   "outputs": [],
   "source": [
    "import re\n",
    "import collections"
   ]
  },
  {
   "cell_type": "code",
   "execution_count": null,
   "metadata": {
    "collapsed": true
   },
   "outputs": [],
   "source": [
    "NUM = r'(?P<NUM>\\d+)'\n",
    "PLUS = r'(?P<PLUS>\\+)'\n",
    "MINUS = r'(?P<MINUS>-)'\n",
    "TIMES = r'(?P<TIMES>\\*)'\n",
    "DIVIDE = r'(?P<DIVIDE>/)'\n",
    "LPAREN = r'(?P<LPAREN>\\()'\n",
    "RPAREN = r'(?P<RPAREN>\\))'\n",
    "WS = r'(?P<WS>\\s+)'\n",
    "\n",
    "master_pat = re.compile('|'.join([NUM, PLUS, MINUS, TIMES,\n",
    " DIVIDE, LPAREN, RPAREN, WS]))\n"
   ]
  },
  {
   "cell_type": "code",
   "execution_count": 4,
   "metadata": {},
   "outputs": [
    {
     "ename": "IndentationError",
     "evalue": "unexpected indent (<ipython-input-4-e4c058181c72>, line 5)",
     "output_type": "error",
     "traceback": [
      "\u001b[1;36m  File \u001b[1;32m\"<ipython-input-4-e4c058181c72>\"\u001b[1;36m, line \u001b[1;32m5\u001b[0m\n\u001b[1;33m    for m in iter(scanner.match, None):\u001b[0m\n\u001b[1;37m    ^\u001b[0m\n\u001b[1;31mIndentationError\u001b[0m\u001b[1;31m:\u001b[0m unexpected indent\n"
     ]
    }
   ],
   "source": [
    "Token = collections.namedtuple('Token', ['type','value'])\n",
    "\n",
    "def generate_tokens(text):\n",
    "    scanner = master_pat.scanner(text)\n",
    "     for m in iter(scanner.match, None):\n",
    "        tok = Token(m.lastgroup, m.group())\n",
    "        if tok.type != 'WS':\n",
    "            yield tok"
   ]
  },
  {
   "cell_type": "code",
   "execution_count": 5,
   "metadata": {
    "collapsed": true
   },
   "outputs": [],
   "source": [
    "class ExpressionEvaluator:\n",
    " '''\n",
    " Implementation of a recursive descent parser. Each method\n",
    " implements a single grammar rule. Use the ._accept() method\n",
    " to test and accept the current lookahead token. Use the ._expect()\n",
    " method to exactly match and discard the next token on on the input\n",
    " (or raise a SyntaxError if it doesn't match).\n",
    " '''\n",
    " def parse(self,text):\n",
    "    self.tokens = generate_tokens(text)\n",
    "    self.tok = None # Last symbol consumed\n",
    "    self.nexttok = None # Next symbol tokenized\n",
    "    self._advance() # Load first lookahead token\n",
    "    return self.expr()\n",
    " \n",
    "def _advance(self):\n",
    "    'Advance one token ahead'\n",
    "    self.tok, self.nexttok = self.nexttok, next(self.tokens, None)\n",
    "\n",
    "def _accept(self,toktype):\n",
    "    'Test and consume the next token if it matches toktype'\n",
    "    if self.nexttok and self.nexttok.type == toktype:\n",
    "        self._advance()\n",
    "        return True\n",
    "    else:\n",
    "        return False\n",
    "    \n",
    "def _expect(self,toktype):\n",
    "    'Consume next token if it matches toktype or raise SyntaxError'\n",
    "    if not self._accept(toktype):\n",
    "        raise SyntaxError('Expected ' + toktype)\n",
    "\n",
    "# Grammar rules follow\n",
    "def expr(self):\n",
    "    \"expression ::= term { ('+'|'-') term }*\"\n",
    "    exprval = self.term()\n",
    "    while self._accept('PLUS') or self._accept('MINUS'):\n",
    "        op = self.tok.type\n",
    "        right = self.term()\n",
    "        if op == 'PLUS':\n",
    "            exprval += right\n",
    "        elif op == 'MINUS':\n",
    "            exprval -= right\n",
    "    return exprval\n",
    "\n",
    "def term(self):\n",
    "    \"term ::= factor { ('*'|'/') factor }*\"\n",
    "    termval = self.factor()\n",
    "    while self._accept('TIMES') or self._accept('DIVIDE'):\n",
    "        op = self.tok.type\n",
    "        right = self.factor()\n",
    "        if op == 'TIMES':\n",
    "            termval *= right\n",
    "        elif op == 'DIVIDE':\n",
    "            termval /= right\n",
    "    return termval\n",
    "\n",
    "def factor(self):\n",
    "    \"factor ::= NUM | ( expr )\"\n",
    "    if self._accept('NUM'):\n",
    "        return int(self.tok.value)\n",
    "    elif self._accept('LPAREN'):\n",
    "        exprval = self.expr()\n",
    "        self._expect('RPAREN')\n",
    "        return exprval\n",
    "    else:\n",
    "        raise SyntaxError('Expected NUMBER or LPAREN')\n"
   ]
  },
  {
   "cell_type": "code",
   "execution_count": null,
   "metadata": {},
   "outputs": [],
   "source": [
    "e = ExpressionEvaluator()\n",
    "e.parse('2')\n",
    "e.parse('2 + 3')\n",
    "e.parse('2 + 3 * 4')\n",
    "e.parse('2 + (3 + 4) * 5')\n",
    "e.parse('2 + (3 + * 4)')"
   ]
  },
  {
   "cell_type": "code",
   "execution_count": null,
   "metadata": {
    "collapsed": true
   },
   "outputs": [],
   "source": [
    "class ExpressionTreeBuilder(ExpressionEvaluator):\n",
    "    def expr(self):\n",
    "    \"expression ::= term { ('+'|'-') term }\"\n",
    "    exprval = self.term()\n",
    "    while self._accept('PLUS') or self._accept('MINUS'):\n",
    "        op = self.tok.type\n",
    "        right = self.term()\n",
    "        if op == 'PLUS':\n",
    "            exprval = ('+', exprval, right)\n",
    "        elif op == 'MINUS':\n",
    "            exprval = ('-', exprval, right)\n",
    "    return exprval\n",
    "\n",
    "\n",
    "def term(self):\n",
    "    \"term ::= factor { ('*'|'/') factor }\"\n",
    "    termval = self.factor()\n",
    "    while self._accept('TIMES') or self._accept('DIVIDE'):\n",
    "        op = self.tok.type\n",
    "        right = self.factor()\n",
    "        if op == 'TIMES':\n",
    "            termval = ('*', termval, right)\n",
    "        elif op == 'DIVIDE':\n",
    "            termval = ('/', termval, right)\n",
    "    return termval\n",
    "\n",
    "\n",
    "def factor(self):\n",
    "    'factor ::= NUM | ( expr )'\n",
    "    if self._accept('NUM'):\n",
    "        return int(self.tok.value)\n",
    "    elif self._accept('LPAREN'):\n",
    "        exprval = self.expr()\n",
    "        self._expect('RPAREN')\n",
    "        return exprval\n",
    "    else:\n",
    "        raise SyntaxError('Expected NUMBER or LPAREN')"
   ]
  },
  {
   "cell_type": "code",
   "execution_count": null,
   "metadata": {
    "collapsed": true
   },
   "outputs": [],
   "source": [
    "e = ExpressionTreeBuilder()\n",
    "e.parse('2 + 3')\n",
    "e.parse('2 + 3 * 4')\n",
    "e.parse('2 + (3 + 4) * 5')\n",
    "e.parse('2 + 3 + 4')"
   ]
  },
  {
   "cell_type": "code",
   "execution_count": null,
   "metadata": {
    "collapsed": true
   },
   "outputs": [],
   "source": [
    "expr ::= term { ('+'|'-') term }*\n",
    "\n",
    "term ::= factor { ('*'|'/') factor }*\n",
    "\n",
    "factor ::= '(' expr ')'\n",
    "    | NUM\n"
   ]
  },
  {
   "cell_type": "code",
   "execution_count": null,
   "metadata": {
    "collapsed": true
   },
   "outputs": [],
   "source": [
    "items ::= items ',' item\n",
    "    | item"
   ]
  },
  {
   "cell_type": "code",
   "execution_count": null,
   "metadata": {
    "collapsed": true
   },
   "outputs": [],
   "source": [
    "def items(self):\n",
    "    itemsval = self.items()\n",
    "    if itemsval and self._accept(','):\n",
    "        itemsval.append(self.item())\n",
    "    else:\n",
    "        itemsval = [ self.item() ]"
   ]
  },
  {
   "cell_type": "code",
   "execution_count": null,
   "metadata": {
    "collapsed": true
   },
   "outputs": [],
   "source": [
    "expr ::= factor { ('+'|'-'|'*'|'/') factor }*\n",
    "\n",
    "factor ::= '(' expression ')'\n",
    "    | NUM\n"
   ]
  },
  {
   "cell_type": "code",
   "execution_count": null,
   "metadata": {},
   "outputs": [],
   "source": [
    "from ply.lex import lex\n",
    "from ply.yacc import yacc\n",
    "\n",
    "# Token list\n",
    "tokens = [ 'NUM', 'PLUS', 'MINUS', 'TIMES', 'DIVIDE', 'LPAREN', 'RPAREN' ]\n",
    "\n",
    "# Ignored characters\n",
    "t_ignore = ' \\t\\n'\n",
    "\n",
    "# Token specifications (as regexs)\n",
    "t_PLUS = r'\\+'\n",
    "t_MINUS = r'-'\n",
    "t_TIMES = r'\\*'\n",
    "t_DIVIDE = r'/'\n",
    "t_LPAREN = r'\\('\n",
    "t_RPAREN = r'\\)'\n",
    "\n",
    "# Token processing functions\n",
    "def t_NUM(t):\n",
    "    r'\\d+'\n",
    "    t.value = int(t.value)\n",
    "    return t\n",
    "\n",
    "# Error handler\n",
    "def t_error(t):\n",
    "    print('Bad character: {!r}'.format(t.value[0]))\n",
    "    t.skip(1)\n",
    "    # Build the lexer\n",
    "    lexer = lex()\n",
    "\n",
    "# Grammar rules and handler functions\n",
    "def p_expr(p):\n",
    "    '''\n",
    "     expr : expr PLUS term\n",
    "     | expr MINUS term\n",
    "    '''\n",
    "    if p[2] == '+':\n",
    "        p[0] = p[1] + p[3]\n",
    "    elif p[2] == '-':\n",
    "        p[0] = p[1] - p[3]\n",
    "\n",
    "        \n",
    "def p_expr_term(p):\n",
    "     '''\n",
    "     expr : term\n",
    "     '''\n",
    "    p[0] = p[1]\n",
    "\n",
    "def p_term(p):\n",
    "     '''\n",
    "     term : term TIMES factor\n",
    "     | term DIVIDE factor\n",
    "     '''\n",
    "    if p[2] == '*':\n",
    "        p[0] = p[1] * p[3]\n",
    "    elif p[2] == '/':\n",
    "        p[0] = p[1] / p[3]\n",
    "\n",
    "def p_term_factor(p):\n",
    "    '''\n",
    "    term : factor\n",
    "     '''\n",
    "    p[0] = p[1]\n",
    "\n",
    "def p_factor(p):\n",
    "    '''\n",
    "    factor : NUM\n",
    "    '''\n",
    "    p[0] = p[1]\n",
    "    \n",
    "    \n",
    "def p_factor_group(p):\n",
    "    '''\n",
    "    \n",
    "    factor : LPAREN expr RPAREN\n",
    "    '''\n",
    "    p[0] = p[2]\n",
    "    \n",
    "def p_error(p):\n",
    "    print('Syntax error')\n",
    "\n",
    "parser = yacc()\n"
   ]
  },
  {
   "cell_type": "code",
   "execution_count": null,
   "metadata": {
    "collapsed": true
   },
   "outputs": [],
   "source": []
  }
 ],
 "metadata": {
  "kernelspec": {
   "display_name": "Python 2",
   "language": "python",
   "name": "python2"
  },
  "language_info": {
   "codemirror_mode": {
    "name": "ipython",
    "version": 2
   },
   "file_extension": ".py",
   "mimetype": "text/x-python",
   "name": "python",
   "nbconvert_exporter": "python",
   "pygments_lexer": "ipython2",
   "version": "2.7.13"
  }
 },
 "nbformat": 4,
 "nbformat_minor": 2
}
