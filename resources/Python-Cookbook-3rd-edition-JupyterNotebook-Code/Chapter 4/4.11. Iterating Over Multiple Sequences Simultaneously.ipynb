{
 "cells": [
  {
   "cell_type": "code",
   "execution_count": 1,
   "metadata": {},
   "outputs": [
    {
     "name": "stdout",
     "output_type": "stream",
     "text": [
      "(1, 101)\n",
      "(5, 78)\n",
      "(4, 37)\n",
      "(2, 15)\n",
      "(10, 62)\n",
      "(7, 99)\n"
     ]
    }
   ],
   "source": [
    "xpts = [1, 5, 4, 2, 10, 7]\n",
    "ypts = [101, 78, 37, 15, 62, 99]\n",
    "\n",
    "for x, y in zip(xpts, ypts):\n",
    "    print(x,y)"
   ]
  },
  {
   "cell_type": "code",
   "execution_count": 2,
   "metadata": {},
   "outputs": [
    {
     "name": "stdout",
     "output_type": "stream",
     "text": [
      "(1, 'w')\n",
      "(2, 'x')\n",
      "(3, 'y')\n"
     ]
    }
   ],
   "source": [
    "a = [1, 2, 3]\n",
    "b = ['w', 'x', 'y', 'z']\n",
    "\n",
    "for i in zip(a,b):\n",
    "    print(i)"
   ]
  },
  {
   "cell_type": "code",
   "execution_count": null,
   "metadata": {},
   "outputs": [],
   "source": [
    "#Python 3\n",
    "from itertools import zip_longest\n",
    "\n",
    "for i in zip_longest(a,b):\n",
    "    print(i)\n",
    "    \n",
    "\n",
    "for i in zip_longest(a, b, fillvalue=0):\n",
    "    print(i)"
   ]
  },
  {
   "cell_type": "code",
   "execution_count": 8,
   "metadata": {},
   "outputs": [
    {
     "name": "stdout",
     "output_type": "stream",
     "text": [
      "(1, 10, 'x')\n",
      "(2, 11, 'y')\n",
      "(3, 12, 'z')\n"
     ]
    }
   ],
   "source": [
    "a = [1, 2, 3]\n",
    "b = [10, 11, 12]\n",
    "c = ['x','y','z']\n",
    "\n",
    "for i in zip(a, b, c):\n",
    "    print(i)"
   ]
  },
  {
   "cell_type": "code",
   "execution_count": 9,
   "metadata": {},
   "outputs": [
    {
     "data": {
      "text/plain": [
       "[(1, 10), (2, 11), (3, 12)]"
      ]
     },
     "execution_count": 9,
     "metadata": {},
     "output_type": "execute_result"
    }
   ],
   "source": [
    "zip(a,b)"
   ]
  },
  {
   "cell_type": "code",
   "execution_count": null,
   "metadata": {
    "collapsed": true
   },
   "outputs": [],
   "source": []
  }
 ],
 "metadata": {
  "kernelspec": {
   "display_name": "Python 2",
   "language": "python",
   "name": "python2"
  },
  "language_info": {
   "codemirror_mode": {
    "name": "ipython",
    "version": 2
   },
   "file_extension": ".py",
   "mimetype": "text/x-python",
   "name": "python",
   "nbconvert_exporter": "python",
   "pygments_lexer": "ipython2",
   "version": "2.7.13"
  }
 },
 "nbformat": 4,
 "nbformat_minor": 2
}
