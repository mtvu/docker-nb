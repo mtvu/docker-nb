{
 "cells": [
  {
   "cell_type": "code",
   "execution_count": null,
   "metadata": {
    "collapsed": true
   },
   "outputs": [],
   "source": [
    "import types\n",
    "\n",
    "class Node:\n",
    "    pass\n",
    "\n",
    "import types\n",
    "class NodeVisitor:\n",
    "    def visit(self, node):\n",
    "        stack = [ node ]\n",
    "        last_result = None\n",
    "        while stack:\n",
    "            try:\n",
    "                last = stack[-1]\n",
    "                if isinstance(last, types.GeneratorType):\n",
    "                    stack.append(last.send(last_result))\n",
    "                    last_result = None\n",
    "                elif isinstance(last, Node):\n",
    "                    stack.append(self._visit(stack.pop()))\n",
    "                else:\n",
    "                    last_result = stack.pop()\n",
    "            except StopIteration:\n",
    "                stack.pop()\n",
    "        return last_result\n",
    "    \n",
    "    def _visit(self, node):\n",
    "        methname = 'visit_' + type(node).__name__\n",
    "        meth = getattr(self, methname, None)\n",
    "        if meth is None:\n",
    "            meth = self.generic_visit\n",
    "        return meth(node)\n",
    " \n",
    "    def generic_visit(self, node):\n",
    "        raise RuntimeError('No {} method'.format('visit_' + type(node).__name__))"
   ]
  },
  {
   "cell_type": "code",
   "execution_count": null,
   "metadata": {
    "collapsed": true
   },
   "outputs": [],
   "source": [
    "class UnaryOperator(Node):\n",
    "    def __init__(self, operand):\n",
    "        self.operand = operand\n",
    "\n",
    "class BinaryOperator(Node):\n",
    "    def __init__(self, left, right):\n",
    "        self.left = left\n",
    "        self.right = right\n",
    "\n",
    "class Add(BinaryOperator):\n",
    "    pass\n",
    "\n",
    "class Sub(BinaryOperator):\n",
    "    pass\n",
    "\n",
    "class Mul(BinaryOperator):\n",
    "    pass\n",
    "\n",
    "class Div(BinaryOperator):\n",
    "    pass\n",
    "\n",
    "class Negate(UnaryOperator):\n",
    "    pass\n",
    "\n",
    "class Number(Node):\n",
    "    def __init__(self, value):\n",
    "        self.value = value\n",
    "\n",
    "# A sample visitor class that evaluates expressions\n",
    "class Evaluator(NodeVisitor):\n",
    "    def visit_Number(self, node):\n",
    "        return node.value\n",
    "    \n",
    "    def visit_Add(self, node):\n",
    "        return self.visit(node.left) + self.visit(node.right)\n",
    "    \n",
    "    def visit_Sub(self, node):\n",
    "        return self.visit(node.left) - self.visit(node.right)\n",
    " \n",
    "    def visit_Mul(self, node):\n",
    "        return self.visit(node.left) * self.visit(node.right)\n",
    " \n",
    "    def visit_Div(self, node):\n",
    "        return self.visit(node.left) / self.visit(node.right)\n",
    " \n",
    "    def visit_Negate(self, node):\n",
    "        return -self.visit(node.operand)\n",
    "\n",
    "    \n",
    "if __name__ == '__main__':\n",
    "    # 1 + 2*(3-4) / 5\n",
    "    t1 = Sub(Number(3), Number(4))\n",
    "    t2 = Mul(Number(2), t1)\n",
    "    t3 = Div(t2, Number(5))\n",
    "    t4 = Add(Number(1), t3)\n",
    " \n",
    "    # Evaluate it\n",
    "    e = Evaluator()\n",
    "    print(e.visit(t4)) # Outputs 0.6"
   ]
  },
  {
   "cell_type": "code",
   "execution_count": null,
   "metadata": {
    "collapsed": true
   },
   "outputs": [],
   "source": [
    "a = Number(0)\n",
    "for n in range(1, 100000):\n",
    "    a = Add(a, Number(n))\n",
    "\n",
    "e = Evaluator()\n",
    "e.visit(a)"
   ]
  },
  {
   "cell_type": "code",
   "execution_count": null,
   "metadata": {
    "collapsed": true
   },
   "outputs": [],
   "source": [
    "class Evaluator(NodeVisitor):\n",
    "    def visit_Number(self, node):\n",
    "        return node.value\n",
    " \n",
    "    def visit_Add(self, node):\n",
    "        yield (yield node.left) + (yield node.right)\n",
    " \n",
    "    def visit_Sub(self, node):\n",
    "        yield (yield node.left) - (yield node.right)\n",
    "        \n",
    "    def visit_Mul(self, node):\n",
    "        yield (yield node.left) * (yield node.right)\n",
    " \n",
    "    def visit_Div(self, node):\n",
    "        yield (yield node.left) / (yield node.right)\n",
    " \n",
    "    def visit_Negate(self, node):\n",
    "        yield -(yield node.operand)"
   ]
  },
  {
   "cell_type": "code",
   "execution_count": null,
   "metadata": {
    "collapsed": true
   },
   "outputs": [],
   "source": [
    "a = Number(0)\n",
    "for n in range(1,100000):\n",
    "    a = Add(a, Number(n))\n",
    "\n",
    "e = Evaluator()\n",
    "e.visit(a)"
   ]
  },
  {
   "cell_type": "code",
   "execution_count": null,
   "metadata": {
    "collapsed": true
   },
   "outputs": [],
   "source": [
    "class Evaluator(NodeVisitor):\n",
    " \n",
    "    def visit_Add(self, node):\n",
    "        print('Add:', node)\n",
    "        lhs = yield node.left\n",
    "        print('left=', lhs)\n",
    "        rhs = yield node.right\n",
    "        print('right=', rhs)\n",
    "        yield lhs + rhs"
   ]
  },
  {
   "cell_type": "code",
   "execution_count": null,
   "metadata": {
    "collapsed": true
   },
   "outputs": [],
   "source": [
    "e = Evaluator()\n",
    "e.visit(t4)"
   ]
  },
  {
   "cell_type": "code",
   "execution_count": null,
   "metadata": {
    "collapsed": true
   },
   "outputs": [],
   "source": [
    "value = self.visit(node.left)"
   ]
  },
  {
   "cell_type": "code",
   "execution_count": null,
   "metadata": {
    "collapsed": true
   },
   "outputs": [],
   "source": [
    "value = yield node.left"
   ]
  },
  {
   "cell_type": "code",
   "execution_count": null,
   "metadata": {
    "collapsed": true
   },
   "outputs": [],
   "source": [
    "value = yield node.left"
   ]
  },
  {
   "cell_type": "code",
   "execution_count": null,
   "metadata": {
    "collapsed": true
   },
   "outputs": [],
   "source": [
    "try:\n",
    "    last = stack[-1]\n",
    "    if isinstance(last, types.GeneratorType):\n",
    "        stack.append(last.send(last_result))\n",
    "        last_result = None\n",
    "    elif isinstance(last, Node):\n",
    "        stack.append(self._visit(stack.pop()))\n",
    "    else:\n",
    "        last_result = stack.pop()\n",
    "\n",
    "except StopIteration:\n",
    "    stack.pop()"
   ]
  },
  {
   "cell_type": "code",
   "execution_count": null,
   "metadata": {
    "collapsed": true
   },
   "outputs": [],
   "source": [
    "class Visit:\n",
    "    def __init__(self, node):\n",
    "        self.node = node\n",
    "\n",
    "\n",
    "class NodeVisitor:\n",
    "    def visit(self, node):\n",
    "        stack = [ Visit(node) ]\n",
    "        last_result = None\n",
    "    while stack:\n",
    "        try:\n",
    "            last = stack[-1]\n",
    "            if isinstance(last, types.GeneratorType):\n",
    "                stack.append(last.send(last_result))\n",
    "                last_result = None\n",
    "            elif isinstance(last, Visit):\n",
    "                stack.append(self._visit(stack.pop().node))\n",
    "            else:\n",
    "                last_result = stack.pop()\n",
    "        except StopIteration:\n",
    "            stack.pop()\n",
    "        return last_result\n",
    " \n",
    "    def _visit(self, node):\n",
    "        methname = 'visit_' + type(node).__name__\n",
    "        meth = getattr(self, methname, None)\n",
    "        if meth is None:\n",
    "            meth = self.generic_visit\n",
    "        return meth(node)\n",
    " \n",
    "    def generic_visit(self, node):\n",
    "        raise RuntimeError('No {} method'.format('visit_' + type(node).__name__))"
   ]
  },
  {
   "cell_type": "code",
   "execution_count": null,
   "metadata": {
    "collapsed": true
   },
   "outputs": [],
   "source": [
    "class Evaluator(NodeVisitor):\n",
    "    def visit_Add(self, node):\n",
    "        yield (yield Visit(node.left)) + (yield Visit(node.right))\n",
    "    \n",
    "    def visit_Sub(self, node):\n",
    "        yield (yield Visit(node.left)) - (yield Visit(node.right))"
   ]
  },
  {
   "cell_type": "code",
   "execution_count": null,
   "metadata": {
    "collapsed": true
   },
   "outputs": [],
   "source": []
  }
 ],
 "metadata": {
  "kernelspec": {
   "display_name": "Python 2",
   "language": "python",
   "name": "python2"
  },
  "language_info": {
   "codemirror_mode": {
    "name": "ipython",
    "version": 2
   },
   "file_extension": ".py",
   "mimetype": "text/x-python",
   "name": "python",
   "nbconvert_exporter": "python",
   "pygments_lexer": "ipython2",
   "version": "2.7.13"
  }
 },
 "nbformat": 4,
 "nbformat_minor": 2
}
