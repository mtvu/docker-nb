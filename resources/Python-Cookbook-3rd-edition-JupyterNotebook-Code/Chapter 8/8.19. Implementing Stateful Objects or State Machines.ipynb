{
 "cells": [
  {
   "cell_type": "code",
   "execution_count": null,
   "metadata": {
    "collapsed": true
   },
   "outputs": [],
   "source": [
    "class Connection:\n",
    "    def __init__(self):\n",
    "        self.state = 'CLOSED'\n",
    " \n",
    "    def read(self):\n",
    "        if self.state != 'OPEN':\n",
    "            raise RuntimeError('Not open')\n",
    "        print('reading')\n",
    " \n",
    "    def write(self, data):\n",
    "        if self.state != 'OPEN':\n",
    "            raise RuntimeError('Not open')\n",
    "        print('writing')\n",
    " \n",
    "    def open(self):\n",
    "        if self.state == 'OPEN':\n",
    "            raise RuntimeError('Already open')\n",
    "        self.state = 'OPEN'\n",
    " \n",
    "    def close(self):\n",
    "        if self.state == 'CLOSED':\n",
    "            raise RuntimeError('Already closed')\n",
    "        self.state = 'CLOSED'"
   ]
  },
  {
   "cell_type": "code",
   "execution_count": 1,
   "metadata": {
    "collapsed": true
   },
   "outputs": [],
   "source": [
    "class Connection:\n",
    "    def __init__(self):\n",
    "        self.new_state(ClosedConnectionState)\n",
    " \n",
    "    def new_state(self, newstate):\n",
    "        self._state = newstate\n",
    " \n",
    "    # Delegate to the state class\n",
    "    def read(self):\n",
    "        return self._state.read(self)\n",
    " \n",
    "    def write(self, data):\n",
    "        return self._state.write(self, data)\n",
    " \n",
    "    def open(self):\n",
    "        return self._state.open(self)\n",
    "    \n",
    "    def close(self):\n",
    "        return self._state.close(self)\n",
    "\n",
    "    \n",
    "# Connection state base class\n",
    "class ConnectionState:\n",
    "    @staticmethod\n",
    "    def read(conn):\n",
    "        raise NotImplementedError()\n",
    " \n",
    "    @staticmethod\n",
    "    def write(conn, data):\n",
    "        raise NotImplementedError()\n",
    " \n",
    "    @staticmethod\n",
    "    def open(conn):\n",
    "        raise NotImplementedError()\n",
    " \n",
    "    @staticmethod\n",
    "    def close(conn):\n",
    "        raise NotImplementedError()\n",
    "\n",
    "        \n",
    "# Implementation of different states\n",
    "class ClosedConnectionState(ConnectionState):\n",
    "    @staticmethod\n",
    "    def read(conn):\n",
    "        raise RuntimeError('Not open')\n",
    " \n",
    "    @staticmethod\n",
    "    def write(conn, data):\n",
    "        raise RuntimeError('Not open')\n",
    "\n",
    "    @staticmethod\n",
    "    def open(conn):\n",
    "        conn.new_state(OpenConnectionState)\n",
    " \n",
    "    @staticmethod\n",
    "    def close(conn):\n",
    "        raise RuntimeError('Already closed')\n",
    "\n",
    "\n",
    "class OpenConnectionState(ConnectionState):\n",
    "    @staticmethod\n",
    "    def read(conn):\n",
    "        print('reading')\n",
    " \n",
    "    @staticmethod\n",
    "    def write(conn, data):\n",
    "        print('writing')\n",
    " \n",
    "    @staticmethod\n",
    "    def open(conn):\n",
    "        raise RuntimeError('Already open')\n",
    " \n",
    "    @staticmethod\n",
    "    def close(conn):\n",
    "        conn.new_state(ClosedConnectionState)"
   ]
  },
  {
   "cell_type": "code",
   "execution_count": null,
   "metadata": {
    "collapsed": true
   },
   "outputs": [],
   "source": [
    "c = Connection()\n",
    "c._state\n",
    "\n",
    "c.read()"
   ]
  },
  {
   "cell_type": "code",
   "execution_count": null,
   "metadata": {
    "collapsed": true
   },
   "outputs": [],
   "source": [
    "c.open()\n",
    "c._state"
   ]
  },
  {
   "cell_type": "code",
   "execution_count": null,
   "metadata": {
    "collapsed": true
   },
   "outputs": [],
   "source": [
    "c.read()"
   ]
  },
  {
   "cell_type": "code",
   "execution_count": null,
   "metadata": {
    "collapsed": true
   },
   "outputs": [],
   "source": [
    "c.write('hello')"
   ]
  },
  {
   "cell_type": "code",
   "execution_count": null,
   "metadata": {
    "collapsed": true
   },
   "outputs": [],
   "source": [
    "c.close()\n",
    "c._state"
   ]
  },
  {
   "cell_type": "code",
   "execution_count": null,
   "metadata": {
    "collapsed": true
   },
   "outputs": [],
   "source": [
    "class Connection:\n",
    "    def __init__(self):\n",
    "        self.new_state(ClosedConnection)\n",
    " \n",
    "    def new_state(self, newstate):\n",
    "        self.__class__ = newstate\n",
    "         \n",
    "    def read(self):\n",
    "        raise NotImplementedError()\n",
    " \n",
    "    def write(self, data):\n",
    "        raise NotImplementedError()\n",
    " \n",
    "    def open(self):\n",
    "        raise NotImplementedError()\n",
    " \n",
    "    def close(self):\n",
    "        raise NotImplementedError()\n",
    "\n",
    "        \n",
    "class ClosedConnection(Connection):\n",
    "    def read(self):\n",
    "        raise RuntimeError('Not open')\n",
    "\n",
    "    def write(self, data):\n",
    "        raise RuntimeError('Not open')\n",
    " \n",
    "    def open(self):\n",
    "        self.new_state(OpenConnection)\n",
    "\n",
    "    def close(self):\n",
    "        raise RuntimeError('Already closed')\n",
    "\n",
    "        \n",
    "class OpenConnection(Connection):\n",
    "    def read(self):\n",
    "        print('reading')\n",
    "    \n",
    "    def write(self, data):\n",
    "        print('writing')\n",
    " \n",
    "    def open(self):\n",
    "        raise RuntimeError('Already open')\n",
    "    \n",
    "    def close(self):\n",
    "        self.new_state(ClosedConnection)"
   ]
  },
  {
   "cell_type": "code",
   "execution_count": null,
   "metadata": {
    "collapsed": true
   },
   "outputs": [],
   "source": [
    "c = Connection()\n",
    "c"
   ]
  },
  {
   "cell_type": "code",
   "execution_count": null,
   "metadata": {
    "collapsed": true
   },
   "outputs": [],
   "source": [
    "c"
   ]
  },
  {
   "cell_type": "code",
   "execution_count": null,
   "metadata": {
    "collapsed": true
   },
   "outputs": [],
   "source": [
    "c.read()"
   ]
  },
  {
   "cell_type": "code",
   "execution_count": null,
   "metadata": {
    "collapsed": true
   },
   "outputs": [],
   "source": [
    "c.close()\n",
    "c"
   ]
  },
  {
   "cell_type": "code",
   "execution_count": null,
   "metadata": {
    "collapsed": true
   },
   "outputs": [],
   "source": [
    "# Original implementation\n",
    "class State:\n",
    "    def __init__(self):\n",
    "        self.state = 'A'\n",
    " \n",
    "    def action(self, x):\n",
    "        if state == 'A':\n",
    "            # Action for A\n",
    "            state = 'B'\n",
    "        elif state == 'B':\n",
    "            # Action for B \n",
    "            state = 'C'\n",
    "        elif state == 'C':\n",
    "            # Action for C\n",
    "            state = 'A'\n",
    "\n",
    "            \n",
    "# Alternative implementation\n",
    "class State:\n",
    "    def __init__(self):\n",
    "        self.new_state(State_A)\n",
    "    def new_state(self, state):\n",
    "        self.__class__ = state\n",
    "    def action(self, x):\n",
    "        raise NotImplementedError()\n",
    "\n",
    "        \n",
    "class State_A(State):\n",
    "    def action(self, x):\n",
    "        # Action for A\n",
    "        self.new_state(State_B)\n",
    "\n",
    "\n",
    "class State_B(State):\n",
    "    def action(self, x):\n",
    "        # Action for B\n",
    "        self.new_state(State_C)\n",
    "\n",
    "\n",
    "class State_C(State):\n",
    "    def action(self, x):\n",
    "        # Action for C\n",
    "        self.new_state(State_A)"
   ]
  }
 ],
 "metadata": {
  "kernelspec": {
   "display_name": "Python 2",
   "language": "python",
   "name": "python2"
  },
  "language_info": {
   "codemirror_mode": {
    "name": "ipython",
    "version": 2
   },
   "file_extension": ".py",
   "mimetype": "text/x-python",
   "name": "python",
   "nbconvert_exporter": "python",
   "pygments_lexer": "ipython2",
   "version": "2.7.13"
  }
 },
 "nbformat": 4,
 "nbformat_minor": 2
}
