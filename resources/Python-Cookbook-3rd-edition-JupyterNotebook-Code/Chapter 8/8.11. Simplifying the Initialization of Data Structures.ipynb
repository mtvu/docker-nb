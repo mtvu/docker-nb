{
 "cells": [
  {
   "cell_type": "code",
   "execution_count": null,
   "metadata": {},
   "outputs": [],
   "source": [
    "class Structure:\n",
    " # Class variable that specifies expected fields\n",
    "    _fields= []\n",
    "    def __init__(self, *args):\n",
    "        if len(args) != len(self._fields):\n",
    "            raise TypeError('Expected {} arguments'.format(len(self._fields)))\n",
    " \n",
    "    # Set the arguments\n",
    "    for name, value in zip(self._fields, args):\n",
    "        setattr(self, name, value)\n",
    "        \n",
    "    # Example class definitions\n",
    "    if __name__ == '__main__':\n",
    "        class Stock(Structure):\n",
    "            _fields = ['name', 'shares', 'price']\n",
    " \n",
    "        class Point(Structure):\n",
    "            _fields = ['x','y']\n",
    " \n",
    "        class Circle(Structure):\n",
    "            _fields = ['radius']\n",
    "            def area(self):\n",
    "                return math.pi * self.radius ** 2"
   ]
  },
  {
   "cell_type": "code",
   "execution_count": null,
   "metadata": {
    "collapsed": true
   },
   "outputs": [],
   "source": [
    "s = Stock('ACME', 50, 91.1)\n",
    "p = Point(2, 3)\n",
    "c = Circle(4.5)\n",
    "s2 = Stock('ACME', 50)"
   ]
  },
  {
   "cell_type": "code",
   "execution_count": null,
   "metadata": {
    "collapsed": true
   },
   "outputs": [],
   "source": [
    "class Structure:\n",
    "    _fields= []\n",
    "    def __init__(self, *args, **kwargs):\n",
    "        if len(args) > len(self._fields):\n",
    "            raise TypeError('Expected {} arguments'.format(len(self._fields)))\n",
    " \n",
    "        # Set all of the positional arguments\n",
    "        for name, value in zip(self._fields, args):\n",
    "            setattr(self, name, value)\n",
    "\n",
    "        # Set the remaining keyword arguments\n",
    "        for name in self._fields[len(args):]:\n",
    "            setattr(self, name, kwargs.pop(name))\n",
    "\n",
    "        # Check for any remaining unknown arguments\n",
    "        if kwargs:\n",
    "            raise TypeError('Invalid argument(s): {}'.format(','.join(kwargs)))\n",
    "\n",
    "# Example use\n",
    "if __name__ == '__main__':\n",
    "    class Stock(Structure):\n",
    "        _fields = ['name', 'shares', 'price']\n",
    "    \n",
    "    s1 = Stock('ACME', 50, 91.1)\n",
    "    s2 = Stock('ACME', 50, price=91.1)\n",
    "    s3 = Stock('ACME', shares=50, price=91.1)"
   ]
  },
  {
   "cell_type": "code",
   "execution_count": null,
   "metadata": {
    "collapsed": true
   },
   "outputs": [],
   "source": [
    "class Structure:\n",
    "    # Class variable that specifies expected fields\n",
    "    _fields= []\n",
    "    def __init__(self, *args, **kwargs):\n",
    "        if len(args) != len(self._fields):\n",
    "            raise TypeError('Expected {} arguments'.format(len(self._fields)))\n",
    " \n",
    "        # Set the arguments\n",
    "        for name, value in zip(self._fields, args):\n",
    "            setattr(self, name, value)\n",
    " \n",
    "        # Set the additional arguments (if any)\n",
    "        extra_args = kwargs.keys() - self._fields\n",
    "        for name in extra_args:\n",
    "            setattr(self, name, kwargs.pop(name))\n",
    "        if kwargs:\n",
    "            raise TypeError('Duplicate values for {}'.format(','.join(kwargs)))\n",
    "\n",
    "\n",
    "# Example use\n",
    "if __name__ == '__main__':\n",
    "    class Stock(Structure):\n",
    "        _fields = ['name', 'shares', 'price']\n",
    " \n",
    "    s1 = Stock('ACME', 50, 91.1)\n",
    "    s2 = Stock('ACME', 50, 91.1, date='8/2/2012')"
   ]
  },
  {
   "cell_type": "code",
   "execution_count": null,
   "metadata": {
    "collapsed": true
   },
   "outputs": [],
   "source": [
    "class Stock:\n",
    "    def __init__(self, name, shares, price):\n",
    "        self.name = name\n",
    "        self.shares = shares\n",
    "        self.price = price\n",
    "\n",
    "class Point:\n",
    "    def __init__(self, x, y):\n",
    "        self.x = x\n",
    "        self.y = y\n",
    "\n",
    "class Circle:\n",
    "    def __init__(self, radius):\n",
    "        self.radius = radius\n",
    "     \n",
    "    def area(self):\n",
    "        return math.pi * self.radius ** 2"
   ]
  },
  {
   "cell_type": "code",
   "execution_count": null,
   "metadata": {
    "collapsed": true
   },
   "outputs": [],
   "source": [
    "class Structure:\n",
    "    # Class variable that specifies expected fields\n",
    "    _fields= []\n",
    "    def __init__(self, *args):\n",
    "        if len(args) != len(self._fields):\n",
    "            raise TypeError('Expected {} arguments'.format(len(self._fields)))\n",
    " \n",
    "        # Set the arguments (alternate)\n",
    "        self.__dict__.update(zip(self._fields,args))"
   ]
  },
  {
   "cell_type": "code",
   "execution_count": null,
   "metadata": {
    "collapsed": true
   },
   "outputs": [],
   "source": [
    "help(Stock)"
   ]
  },
  {
   "cell_type": "code",
   "execution_count": null,
   "metadata": {
    "collapsed": true
   },
   "outputs": [],
   "source": [
    "def init_fromlocals(self):\n",
    "    import sys\n",
    "    locs = sys._getframe(1).f_locals\n",
    "    for k, v in locs.items():\n",
    "        if k != 'self':\n",
    "            setattr(self, k, v)"
   ]
  },
  {
   "cell_type": "code",
   "execution_count": null,
   "metadata": {
    "collapsed": true
   },
   "outputs": [],
   "source": [
    "class Stock:\n",
    "    def __init__(self, name, shares, price):\n",
    "        init_fromlocals(self)"
   ]
  }
 ],
 "metadata": {
  "kernelspec": {
   "display_name": "Python 2",
   "language": "python",
   "name": "python2"
  },
  "language_info": {
   "codemirror_mode": {
    "name": "ipython",
    "version": 2
   },
   "file_extension": ".py",
   "mimetype": "text/x-python",
   "name": "python",
   "nbconvert_exporter": "python",
   "pygments_lexer": "ipython2",
   "version": "2.7.13"
  }
 },
 "nbformat": 4,
 "nbformat_minor": 2
}
