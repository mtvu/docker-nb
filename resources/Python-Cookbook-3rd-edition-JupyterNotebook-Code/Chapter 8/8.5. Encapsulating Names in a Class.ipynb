{
 "cells": [
  {
   "cell_type": "code",
   "execution_count": null,
   "metadata": {},
   "outputs": [],
   "source": [
    "class A:\n",
    "    def __init__(self):\n",
    "        self._internal = 0 # An internal attribute\n",
    "        self.public = 1 # A public attribute\n",
    "    \n",
    "    def public_method(self):\n",
    "        '''\n",
    "        A public method\n",
    "        '''\n",
    " \n",
    "    def _internal_method(self):"
   ]
  },
  {
   "cell_type": "code",
   "execution_count": null,
   "metadata": {
    "collapsed": true
   },
   "outputs": [],
   "source": [
    "class B:\n",
    "    def __init__(self):\n",
    "    self.__private = 0\n",
    "    def __private_method(self):\n",
    " \n",
    "    def public_method(self):\n",
    " \n",
    "        self.__private_method()\n"
   ]
  },
  {
   "cell_type": "code",
   "execution_count": null,
   "metadata": {
    "collapsed": true
   },
   "outputs": [],
   "source": [
    "class C(B):\n",
    "    def __init__(self):\n",
    "        super().__init__()\n",
    "        self.__private = 1 \n",
    "        \n",
    "    # Does not override B.__private\\# Does not override B.__private_method()\n",
    "    def __private_method(self):"
   ]
  },
  {
   "cell_type": "code",
   "execution_count": null,
   "metadata": {
    "collapsed": true
   },
   "outputs": [],
   "source": [
    "lambda_ = 2.0 "
   ]
  }
 ],
 "metadata": {
  "kernelspec": {
   "display_name": "Python 2",
   "language": "python",
   "name": "python2"
  },
  "language_info": {
   "codemirror_mode": {
    "name": "ipython",
    "version": 2
   },
   "file_extension": ".py",
   "mimetype": "text/x-python",
   "name": "python",
   "nbconvert_exporter": "python",
   "pygments_lexer": "ipython2",
   "version": "2.7.13"
  }
 },
 "nbformat": 4,
 "nbformat_minor": 2
}
