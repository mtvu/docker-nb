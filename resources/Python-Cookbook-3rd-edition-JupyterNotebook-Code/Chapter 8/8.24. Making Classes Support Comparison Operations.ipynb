{
 "cells": [
  {
   "cell_type": "code",
   "execution_count": null,
   "metadata": {
    "collapsed": true
   },
   "outputs": [],
   "source": [
    "from functools import total_ordering\n",
    "class Room:\n",
    "    def __init__(self, name, length, width):\n",
    "        self.name = name\n",
    "        self.length = length\n",
    "        self.width = width\n",
    "        self.square_feet = self.length * self.width\n",
    "\n",
    "\n",
    "@total_ordering\n",
    "class House:\n",
    "    def __init__(self, name, style):\n",
    "        self.name = name\n",
    "        self.style = style\n",
    "        self.rooms = list()\n",
    " \n",
    "    @property\n",
    "    def living_space_footage(self):\n",
    "        return sum(r.square_feet for r in self.rooms)\n",
    " \n",
    "    def add_room(self, room):\n",
    "        self.rooms.append(room)\n",
    " \n",
    "    def __str__(self):\n",
    "        return '{}: {} square foot {}'.format(self.name,\n",
    "                                              self.living_space_footage,\n",
    "                                              self.style)\n",
    "    def __eq__(self, other):\n",
    "        return self.living_space_footage == other.living_space_footage\n",
    " \n",
    "    def __lt__(self, other):\n",
    "        return self.living_space_footage < other.living_space_footage"
   ]
  },
  {
   "cell_type": "code",
   "execution_count": null,
   "metadata": {
    "collapsed": true
   },
   "outputs": [],
   "source": [
    "# Build a few houses, and add rooms to them\n",
    "h1 = House('h1', 'Cape')\n",
    "h1.add_room(Room('Master Bedroom', 14, 21))\n",
    "h1.add_room(Room('Living Room', 18, 20))\n",
    "h1.add_room(Room('Kitchen', 12, 16))\n",
    "h1.add_room(Room('Office', 12, 12))\n",
    "\n",
    "h2 = House('h2', 'Ranch')\n",
    "h2.add_room(Room('Master Bedroom', 14, 21))\n",
    "h2.add_room(Room('Living Room', 18, 20))\n",
    "h2.add_room(Room('Kitchen', 12, 16))\n",
    "\n",
    "h3 = House('h3', 'Split')\n",
    "h3.add_room(Room('Master Bedroom', 14, 21))\n",
    "h3.add_room(Room('Living Room', 18, 20))\n",
    "h3.add_room(Room('Office', 12, 16))\n",
    "h3.add_room(Room('Kitchen', 15, 17))\n",
    "houses = [h1, h2, h3]\n",
    "\n",
    "print('Is h1 bigger than h2?', h1 > h2) # prints True\n",
    "print('Is h2 smaller than h3?', h2 < h3) # prints True\n",
    "print('Is h2 greater than or equal to h1?', h2 >= h1) # Prints False\n",
    "print('Which one is biggest?', max(houses)) # Prints 'h3: 1101-square-foot Split'\n",
    "print('Which is smallest?', min(houses)) # Prints 'h2: 846-square-foot Ranch'"
   ]
  },
  {
   "cell_type": "code",
   "execution_count": null,
   "metadata": {
    "collapsed": true
   },
   "outputs": [],
   "source": [
    "class House:\n",
    "    def __eq__(self, other):\n",
    " \n",
    "    def __lt__(self, other):"
   ]
  },
  {
   "cell_type": "code",
   "execution_count": null,
   "metadata": {
    "collapsed": true
   },
   "outputs": [],
   "source": [
    "# Methods created by @total_ordering\n",
    "__le__ = lambda self, other: self < other or self == other\n",
    "__gt__ = lambda self, other: not (self < other or self == other)\n",
    "__ge__ = lambda self, other: not (self < other)\n",
    "__ne__ = lambda self, other: not self == other"
   ]
  }
 ],
 "metadata": {
  "kernelspec": {
   "display_name": "Python 2",
   "language": "python",
   "name": "python2"
  },
  "language_info": {
   "codemirror_mode": {
    "name": "ipython",
    "version": 2
   },
   "file_extension": ".py",
   "mimetype": "text/x-python",
   "name": "python",
   "nbconvert_exporter": "python",
   "pygments_lexer": "ipython2",
   "version": "2.7.13"
  }
 },
 "nbformat": 4,
 "nbformat_minor": 2
}
