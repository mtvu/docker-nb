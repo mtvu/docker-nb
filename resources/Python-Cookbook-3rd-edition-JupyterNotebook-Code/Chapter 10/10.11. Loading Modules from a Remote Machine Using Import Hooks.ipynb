{
 "cells": [
  {
   "cell_type": "code",
   "execution_count": null,
   "metadata": {
    "collapsed": true
   },
   "outputs": [],
   "source": [
    "testcode/\n",
    "    spam.py\n",
    "    fib.py\n",
    "    grok/\n",
    "    __init__.py\n",
    "    blah.py"
   ]
  },
  {
   "cell_type": "code",
   "execution_count": null,
   "metadata": {
    "collapsed": true
   },
   "outputs": [],
   "source": [
    "# spam.py\n",
    "print(\"I'm spam\")\n",
    "\n",
    "def hello(name):\n",
    "    print('Hello %s' % name)\n",
    "\n",
    "# fib.py\n",
    "print(\"I'm fib\")\n",
    "\n",
    "def fib(n):\n",
    "    if n < 2:\n",
    "        return 1\n",
    "    else:\n",
    "        return fib(n-1) + fib(n-2)\n",
    "\n",
    "# grok/__init__.py\n",
    "print(\"I'm grok.__init__\")\n",
    "\n",
    "# grok/blah.py\n",
    "print(\"I'm grok.blah\")"
   ]
  },
  {
   "cell_type": "code",
   "execution_count": null,
   "metadata": {
    "collapsed": true
   },
   "outputs": [],
   "source": [
    "from urllib.request import urlopen\n",
    "u = urlopen('http://localhost:15000/fib.py')\n",
    "data = u.read().decode('utf-8')\n",
    "print(data)"
   ]
  },
  {
   "cell_type": "code",
   "execution_count": null,
   "metadata": {
    "collapsed": true
   },
   "outputs": [],
   "source": [
    "import imp\n",
    "import urllib.request\n",
    "import sys\n",
    "\n",
    "def load_module(url):\n",
    "    u = urllib.request.urlopen(url)\n",
    "    source = u.read().decode('utf-8')\n",
    "    mod = sys.modules.setdefault(url, imp.new_module(url))\n",
    "    code = compile(source, url, 'exec')\n",
    "    mod.__file__ = url\n",
    "    mod.__package__ = ''\n",
    "    exec(code, mod.__dict__)\n",
    "    return mod"
   ]
  },
  {
   "cell_type": "code",
   "execution_count": null,
   "metadata": {
    "collapsed": true
   },
   "outputs": [],
   "source": [
    "fib = load_module('http://localhost:15000/fib.py')"
   ]
  },
  {
   "cell_type": "code",
   "execution_count": null,
   "metadata": {
    "collapsed": true
   },
   "outputs": [],
   "source": [
    "fib.fib(10)"
   ]
  },
  {
   "cell_type": "code",
   "execution_count": null,
   "metadata": {
    "collapsed": true
   },
   "outputs": [],
   "source": [
    "spam = load_module('http://localhost:15000/spam.py')"
   ]
  },
  {
   "cell_type": "code",
   "execution_count": null,
   "metadata": {
    "collapsed": true
   },
   "outputs": [],
   "source": [
    "spam.hello('Guido')"
   ]
  },
  {
   "cell_type": "code",
   "execution_count": null,
   "metadata": {
    "collapsed": true
   },
   "outputs": [],
   "source": [
    "fib"
   ]
  },
  {
   "cell_type": "code",
   "execution_count": null,
   "metadata": {
    "collapsed": true
   },
   "outputs": [],
   "source": [
    "spam"
   ]
  },
  {
   "cell_type": "code",
   "execution_count": null,
   "metadata": {},
   "outputs": [],
   "source": [
    "# urlimport.py\n",
    "import sys\n",
    "import importlib.abc\n",
    "import imp\n",
    "from urllib.request import urlopen\n",
    "from urllib.error import HTTPError, URLError\n",
    "from html.parser import HTMLParser\n",
    "\n",
    "# Debugging\n",
    "import logging\n",
    "log = logging.getLogger(__name__)\n",
    "\n",
    "# Get links from a given URL\n",
    "def _get_links(url):\n",
    "    class LinkParser(HTMLParser):\n",
    "        def handle_starttag(self, tag, attrs):\n",
    "            if tag == 'a':\n",
    "                attrs = dict(attrs)\n",
    "                links.add(attrs.get('href').rstrip('/'))\n",
    "\n",
    "    links = set()\n",
    "    try:\n",
    "        log.debug('Getting links from %s' % url)\n",
    "        u = urlopen(url)\n",
    "        parser = LinkParser()\n",
    "        parser.feed(u.read().decode('utf-8'))\n",
    "    except Exception as e:\n",
    "        log.debug('Could not get links. %s', e)\n",
    "    log.debug('links: %r', links)\n",
    "    return links\n",
    "\n",
    "class UrlMetaFinder(importlib.abc.MetaPathFinder):\n",
    "    def __init__(self, baseurl):\n",
    "        self._baseurl = baseurl\n",
    "        self._links = { }\n",
    "        self._loaders = { baseurl : UrlModuleLoader(baseurl) }\n",
    " \n",
    "    def find_module(self, fullname, path=None):\n",
    "        log.debug('find_module: fullname=%r, path=%r', fullname, path)\n",
    "        if path is None:\n",
    "            baseurl = self._baseurl\n",
    "        else:\n",
    "            if not path[0].startswith(self._baseurl):\n",
    "                return None\n",
    "            baseurl = path[0]\n",
    "\n",
    "        parts = fullname.split('.')\n",
    "        basename = parts[-1]\n",
    "        log.debug('find_module: baseurl=%r, basename=%r', baseurl, basename)\n",
    " \n",
    "    # Check link cache\n",
    "    if basename not in self._links:\n",
    "        self._links[baseurl] = _get_links(baseurl)\n",
    " \n",
    "    # Check if it's a package\n",
    "    if basename in self._links[baseurl]:\n",
    "        log.debug('find_module: trying package %r', fullname)\n",
    "        fullurl = self._baseurl + '/' + basename\n",
    "        # Attempt to load the package (which accesses __init__.py)\n",
    "        loader = UrlPackageLoader(fullurl)\n",
    "        try:\n",
    "            loader.load_module(fullname)\n",
    "            self._links[fullurl] = _get_links(fullurl)\n",
    "            self._loaders[fullurl] = UrlModuleLoader(fullurl)\n",
    "            log.debug('find_module: package %r loaded', fullname)\n",
    "        except ImportError as e:\n",
    "            log.debug('find_module: package failed. %s', e)\n",
    "            loader = None\n",
    "        return loader\n",
    " \n",
    "    # A normal module\n",
    "    filename = basename + '.py'\n",
    "    if filename in self._links[baseurl]:\n",
    "        log.debug('find_module: module %r found', fullname)\n",
    "        return self._loaders[baseurl]\n",
    "    else:\n",
    "        log.debug('find_module: module %r not found', fullname)\n",
    "        return None\n",
    "\n",
    "    \n",
    "    def invalidate_caches(self):\n",
    "        log.debug('invalidating link cache')\n",
    "        self._links.clear()\n",
    "\n",
    "# Module Loader for a URL\n",
    "class UrlModuleLoader(importlib.abc.SourceLoader):\n",
    "    def __init__(self, baseurl):\n",
    "        self._baseurl = baseurl\n",
    "        self._source_cache = {}\n",
    " \n",
    "    def module_repr(self, module):\n",
    "        return '<urlmodule %r from %r>' % (module.__name__, module.__file__)\n",
    " \n",
    "    # Required method\n",
    "    def load_module(self, fullname):\n",
    "        code = self.get_code(fullname)\n",
    "        mod = sys.modules.setdefault(fullname, imp.new_module(fullname))\n",
    "        mod.__file__ = self.get_filename(fullname)\n",
    "        mod.__loader__ = self\n",
    "        mod.__package__ = fullname.rpartition('.')[0]\n",
    "        exec(code, mod.__dict__)\n",
    "        return mod\n",
    " \n",
    "    # Optional extensions\n",
    "    def get_code(self, fullname):\n",
    "        src = self.get_source(fullname)\n",
    "        return compile(src, self.get_filename(fullname), 'exec')\n",
    " \n",
    "    def get_data(self, path):\n",
    "        pass\n",
    " \n",
    "    def get_filename(self, fullname):\n",
    "        return self._baseurl + '/' + fullname.split('.')[-1] + '.py'\n",
    " \n",
    "    def get_source(self, fullname):\n",
    "        filename = self.get_filename(fullname)\n",
    "        log.debug('loader: reading %r', filename)\n",
    "        if filename in self._source_cache:\n",
    "            log.debug('loader: cached %r', filename)\n",
    "            return self._source_cache[filename]\n",
    "        try:\n",
    "            u = urlopen(filename)\n",
    "            source = u.read().decode('utf-8')\n",
    "            log.debug('loader: %r loaded', filename)\n",
    "            self._source_cache[filename] = source\n",
    "            return source\n",
    "        except (HTTPError, URLError) as e:\n",
    "            log.debug('loader: %r failed. %s', filename, e)\n",
    "            raise ImportError(\"Can't load %s\" % filename)\n",
    "        \n",
    "    def is_package(self, fullname):\n",
    "        return False\n",
    "\n",
    "# Package loader for a URL\n",
    "class UrlPackageLoader(UrlModuleLoader):\n",
    "    def load_module(self, fullname):\n",
    "        mod = super().load_module(fullname)\n",
    "        mod.__path__ = [ self._baseurl ]\n",
    "        mod.__package__ = fullname\n",
    "    def get_filename(self, fullname):\n",
    "        return self._baseurl + '/' + '__init__.py'\n",
    " \n",
    "    def is_package(self, fullname):\n",
    "        return True\n",
    "\n",
    "# Utility functions for installing/uninstalling the loader\n",
    "_installed_meta_cache = { }\n",
    "def install_meta(address):\n",
    "    if address not in _installed_meta_cache:\n",
    "        finder = UrlMetaFinder(address)\n",
    "        _installed_meta_cache[address] = finder\n",
    "        sys.meta_path.append(finder)\n",
    "        log.debug('%r installed on sys.meta_path', finder)\n",
    "\n",
    "def remove_meta(address):\n",
    "    if address in _installed_meta_cache:\n",
    "        finder = _installed_meta_cache.pop(address)\n",
    "        sys.meta_path.remove(finder)\n",
    "        log.debug('%r removed from sys.meta_path', finder)"
   ]
  },
  {
   "cell_type": "code",
   "execution_count": null,
   "metadata": {
    "collapsed": true
   },
   "outputs": [],
   "source": [
    "# importing currently fails\n",
    "import fib"
   ]
  },
  {
   "cell_type": "code",
   "execution_count": null,
   "metadata": {
    "collapsed": true
   },
   "outputs": [],
   "source": [
    "# Load the importer and retry (it works)\n",
    "import urlimport\n",
    "urlimport.install_meta('http://localhost:15000')\n",
    "import fib"
   ]
  },
  {
   "cell_type": "code",
   "execution_count": null,
   "metadata": {
    "collapsed": true
   },
   "outputs": [],
   "source": [
    "import spam"
   ]
  },
  {
   "cell_type": "code",
   "execution_count": null,
   "metadata": {
    "collapsed": true
   },
   "outputs": [],
   "source": [
    "import grok.blah"
   ]
  },
  {
   "cell_type": "code",
   "execution_count": null,
   "metadata": {
    "collapsed": true
   },
   "outputs": [],
   "source": [
    "# urlimport.py\n",
    "\n",
    "# ... include previous code above ...\n",
    "\n",
    "# Path finder class for a URL\n",
    "class UrlPathFinder(importlib.abc.PathEntryFinder):\n",
    "    def __init__(self, baseurl):\n",
    "        self._links = None\n",
    "        self._loader = UrlModuleLoader(baseurl)\n",
    "        self._baseurl = baseurl\n",
    " \n",
    "    def find_loader(self, fullname):\n",
    "        log.debug('find_loader: %r', fullname)\n",
    "        parts = fullname.split('.')\n",
    "        basename = parts[-1]\n",
    "        # Check link cache\n",
    "        if self._links is None:\n",
    "            self._links = [] # See discussion\n",
    "            self._links = _get_links(self._baseurl)\n",
    " \n",
    "        # Check if it's a package\n",
    "        if basename in self._links:\n",
    "            log.debug('find_loader: trying package %r', fullname)\n",
    "            fullurl = self._baseurl + '/' + basename\n",
    "            # Attempt to load the package (which accesses __init__.py)\n",
    "            loader = UrlPackageLoader(fullurl)\n",
    "            try:\n",
    "                loader.load_module(fullname)\n",
    "                log.debug('find_loader: package %r loaded', fullname)\n",
    "            except ImportError as e:\n",
    "                log.debug('find_loader: %r is a namespace package', fullname)\n",
    "                loader = None\n",
    "            return (loader, [fullurl])\n",
    " \n",
    "\n",
    "        # A normal module\n",
    "        filename = basename + '.py'\n",
    "        if filename in self._links:\n",
    "            log.debug('find_loader: module %r found', fullname)\n",
    "            return (self._loader, [])\n",
    "        else:\n",
    "            log.debug('find_loader: module %r not found', fullname)\n",
    "            return (None, [])\n",
    " \n",
    "    def invalidate_caches(self):\n",
    "        log.debug('invalidating link cache')\n",
    "        self._links = None\n",
    "        \n",
    "# Check path to see if it looks like a URL\n",
    "_url_path_cache = {}\n",
    "def handle_url(path):\n",
    "    if path.startswith(('http://', 'https://')):\n",
    "        log.debug('Handle path? %s. [Yes]', path)\n",
    "        if path in _url_path_cache:\n",
    "            finder = _url_path_cache[path]\n",
    "        else:\n",
    "            finder = UrlPathFinder(path)\n",
    "            _url_path_cache[path] = finder\n",
    "        return finder\n",
    "    else:\n",
    "        log.debug('Handle path? %s. [No]', path)\n",
    "\n",
    "def install_path_hook():\n",
    "    sys.path_hooks.append(handle_url)\n",
    "    sys.path_importer_cache.clear()\n",
    "    log.debug('Installing handle_url')\n",
    "\n",
    "def remove_path_hook():\n",
    "    sys.path_hooks.remove(handle_url)\n",
    "    sys.path_importer_cache.clear()\n",
    "    log.debug('Removing handle_url')"
   ]
  },
  {
   "cell_type": "code",
   "execution_count": null,
   "metadata": {
    "collapsed": true
   },
   "outputs": [],
   "source": [
    "import fib"
   ]
  },
  {
   "cell_type": "code",
   "execution_count": null,
   "metadata": {
    "collapsed": true
   },
   "outputs": [],
   "source": [
    "import urlimport"
   ]
  },
  {
   "cell_type": "code",
   "execution_count": null,
   "metadata": {
    "collapsed": true
   },
   "outputs": [],
   "source": [
    "urlimport.install_path_hook()"
   ]
  },
  {
   "cell_type": "code",
   "execution_count": null,
   "metadata": {
    "collapsed": true
   },
   "outputs": [],
   "source": [
    "# Add an entry to sys.path and watch it work\n",
    "import sys\n",
    "sys.path.append('http://localhost:15000')\n",
    "import fib"
   ]
  },
  {
   "cell_type": "code",
   "execution_count": null,
   "metadata": {
    "collapsed": true
   },
   "outputs": [],
   "source": [
    "import grok.blah"
   ]
  },
  {
   "cell_type": "code",
   "execution_count": null,
   "metadata": {
    "collapsed": true
   },
   "outputs": [],
   "source": [
    "grok.blah.__file__"
   ]
  },
  {
   "cell_type": "code",
   "execution_count": null,
   "metadata": {
    "collapsed": true
   },
   "outputs": [],
   "source": [
    "import imp\n",
    "m = imp.new_module('spam')\n",
    "m"
   ]
  },
  {
   "cell_type": "code",
   "execution_count": null,
   "metadata": {
    "collapsed": true
   },
   "outputs": [],
   "source": [
    "m.__name__"
   ]
  },
  {
   "cell_type": "code",
   "execution_count": null,
   "metadata": {
    "collapsed": true
   },
   "outputs": [],
   "source": [
    "import sys\n",
    "import imp\n",
    "m = sys.modules.setdefault('spam', imp.new_module('spam'))\n",
    "m"
   ]
  },
  {
   "cell_type": "code",
   "execution_count": null,
   "metadata": {
    "collapsed": true
   },
   "outputs": [],
   "source": [
    "import math\n",
    "m = sys.modules.setdefault('math', imp.new_module('math'))\n",
    "m"
   ]
  },
  {
   "cell_type": "markdown",
   "metadata": {},
   "source": [
    "m.sin(2)"
   ]
  },
  {
   "cell_type": "code",
   "execution_count": null,
   "metadata": {
    "collapsed": true
   },
   "outputs": [],
   "source": [
    "m.cos(2)"
   ]
  },
  {
   "cell_type": "code",
   "execution_count": null,
   "metadata": {
    "collapsed": true
   },
   "outputs": [],
   "source": [
    "from pprint import pprint\n",
    "pprint(sys.meta_path)"
   ]
  },
  {
   "cell_type": "code",
   "execution_count": null,
   "metadata": {
    "collapsed": true
   },
   "outputs": [],
   "source": [
    "class Finder:\n",
    "    def find_module(self, fullname, path):\n",
    "        print('Looking for', fullname, path)\n",
    "        return None"
   ]
  },
  {
   "cell_type": "code",
   "execution_count": null,
   "metadata": {
    "collapsed": true
   },
   "outputs": [],
   "source": [
    "import sys\n",
    "sys.meta_path.insert(0, Finder()) # Insert as first entry\n",
    "import math"
   ]
  },
  {
   "cell_type": "code",
   "execution_count": null,
   "metadata": {
    "collapsed": true
   },
   "outputs": [],
   "source": [
    "import types"
   ]
  },
  {
   "cell_type": "code",
   "execution_count": null,
   "metadata": {
    "collapsed": true
   },
   "outputs": [],
   "source": [
    "import threading"
   ]
  },
  {
   "cell_type": "code",
   "execution_count": null,
   "metadata": {
    "collapsed": true
   },
   "outputs": [],
   "source": [
    "import xml.etree.ElementTree"
   ]
  },
  {
   "cell_type": "code",
   "execution_count": null,
   "metadata": {
    "collapsed": true
   },
   "outputs": [],
   "source": [
    "del sys.meta_path[0]\n",
    "sys.meta_path.append(Finder())\n",
    "import urllib.request\n",
    "import datetime"
   ]
  },
  {
   "cell_type": "code",
   "execution_count": null,
   "metadata": {
    "collapsed": true
   },
   "outputs": [],
   "source": [
    "from pprint import pprint\n",
    "import sys\n",
    "pprint(sys.path)"
   ]
  },
  {
   "cell_type": "code",
   "execution_count": null,
   "metadata": {
    "collapsed": true
   },
   "outputs": [],
   "source": [
    "pprint(sys.path_importer_cache)"
   ]
  },
  {
   "cell_type": "code",
   "execution_count": null,
   "metadata": {
    "collapsed": true
   },
   "outputs": [],
   "source": [
    "class Finder:\n",
    "    def find_loader(self, name):\n",
    "        print('Looking for', name)\n",
    "        return (None, [])\n",
    "\n",
    "import sys\n",
    "# Add a \"debug\" entry to the importer cache\n",
    "sys.path_importer_cache['debug'] = Finder()\n",
    "# Add a \"debug\" directory to sys.path\n",
    "sys.path.insert(0, 'debug')\n",
    "import threading"
   ]
  },
  {
   "cell_type": "code",
   "execution_count": null,
   "metadata": {
    "collapsed": true
   },
   "outputs": [],
   "source": [
    "sys.path_importer_cache.clear()\n",
    "def check_path(path):\n",
    "    print('Checking', path)\n",
    "    raise ImportError()\n",
    "\n",
    "sys.path_hooks.insert(0, check_path)\n",
    "import fib"
   ]
  },
  {
   "cell_type": "code",
   "execution_count": null,
   "metadata": {
    "collapsed": true
   },
   "outputs": [],
   "source": [
    "def check_url(path):\n",
    "    if path.startswith('http://'):\n",
    "        return Finder()\n",
    "    else:\n",
    "        raise ImportError()\n",
    "\n",
    "sys.path.append('http://localhost:15000')\n",
    "sys.path_hooks[0] = check_url\n",
    "import fib"
   ]
  },
  {
   "cell_type": "code",
   "execution_count": null,
   "metadata": {
    "collapsed": true
   },
   "outputs": [],
   "source": [
    "import xml.etree.ElementTree\n",
    "xml.__path__\n",
    "xml.etree.__path__"
   ]
  },
  {
   "cell_type": "code",
   "execution_count": null,
   "metadata": {
    "collapsed": true
   },
   "outputs": [],
   "source": [
    "# Check link cache\n",
    "if self._links is None:\n",
    "    self._links = [] # See discussion\n",
    "    self._links = _get_links(self._baseurl)"
   ]
  },
  {
   "cell_type": "code",
   "execution_count": null,
   "metadata": {
    "collapsed": true
   },
   "outputs": [],
   "source": [
    "import logging\n",
    "logging.basicConfig(level=logging.DEBUG)\n",
    "import urlimport\n",
    "urlimport.install_path_hook()"
   ]
  },
  {
   "cell_type": "code",
   "execution_count": null,
   "metadata": {
    "collapsed": true
   },
   "outputs": [],
   "source": [
    "import fib"
   ]
  },
  {
   "cell_type": "code",
   "execution_count": null,
   "metadata": {
    "collapsed": true
   },
   "outputs": [],
   "source": [
    "import sys"
   ]
  },
  {
   "cell_type": "code",
   "execution_count": null,
   "metadata": {
    "collapsed": true
   },
   "outputs": [],
   "source": [
    "import fib"
   ]
  }
 ],
 "metadata": {
  "kernelspec": {
   "display_name": "Python 2",
   "language": "python",
   "name": "python2"
  },
  "language_info": {
   "codemirror_mode": {
    "name": "ipython",
    "version": 2
   },
   "file_extension": ".py",
   "mimetype": "text/x-python",
   "name": "python",
   "nbconvert_exporter": "python",
   "pygments_lexer": "ipython2",
   "version": "2.7.13"
  }
 },
 "nbformat": 4,
 "nbformat_minor": 2
}
