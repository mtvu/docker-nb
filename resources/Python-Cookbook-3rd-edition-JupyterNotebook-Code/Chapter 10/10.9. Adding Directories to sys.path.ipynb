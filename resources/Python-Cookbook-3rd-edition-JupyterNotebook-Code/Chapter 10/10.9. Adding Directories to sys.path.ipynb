{
 "cells": [
  {
   "cell_type": "code",
   "execution_count": null,
   "metadata": {
    "collapsed": true
   },
   "outputs": [],
   "source": [
    "bash % env PYTHONPATH=/some/dir:/other/dir python3\n",
    "Python 3.3.0 (default, Oct 4 2012, 10:17:33)\n",
    "[GCC 4.2.1 (Apple Inc. build 5666) (dot 3)] on darwin"
   ]
  },
  {
   "cell_type": "code",
   "execution_count": 1,
   "metadata": {},
   "outputs": [
    {
     "data": {
      "text/plain": [
       "['',\n",
       " 'C:\\\\ProgramData\\\\Anaconda2\\\\python27.zip',\n",
       " 'C:\\\\ProgramData\\\\Anaconda2\\\\DLLs',\n",
       " 'C:\\\\ProgramData\\\\Anaconda2\\\\lib',\n",
       " 'C:\\\\ProgramData\\\\Anaconda2\\\\lib\\\\plat-win',\n",
       " 'C:\\\\ProgramData\\\\Anaconda2\\\\lib\\\\lib-tk',\n",
       " 'C:\\\\ProgramData\\\\Anaconda2',\n",
       " 'C:\\\\ProgramData\\\\Anaconda2\\\\lib\\\\site-packages',\n",
       " 'C:\\\\ProgramData\\\\Anaconda2\\\\lib\\\\site-packages\\\\Sphinx-1.5.6-py2.7.egg',\n",
       " 'C:\\\\ProgramData\\\\Anaconda2\\\\lib\\\\site-packages\\\\win32',\n",
       " 'C:\\\\ProgramData\\\\Anaconda2\\\\lib\\\\site-packages\\\\win32\\\\lib',\n",
       " 'C:\\\\ProgramData\\\\Anaconda2\\\\lib\\\\site-packages\\\\Pythonwin',\n",
       " 'C:\\\\ProgramData\\\\Anaconda2\\\\lib\\\\site-packages\\\\setuptools-27.2.0-py2.7.egg',\n",
       " 'C:\\\\ProgramData\\\\Anaconda2\\\\lib\\\\site-packages\\\\IPython\\\\extensions',\n",
       " 'C:\\\\Users\\\\acham\\\\.ipython']"
      ]
     },
     "execution_count": 1,
     "metadata": {},
     "output_type": "execute_result"
    }
   ],
   "source": [
    "import sys\n",
    "sys.path"
   ]
  },
  {
   "cell_type": "code",
   "execution_count": null,
   "metadata": {
    "collapsed": true
   },
   "outputs": [],
   "source": [
    "import sys\n",
    "sys.path.insert(0, '/some/dir')\n",
    "sys.path.insert(0, '/other/dir')"
   ]
  },
  {
   "cell_type": "code",
   "execution_count": null,
   "metadata": {
    "collapsed": true
   },
   "outputs": [],
   "source": [
    "import sys\n",
    "from os.path import abspath, join, dirname\n",
    "sys.path.insert(0, abspath(dirname('__file__'), 'src'))"
   ]
  }
 ],
 "metadata": {
  "kernelspec": {
   "display_name": "Python 2",
   "language": "python",
   "name": "python2"
  },
  "language_info": {
   "codemirror_mode": {
    "name": "ipython",
    "version": 2
   },
   "file_extension": ".py",
   "mimetype": "text/x-python",
   "name": "python",
   "nbconvert_exporter": "python",
   "pygments_lexer": "ipython2",
   "version": "2.7.13"
  }
 },
 "nbformat": 4,
 "nbformat_minor": 2
}
