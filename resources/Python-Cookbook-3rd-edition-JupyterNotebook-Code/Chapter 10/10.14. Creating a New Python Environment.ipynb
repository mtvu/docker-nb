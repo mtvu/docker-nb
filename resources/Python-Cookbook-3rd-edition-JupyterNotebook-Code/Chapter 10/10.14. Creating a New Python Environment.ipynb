{
 "cells": [
  {
   "cell_type": "markdown",
   "metadata": {},
   "source": [
    "bash % pyvenv Spam\n",
    "bash %"
   ]
  },
  {
   "cell_type": "markdown",
   "metadata": {},
   "source": [
    " bash % cd Spam\n",
    " bash % ls\n",
    " bin include lib pyvenv.cfg\n",
    " bash %\n"
   ]
  },
  {
   "cell_type": "markdown",
   "metadata": {},
   "source": [
    "bash % Spam/bin/python3\n",
    " Python 3.3.0 (default, Oct 6 2012, 15:45:22)\n",
    " [GCC 4.2.1 (Apple Inc. build 5666) (dot 3)] on darwin\n",
    " Type \"help\", \"copyright\", \"credits\" or \"license\" for more information."
   ]
  },
  {
   "cell_type": "code",
   "execution_count": 1,
   "metadata": {},
   "outputs": [
    {
     "name": "stdout",
     "output_type": "stream",
     "text": [
      "['',\n",
      " 'C:\\\\ProgramData\\\\Anaconda2\\\\python27.zip',\n",
      " 'C:\\\\ProgramData\\\\Anaconda2\\\\DLLs',\n",
      " 'C:\\\\ProgramData\\\\Anaconda2\\\\lib',\n",
      " 'C:\\\\ProgramData\\\\Anaconda2\\\\lib\\\\plat-win',\n",
      " 'C:\\\\ProgramData\\\\Anaconda2\\\\lib\\\\lib-tk',\n",
      " 'C:\\\\ProgramData\\\\Anaconda2',\n",
      " 'C:\\\\ProgramData\\\\Anaconda2\\\\lib\\\\site-packages',\n",
      " 'C:\\\\ProgramData\\\\Anaconda2\\\\lib\\\\site-packages\\\\Sphinx-1.5.6-py2.7.egg',\n",
      " 'C:\\\\ProgramData\\\\Anaconda2\\\\lib\\\\site-packages\\\\win32',\n",
      " 'C:\\\\ProgramData\\\\Anaconda2\\\\lib\\\\site-packages\\\\win32\\\\lib',\n",
      " 'C:\\\\ProgramData\\\\Anaconda2\\\\lib\\\\site-packages\\\\Pythonwin',\n",
      " 'C:\\\\ProgramData\\\\Anaconda2\\\\lib\\\\site-packages\\\\setuptools-27.2.0-py2.7.egg',\n",
      " 'C:\\\\ProgramData\\\\Anaconda2\\\\lib\\\\site-packages\\\\IPython\\\\extensions',\n",
      " 'C:\\\\Users\\\\acham\\\\.ipython']\n"
     ]
    }
   ],
   "source": [
    "from pprint import pprint\n",
    "import sys\n",
    "pprint(sys.path)"
   ]
  },
  {
   "cell_type": "code",
   "execution_count": null,
   "metadata": {
    "collapsed": true
   },
   "outputs": [],
   "source": []
  }
 ],
 "metadata": {
  "kernelspec": {
   "display_name": "Python 2",
   "language": "python",
   "name": "python2"
  },
  "language_info": {
   "codemirror_mode": {
    "name": "ipython",
    "version": 2
   },
   "file_extension": ".py",
   "mimetype": "text/x-python",
   "name": "python",
   "nbconvert_exporter": "python",
   "pygments_lexer": "ipython2",
   "version": "2.7.13"
  }
 },
 "nbformat": 4,
 "nbformat_minor": 2
}
