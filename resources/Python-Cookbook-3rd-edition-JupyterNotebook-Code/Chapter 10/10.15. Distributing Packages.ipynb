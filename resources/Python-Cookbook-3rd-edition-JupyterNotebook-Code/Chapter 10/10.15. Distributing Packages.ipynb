{
 "cells": [
  {
   "cell_type": "markdown",
   "metadata": {},
   "source": [
    "projectname/\n",
    " README.txt\n",
    " Doc/\n",
    " documentation.txt\n",
    " projectname/\n",
    " __init__.py\n",
    " foo.py\n",
    " bar.py\n",
    " utils/\n",
    " __init__.py\n",
    " spam.py\n",
    " grok.py\n",
    " examples/\n",
    " helloworld.py"
   ]
  },
  {
   "cell_type": "code",
   "execution_count": null,
   "metadata": {
    "collapsed": true
   },
   "outputs": [],
   "source": [
    "from distutils.core import setup\n",
    "setup(name='projectname',\n",
    " version='1.0',\n",
    " author='Your Name',\n",
    " author_email='you@youraddress.com',\n",
    " url='http://www.you.com/projectname',\n",
    " packages=['projectname', 'projectname.utils'],\n",
    ")"
   ]
  },
  {
   "cell_type": "code",
   "execution_count": null,
   "metadata": {
    "collapsed": true
   },
   "outputs": [],
   "source": []
  }
 ],
 "metadata": {
  "kernelspec": {
   "display_name": "Python 2",
   "language": "python",
   "name": "python2"
  },
  "language_info": {
   "codemirror_mode": {
    "name": "ipython",
    "version": 2
   },
   "file_extension": ".py",
   "mimetype": "text/x-python",
   "name": "python",
   "nbconvert_exporter": "python",
   "pygments_lexer": "ipython2",
   "version": "2.7.13"
  }
 },
 "nbformat": 4,
 "nbformat_minor": 2
}
