{
 "cells": [
  {
   "cell_type": "code",
   "execution_count": 1,
   "metadata": {
    "collapsed": true
   },
   "outputs": [],
   "source": [
    "def spam(a,b,c,d):\n",
    "    print(a,b,c,d)"
   ]
  },
  {
   "cell_type": "code",
   "execution_count": 2,
   "metadata": {},
   "outputs": [
    {
     "name": "stdout",
     "output_type": "stream",
     "text": [
      "(1, 2, 3, 4)\n"
     ]
    }
   ],
   "source": [
    "from functools import partial\n",
    "s1 = partial(spam,1)\n",
    "s1(2,3,4)"
   ]
  },
  {
   "cell_type": "code",
   "execution_count": 3,
   "metadata": {},
   "outputs": [
    {
     "name": "stdout",
     "output_type": "stream",
     "text": [
      "(1, 4, 5, 6)\n"
     ]
    }
   ],
   "source": [
    "s1(4,5,6)"
   ]
  },
  {
   "cell_type": "code",
   "execution_count": 4,
   "metadata": {
    "collapsed": true
   },
   "outputs": [],
   "source": [
    "s2 = partial(spam,d=42)"
   ]
  },
  {
   "cell_type": "code",
   "execution_count": 5,
   "metadata": {},
   "outputs": [
    {
     "name": "stdout",
     "output_type": "stream",
     "text": [
      "(1, 2, 3, 42)\n"
     ]
    }
   ],
   "source": [
    "s2(1,2,3)"
   ]
  },
  {
   "cell_type": "code",
   "execution_count": 6,
   "metadata": {},
   "outputs": [
    {
     "name": "stdout",
     "output_type": "stream",
     "text": [
      "(4, 5, 5, 42)\n"
     ]
    }
   ],
   "source": [
    "s2(4,5,5)"
   ]
  },
  {
   "cell_type": "code",
   "execution_count": 7,
   "metadata": {
    "collapsed": true
   },
   "outputs": [],
   "source": [
    "s3 = partial(spam,1,2,d=42)"
   ]
  },
  {
   "cell_type": "code",
   "execution_count": 11,
   "metadata": {},
   "outputs": [
    {
     "name": "stdout",
     "output_type": "stream",
     "text": [
      "(1, 2, 3, 42)\n"
     ]
    }
   ],
   "source": [
    "s3(3)"
   ]
  },
  {
   "cell_type": "code",
   "execution_count": 12,
   "metadata": {},
   "outputs": [
    {
     "name": "stdout",
     "output_type": "stream",
     "text": [
      "(1, 2, 4, 42)\n"
     ]
    }
   ],
   "source": [
    "s3(4)"
   ]
  },
  {
   "cell_type": "code",
   "execution_count": 13,
   "metadata": {},
   "outputs": [
    {
     "name": "stdout",
     "output_type": "stream",
     "text": [
      "(1, 2, 5, 42)\n"
     ]
    }
   ],
   "source": [
    "s3(5)"
   ]
  },
  {
   "cell_type": "code",
   "execution_count": 14,
   "metadata": {
    "collapsed": true
   },
   "outputs": [],
   "source": [
    "points = [(1,2),(3,4),(5,6),(7,8)]\n",
    "\n",
    "import math\n",
    "def distance(p1,p2):\n",
    "    x1,y1 = p1\n",
    "    x2,y2 = p2\n",
    "    return math.hypot(x2-x1, y2-y1)"
   ]
  },
  {
   "cell_type": "code",
   "execution_count": 15,
   "metadata": {},
   "outputs": [
    {
     "data": {
      "text/plain": [
       "[(3, 4), (1, 2), (5, 6), (7, 8)]"
      ]
     },
     "execution_count": 15,
     "metadata": {},
     "output_type": "execute_result"
    }
   ],
   "source": [
    "pt = (4,3)\n",
    "points.sort(key=partial(distance,pt))\n",
    "points"
   ]
  },
  {
   "cell_type": "code",
   "execution_count": null,
   "metadata": {
    "collapsed": true
   },
   "outputs": [],
   "source": [
    "def output_result(result, log=None):\n",
    "    if log is not None:\n",
    "    log.debug('Got: %r', result)\n",
    "\n",
    "# A sample function\n",
    "def add(x, y):\n",
    "    return x + y\n",
    "\n",
    "if __name__ == '__main__':\n",
    "    import logging\n",
    "    from multiprocessing import Pool\n",
    "    from functools import partial\n",
    "    \n",
    "    logging.basicConfig(level=logging.DEBUG)\n",
    "    log = logging.getLogger('test')\n",
    "\n",
    "    p = Pool()\n",
    "    p.apply_async(add, (3, 4), callback=partial(output_result, log=log))\n",
    "    p.close()\n",
    "    p.join()\n"
   ]
  },
  {
   "cell_type": "code",
   "execution_count": null,
   "metadata": {
    "collapsed": true
   },
   "outputs": [],
   "source": [
    "from socketserver import StreamRequestHandler, TCPServer\n",
    "\n",
    "class EchoHandler(StreamRequestHandler):\n",
    "    def handle(self):\n",
    "        for line in self.rfile:\n",
    "            self.wfile.write(b'GOT:' + line)\n",
    "\n",
    "serv = TCPServer(('', 15000), EchoHandler)\n",
    "serv.serve_forever()"
   ]
  },
  {
   "cell_type": "code",
   "execution_count": null,
   "metadata": {
    "collapsed": true
   },
   "outputs": [],
   "source": [
    "class EchoHandler(StreamRequestHandler):\n",
    "    # ack is added keyword-only argument. *args, **kwargs are\n",
    "    # any normal parameters supplied (which are passed on)\n",
    "    def __init__(self, *args, ack, **kwargs):\n",
    "        self.ack = ack\n",
    "        super().__init__(*args, **kwargs)\n",
    "    def handle(self):\n",
    "        for line in self.rfile:\n",
    "            self.wfile.write(self.ack + line)\n"
   ]
  },
  {
   "cell_type": "code",
   "execution_count": null,
   "metadata": {
    "collapsed": true
   },
   "outputs": [],
   "source": [
    "from functools import partial\n",
    "serv = TCPServer(('', 15000), partial(EchoHandler, ack=b'RECEIVED:'))\n",
    "serv.serve_forever()"
   ]
  },
  {
   "cell_type": "code",
   "execution_count": null,
   "metadata": {
    "collapsed": true
   },
   "outputs": [],
   "source": [
    "points.sort(key=lambda p: distance(pt, p))\n",
    "\n",
    "p.apply_async(add, (3, 4), callback=lambda result: output_result(result,log))\n",
    "\n",
    "serv = TCPServer(('', 15000),\n",
    "                lambda *args, **kwargs: EchoHandler(*args,\n",
    "                                                    ack=b'RECEIVED:',\n",
    "                                                     **kwargs))\n"
   ]
  }
 ],
 "metadata": {
  "kernelspec": {
   "display_name": "Python 2",
   "language": "python",
   "name": "python2"
  },
  "language_info": {
   "codemirror_mode": {
    "name": "ipython",
    "version": 2
   },
   "file_extension": ".py",
   "mimetype": "text/x-python",
   "name": "python",
   "nbconvert_exporter": "python",
   "pygments_lexer": "ipython2",
   "version": "2.7.13"
  }
 },
 "nbformat": 4,
 "nbformat_minor": 2
}
