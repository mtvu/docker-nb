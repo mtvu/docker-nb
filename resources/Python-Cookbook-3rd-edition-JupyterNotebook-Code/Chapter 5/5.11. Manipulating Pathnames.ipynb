{
 "cells": [
  {
   "cell_type": "code",
   "execution_count": null,
   "metadata": {
    "collapsed": true
   },
   "outputs": [],
   "source": [
    "import os\n",
    "path = '/Users/beazley/Data/data.csv'\n",
    "\n",
    "# Get the last component of the path\n",
    "os.path.basename(path)\n",
    "\n",
    "\n",
    "# Get the directory name\n",
    "os.path.dirname(path)\n",
    "\n",
    "# Join path components together\n",
    "os.path.join('tmp', 'data', os.path.basename(path))\n",
    "\n",
    "# Expand the user's home directory\n",
    "path = '~/Data/data.csv'\n",
    "os.path.expanduser(path)\n",
    "\n",
    "# Split the file extension\n",
    "os.path.splitext(path)"
   ]
  }
 ],
 "metadata": {
  "kernelspec": {
   "display_name": "Python 2",
   "language": "python",
   "name": "python2"
  },
  "language_info": {
   "codemirror_mode": {
    "name": "ipython",
    "version": 2
   },
   "file_extension": ".py",
   "mimetype": "text/x-python",
   "name": "python",
   "nbconvert_exporter": "python",
   "pygments_lexer": "ipython2",
   "version": "2.7.13"
  }
 },
 "nbformat": 4,
 "nbformat_minor": 2
}
