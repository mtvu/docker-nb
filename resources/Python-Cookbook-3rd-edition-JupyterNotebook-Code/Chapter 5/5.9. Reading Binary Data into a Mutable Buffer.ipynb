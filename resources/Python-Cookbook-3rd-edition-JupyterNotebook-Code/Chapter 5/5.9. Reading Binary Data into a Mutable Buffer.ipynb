{
 "cells": [
  {
   "cell_type": "code",
   "execution_count": null,
   "metadata": {
    "collapsed": true
   },
   "outputs": [],
   "source": [
    "import os.path\n",
    "\n",
    "def read_into_buffer(filename):\n",
    "    buf = bytearray(os.path.getsize(filename))\n",
    "    with open(filename, 'rb') as f:\n",
    "        f.readinto(buf)\n",
    "    return buf\n"
   ]
  },
  {
   "cell_type": "code",
   "execution_count": null,
   "metadata": {
    "collapsed": true
   },
   "outputs": [],
   "source": [
    "# Write a sample file\n",
    "with open('sample.bin', 'wb') as f:\n",
    "    f.write(b'Hello World')\n",
    "\n",
    "buf = read_into_buffer('sample.bin')\n",
    "buf\n",
    "\n",
    "buf[0:5] = b'Hallo'\n",
    "buf\n",
    "\n",
    "with open('newsample.bin', 'wb') as f:\n",
    "    f.write(buf)"
   ]
  },
  {
   "cell_type": "code",
   "execution_count": null,
   "metadata": {
    "collapsed": true
   },
   "outputs": [],
   "source": [
    "record_size = 32 # Size of each record (adjust value)\n",
    "buf = bytearray(record_size)\n",
    "with open('somefile', 'rb') as f:\n",
    "    while True:\n",
    "        n = f.readinto(buf)\n",
    "        if n < record_size:\n",
    "            break\n",
    " # Use the contents of buf\n"
   ]
  },
  {
   "cell_type": "code",
   "execution_count": null,
   "metadata": {
    "collapsed": true
   },
   "outputs": [],
   "source": [
    "buf\n",
    "\n",
    "m1 = memoryview(buf)\n",
    "m2 = m1[-5:]\n",
    "m2\n",
    "\n",
    "m2[:] = b'WORLD'\n",
    "buf\n",
    "\n"
   ]
  }
 ],
 "metadata": {
  "kernelspec": {
   "display_name": "Python 2",
   "language": "python",
   "name": "python2"
  },
  "language_info": {
   "codemirror_mode": {
    "name": "ipython",
    "version": 2
   },
   "file_extension": ".py",
   "mimetype": "text/x-python",
   "name": "python",
   "nbconvert_exporter": "python",
   "pygments_lexer": "ipython2",
   "version": "2.7.13"
  }
 },
 "nbformat": 4,
 "nbformat_minor": 2
}
