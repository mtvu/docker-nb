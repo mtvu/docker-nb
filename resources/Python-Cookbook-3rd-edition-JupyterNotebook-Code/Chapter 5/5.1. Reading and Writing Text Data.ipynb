{
 "cells": [
  {
   "cell_type": "code",
   "execution_count": null,
   "metadata": {
    "collapsed": true
   },
   "outputs": [],
   "source": [
    "# Read the entire file as a single string\n",
    "with open('somefile.txt', 'rt') as f:\n",
    "    data = f.read()\n",
    "\n",
    "\n",
    "# Iterate over the lines of the file\n",
    "with open('somefile.txt', 'rt') as f:\n",
    "    for line in f:\n",
    " # process line"
   ]
  },
  {
   "cell_type": "code",
   "execution_count": null,
   "metadata": {
    "collapsed": true
   },
   "outputs": [],
   "source": [
    "# Write chunks of text data\n",
    "with open('somefile.txt', 'wt') as f:\n",
    "    f.write(text1)\n",
    "    f.write(text2)"
   ]
  },
  {
   "cell_type": "code",
   "execution_count": null,
   "metadata": {
    "collapsed": true
   },
   "outputs": [],
   "source": [
    "# Redirected print statement\n",
    "with open('somefile.txt', 'wt') as f:\n",
    "    print(line1, file=f)\n",
    "    print(line2, file=f)\n"
   ]
  },
  {
   "cell_type": "code",
   "execution_count": null,
   "metadata": {
    "collapsed": true
   },
   "outputs": [],
   "source": [
    "with open('somefile.txt', 'rt', encoding='latin-1') as f:"
   ]
  },
  {
   "cell_type": "code",
   "execution_count": null,
   "metadata": {
    "collapsed": true
   },
   "outputs": [],
   "source": [
    "f = open('somefile.txt', 'rt')\n",
    "data = f.read()\n",
    "f.close()"
   ]
  },
  {
   "cell_type": "code",
   "execution_count": null,
   "metadata": {
    "collapsed": true
   },
   "outputs": [],
   "source": [
    "# Read with disabled newline translation\n",
    "with open('somefile.txt', 'rt', newline='') as f:"
   ]
  },
  {
   "cell_type": "code",
   "execution_count": null,
   "metadata": {
    "collapsed": true
   },
   "outputs": [],
   "source": [
    "# Newline translation enabled (the default)\n",
    "f = open('hello.txt', 'rt')\n",
    "f.read()"
   ]
  },
  {
   "cell_type": "code",
   "execution_count": null,
   "metadata": {
    "collapsed": true
   },
   "outputs": [],
   "source": [
    "# Newline translation disabled\n",
    "g = open('hello.txt', 'rt', newline='')\n",
    "g.read()"
   ]
  },
  {
   "cell_type": "code",
   "execution_count": null,
   "metadata": {
    "collapsed": true
   },
   "outputs": [],
   "source": [
    "f = open('sample.txt', 'rt', encoding='ascii')\n",
    "f.read()"
   ]
  },
  {
   "cell_type": "code",
   "execution_count": null,
   "metadata": {
    "collapsed": true
   },
   "outputs": [],
   "source": [
    "# Replace bad chars with Unicode U+fffd replacement char\n",
    "f = open('sample.txt', 'rt', encoding='ascii', errors='replace')\n",
    "f.read()\n",
    "\n",
    "\n",
    "# Ignore bad chars entirely\n",
    "g = open('sample.txt', 'rt', encoding='ascii', errors='ignore')\n",
    "g.read()"
   ]
  }
 ],
 "metadata": {
  "kernelspec": {
   "display_name": "Python 2",
   "language": "python",
   "name": "python2"
  },
  "language_info": {
   "codemirror_mode": {
    "name": "ipython",
    "version": 2
   },
   "file_extension": ".py",
   "mimetype": "text/x-python",
   "name": "python",
   "nbconvert_exporter": "python",
   "pygments_lexer": "ipython2",
   "version": "2.7.13"
  }
 },
 "nbformat": 4,
 "nbformat_minor": 2
}
