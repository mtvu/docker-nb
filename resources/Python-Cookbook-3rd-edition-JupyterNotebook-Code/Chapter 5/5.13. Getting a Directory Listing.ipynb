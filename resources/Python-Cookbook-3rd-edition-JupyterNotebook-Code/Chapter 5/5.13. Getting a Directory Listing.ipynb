{
 "cells": [
  {
   "cell_type": "code",
   "execution_count": null,
   "metadata": {
    "collapsed": true
   },
   "outputs": [],
   "source": [
    "import os\n",
    "names = os.listdir('somedir')"
   ]
  },
  {
   "cell_type": "code",
   "execution_count": null,
   "metadata": {
    "collapsed": true
   },
   "outputs": [],
   "source": [
    "import os.path\n",
    "# Get all regular files\n",
    "names = [name for name in os.listdir('somedir')\n",
    "        if os.path.isfile(os.path.join('somedir', name))]\n",
    "\n",
    "# Get all dirs\n",
    "dirnames = [name for name in os.listdir('somedir')\n",
    "            if os.path.isdir(os.path.join('somedir', name))]"
   ]
  },
  {
   "cell_type": "code",
   "execution_count": null,
   "metadata": {
    "collapsed": true
   },
   "outputs": [],
   "source": [
    "pyfiles = [name for name in os.listdir('somedir')\n",
    "            if name.endswith('.py')]"
   ]
  },
  {
   "cell_type": "code",
   "execution_count": null,
   "metadata": {
    "collapsed": true
   },
   "outputs": [],
   "source": [
    "import glob\n",
    "pyfiles = glob.glob('somedir/*.py')\n",
    "\n",
    "from fnmatch import fnmatch\n",
    "pyfiles = [name for name in os.listdir('somedir')\n",
    "             if fnmatch(name, '*.py')]"
   ]
  },
  {
   "cell_type": "code",
   "execution_count": null,
   "metadata": {
    "collapsed": true
   },
   "outputs": [],
   "source": [
    "# Example of getting a directory listing\n",
    "\n",
    "import os\n",
    "import os.path\n",
    "import glob\n",
    "\n",
    "pyfiles = glob.glob('*.py')\n",
    "\n",
    "# Get file sizes and modification dates\n",
    "name_sz_date = [(name, os.path.getsize(name), os.path.getmtime(name))\n",
    "                for name in pyfiles]\n",
    "\n",
    "for name, size, mtime in name_sz_date:\n",
    "    print(name, size, mtime)\n",
    "\n",
    "# Alternative: Get file metadata\n",
    "file_metadata = [(name, os.stat(name)) for name in pyfiles]\n",
    "for name, meta in file_metadata:\n",
    "    print(name, meta.st_size, meta.st_mtime)"
   ]
  }
 ],
 "metadata": {
  "kernelspec": {
   "display_name": "Python 2",
   "language": "python",
   "name": "python2"
  },
  "language_info": {
   "codemirror_mode": {
    "name": "ipython",
    "version": 2
   },
   "file_extension": ".py",
   "mimetype": "text/x-python",
   "name": "python",
   "nbconvert_exporter": "python",
   "pygments_lexer": "ipython2",
   "version": "2.7.13"
  }
 },
 "nbformat": 4,
 "nbformat_minor": 2
}
