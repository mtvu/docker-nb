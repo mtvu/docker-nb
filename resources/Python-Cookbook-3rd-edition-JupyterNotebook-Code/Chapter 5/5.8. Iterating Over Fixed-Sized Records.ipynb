{
 "cells": [
  {
   "cell_type": "code",
   "execution_count": null,
   "metadata": {
    "collapsed": true
   },
   "outputs": [],
   "source": [
    "from functools import partial\n",
    "RECORD_SIZE = 32\n",
    "\n",
    "with open('somefile.data', 'rb') as f:\n",
    "    records = iter(partial(f.read, RECORD_SIZE), b'')\n",
    "    for r in records:"
   ]
  },
  {
   "cell_type": "code",
   "execution_count": null,
   "metadata": {
    "collapsed": true
   },
   "outputs": [],
   "source": []
  }
 ],
 "metadata": {
  "kernelspec": {
   "display_name": "Python 2",
   "language": "python",
   "name": "python2"
  },
  "language_info": {
   "codemirror_mode": {
    "name": "ipython",
    "version": 2
   },
   "file_extension": ".py",
   "mimetype": "text/x-python",
   "name": "python",
   "nbconvert_exporter": "python",
   "pygments_lexer": "ipython2",
   "version": "2.7.13"
  }
 },
 "nbformat": 4,
 "nbformat_minor": 2
}
