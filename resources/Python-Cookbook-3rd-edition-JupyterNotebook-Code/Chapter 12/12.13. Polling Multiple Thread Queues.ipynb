{
 "cells": [
  {
   "cell_type": "code",
   "execution_count": null,
   "metadata": {
    "collapsed": true
   },
   "outputs": [],
   "source": [
    "import queue\n",
    "import socket\n",
    "import os\n",
    "\n",
    "class PollableQueue(queue.Queue):\n",
    "    def __init__(self):\n",
    "        super().__init__()\n",
    "        # Create a pair of connected sockets\n",
    "        if os.name == 'posix':\n",
    "            self._putsocket, self._getsocket = socket.socketpair()\n",
    "        else:\n",
    "            # Compatibility on non-POSIX systems\n",
    "            server = socket.socket(socket.AF_INET, socket.SOCK_STREAM)\n",
    "            server.bind(('127.0.0.1', 0))\n",
    "            server.listen(1)\n",
    "            self._putsocket = socket.socket(socket.AF_INET, socket.SOCK_STREAM)\n",
    "            self._putsocket.connect(server.getsockname())\n",
    "            self._getsocket, _ = server.accept()\n",
    "            server.close()\n",
    " \n",
    "    def fileno(self):\n",
    "        return self._getsocket.fileno()\n",
    " \n",
    "    def put(self, item):\n",
    "        super().put(item)\n",
    "        self._putsocket.send(b'x')\n",
    " \n",
    "    def get(self):\n",
    "        self._getsocket.recv(1)\n",
    "        return super().get()"
   ]
  },
  {
   "cell_type": "code",
   "execution_count": null,
   "metadata": {
    "collapsed": true
   },
   "outputs": [],
   "source": [
    "import select\n",
    "import threading\n",
    "\n",
    "def consumer(queues):\n",
    "    '''\n",
    "    Consumer that reads data on multiple queues simultaneously\n",
    "    '''\n",
    "    while True:\n",
    "        can_read, _, _ = select.select(queues,[],[])\n",
    "        for r in can_read:\n",
    "            item = r.get()\n",
    "            print('Got:', item)\n",
    "\n",
    "q1 = PollableQueue()\n",
    "q2 = PollableQueue()\n",
    "q3 = PollableQueue()\n",
    "t = threading.Thread(target=consumer, args=([q1,q2,q3],))\n",
    "t.daemon = True\n",
    "t.start()\n",
    "\n",
    "# Feed data to the queues\n",
    "q1.put(1)\n",
    "q2.put(10)\n",
    "q3.put('hello')\n",
    "q2.put(15)"
   ]
  },
  {
   "cell_type": "code",
   "execution_count": null,
   "metadata": {
    "collapsed": true
   },
   "outputs": [],
   "source": [
    "import time\n",
    "def consumer(queues):\n",
    "    while True:\n",
    "        for q in queues:\n",
    "            if not q.empty():\n",
    "                item = q.get()\n",
    "                print('Got:', item)\n",
    "                # Sleep briefly to avoid 100% CPU\n",
    "        time.sleep(0.01)\n"
   ]
  },
  {
   "cell_type": "code",
   "execution_count": null,
   "metadata": {
    "collapsed": true
   },
   "outputs": [],
   "source": [
    "import select\n",
    "def event_loop(sockets, queues):\n",
    " \n",
    "    while True:\n",
    "        # polling with a timeout\n",
    "        can_read, _, _ = select.select(sockets, [], [], 0.01)\n",
    "        for r in can_read:\n",
    "            handle_read(r)\n",
    "        for q in queues:\n",
    "            if not q.empty():\n",
    "                item = q.get()\n",
    "                print('Got:', item)"
   ]
  }
 ],
 "metadata": {
  "kernelspec": {
   "display_name": "Python 2",
   "language": "python",
   "name": "python2"
  },
  "language_info": {
   "codemirror_mode": {
    "name": "ipython",
    "version": 2
   },
   "file_extension": ".py",
   "mimetype": "text/x-python",
   "name": "python",
   "nbconvert_exporter": "python",
   "pygments_lexer": "ipython2",
   "version": "2.7.13"
  }
 },
 "nbformat": 4,
 "nbformat_minor": 2
}
