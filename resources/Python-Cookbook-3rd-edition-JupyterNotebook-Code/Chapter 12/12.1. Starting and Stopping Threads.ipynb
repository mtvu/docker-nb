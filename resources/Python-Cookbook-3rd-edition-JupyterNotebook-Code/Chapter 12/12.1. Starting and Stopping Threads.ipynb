{
 "cells": [
  {
   "cell_type": "code",
   "execution_count": 1,
   "metadata": {
    "collapsed": true
   },
   "outputs": [],
   "source": [
    "# Code to execute in an independent thread\n",
    "import time\n",
    "def countdown(n):\n",
    "    while n > 0:\n",
    "        print('T-minus', n)\n",
    "        n -= 1\n",
    "        time.sleep(5)"
   ]
  },
  {
   "cell_type": "code",
   "execution_count": 2,
   "metadata": {},
   "outputs": [
    {
     "name": "stdout",
     "output_type": "stream",
     "text": [
      "('T-minus', 10)\n",
      "('T-minus', 9)\n",
      "('T-minus', 8)\n"
     ]
    }
   ],
   "source": [
    "# Create and launch a thread\n",
    "from threading import Thread\n",
    "t = Thread(target=countdown, args=(10,))\n",
    "t.start()"
   ]
  },
  {
   "cell_type": "code",
   "execution_count": 3,
   "metadata": {},
   "outputs": [
    {
     "name": "stdout",
     "output_type": "stream",
     "text": [
      "('T-minus', 10)\n",
      "('T-minus', 7)\n",
      "('T-minus', 9)\n",
      "('T-minus', 6)\n",
      "('T-minus', 8)\n",
      "('T-minus', 5)\n",
      "('T-minus', 7)\n",
      "('T-minus', 4)\n",
      "('T-minus', 6)\n",
      "('T-minus', 3)\n",
      "('T-minus', 5)\n",
      "('T-minus', 2)\n",
      "('T-minus', 4)\n",
      "('T-minus', 1)\n",
      "('T-minus', 3)\n",
      "('T-minus', 2)\n",
      "('T-minus', 1)\n"
     ]
    }
   ],
   "source": [
    "# Create and launch a thread\n",
    "from threading import Thread\n",
    "t = Thread(target=countdown, args=(10,))\n",
    "t.start()"
   ]
  },
  {
   "cell_type": "code",
   "execution_count": 7,
   "metadata": {},
   "outputs": [
    {
     "name": "stdout",
     "output_type": "stream",
     "text": [
      "('T-minus', 10)\n"
     ]
    }
   ],
   "source": [
    "class CountdownTask:\n",
    "    def __init__(self):\n",
    "        self._running = True\n",
    " \n",
    "    def terminate(self):\n",
    "        self._running = False\n",
    " \n",
    "    def run(self, n):\n",
    "        while self._running and n > 0:\n",
    "            print('T-minus', n)\n",
    "            n -= 1\n",
    "            time.sleep(5)\n",
    "\n",
    "c = CountdownTask()\n",
    "t = Thread(target=c.run, args=(10,))\n",
    "t.start()\n",
    "\n",
    "c.terminate() # Signal termination\n",
    "t.join() # Wait for actual termination (if needed)"
   ]
  },
  {
   "cell_type": "code",
   "execution_count": 8,
   "metadata": {},
   "outputs": [],
   "source": [
    "class IOTask:\n",
    "    def terminate(self):\n",
    "        self._running = False\n",
    " \n",
    "    def run(self, sock):\n",
    "        # sock is a socket\n",
    "        sock.settimeout(5) # Set timeout period\n",
    "        while self._running:\n",
    "            # Perform a blocking I/O operation w/ timeout\n",
    "            try:\n",
    "                data = sock.recv(8192)\n",
    "                break\n",
    "            except socket.timeout:\n",
    "                continue\n",
    " \n",
    "        return"
   ]
  },
  {
   "cell_type": "code",
   "execution_count": null,
   "metadata": {},
   "outputs": [],
   "source": [
    "from threading import Thread\n",
    "\n",
    "class CountdownThread(Thread):\n",
    "    def __init__(self, n):\n",
    "        super().__init__()\n",
    "        self.n = 0\n",
    "\n",
    "    def run(self):\n",
    "        while self.n > 0:\n",
    "            print('T-minus', self.n)\n",
    "            self.n -= 1\n",
    "            time.sleep(5)\n",
    "\n",
    "c = CountdownThread(5)\n",
    "c.start()"
   ]
  },
  {
   "cell_type": "code",
   "execution_count": null,
   "metadata": {
    "collapsed": true
   },
   "outputs": [],
   "source": [
    "import multiprocessing\n",
    "c = CountdownTask(5)\n",
    "p = multiprocessing.Process(target=c.run)\n",
    "p.start()"
   ]
  },
  {
   "cell_type": "code",
   "execution_count": null,
   "metadata": {
    "collapsed": true
   },
   "outputs": [],
   "source": []
  }
 ],
 "metadata": {
  "kernelspec": {
   "display_name": "Python 2",
   "language": "python",
   "name": "python2"
  },
  "language_info": {
   "codemirror_mode": {
    "name": "ipython",
    "version": 2
   },
   "file_extension": ".py",
   "mimetype": "text/x-python",
   "name": "python",
   "nbconvert_exporter": "python",
   "pygments_lexer": "ipython2",
   "version": "2.7.13"
  }
 },
 "nbformat": 4,
 "nbformat_minor": 2
}
