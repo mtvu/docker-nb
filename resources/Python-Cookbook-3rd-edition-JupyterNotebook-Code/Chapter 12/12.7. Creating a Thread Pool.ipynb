{
 "cells": [
  {
   "cell_type": "code",
   "execution_count": null,
   "metadata": {
    "collapsed": true
   },
   "outputs": [],
   "source": [
    "from socket import AF_INET, SOCK_STREAM, socket\n",
    "from concurrent.futures import ThreadPoolExecutor\n",
    "\n",
    "def echo_client(sock, client_addr):\n",
    "    '''\n",
    "    Handle a client connection\n",
    "    '''\n",
    "    print('Got connection from', client_addr)\n",
    "    while True:\n",
    "        msg = sock.recv(65536)\n",
    "        if not msg:\n",
    "            break\n",
    "        sock.sendall(msg)\n",
    "    print('Client closed connection')\n",
    "    sock.close()\n",
    "\n",
    "def echo_server(addr):\n",
    "    pool = ThreadPoolExecutor(128)\n",
    "    sock = socket(AF_INET, SOCK_STREAM)\n",
    "    sock.bind(addr)\n",
    "    sock.listen(5)\n",
    "    while True:\n",
    "        client_sock, client_addr = sock.accept()\n",
    "        pool.submit(echo_client, client_sock, client_addr)\n",
    "\n",
    "echo_server(('',15000))"
   ]
  },
  {
   "cell_type": "code",
   "execution_count": null,
   "metadata": {
    "collapsed": true
   },
   "outputs": [],
   "source": [
    "from socket import socket, AF_INET, SOCK_STREAM\n",
    "from threading import Thread\n",
    "from queue import Queue\n",
    "\n",
    "def echo_client(q):\n",
    "    '''\n",
    "    Handle a client connection\n",
    "    '''\n",
    " \n",
    "    sock, client_addr = q.get()\n",
    "    print('Got connection from', client_addr)\n",
    "    while True:\n",
    "        msg = sock.recv(65536)\n",
    "        if not msg:\n",
    "            break\n",
    "        sock.sendall(msg)\n",
    "    print('Client closed connection')\n",
    "    sock.close()\n",
    "\n",
    "def echo_server(addr, nworkers):\n",
    "    # Launch the client workers\n",
    "    q = Queue()\n",
    "    for n in range(nworkers):\n",
    "        t = Thread(target=echo_client, args=(q,))\n",
    "        t.daemon = True\n",
    "        t.start()\n",
    " \n",
    "    # Run the server\n",
    "    sock = socket(AF_INET, SOCK_STREAM)\n",
    "    sock.bind(addr)\n",
    "    sock.listen(5)\n",
    "    while True:\n",
    "        client_sock, client_addr = sock.accept()\n",
    "        q.put((client_sock, client_addr))\n",
    "\n",
    "echo_server(('',15000), 128)"
   ]
  },
  {
   "cell_type": "code",
   "execution_count": null,
   "metadata": {
    "collapsed": true
   },
   "outputs": [],
   "source": [
    "from concurrent.futures import ThreadPoolExecutor\n",
    "import urllib.request\n",
    "\n",
    "def fetch_url(url):\n",
    "    u = urllib.request.urlopen(url)\n",
    "    data = u.read()\n",
    "    return data\n",
    "\n",
    "pool = ThreadPoolExecutor(10)\n",
    "# Submit work to the pool\n",
    "a = pool.submit(fetch_url, 'http://www.python.org')\n",
    "b = pool.submit(fetch_url, 'http://www.pypy.org')\n",
    "\n",
    "# Get the results back\n",
    "x = a.result()\n",
    "y = b.result()"
   ]
  },
  {
   "cell_type": "code",
   "execution_count": null,
   "metadata": {
    "collapsed": true
   },
   "outputs": [],
   "source": [
    "from threading import Thread\n",
    "from socket import socket, AF_INET, SOCK_STREAM\n",
    "\n",
    "def echo_client(sock, client_addr):\n",
    "    '''\n",
    "    Handle a client connection\n",
    "    '''\n",
    "    print('Got connection from', client_addr)\n",
    "    while True:\n",
    "        msg = sock.recv(65536)\n",
    "        if not msg:\n",
    "            break\n",
    "        sock.sendall(msg)\n",
    "    print('Client closed connection')\n",
    "    sock.close()\n",
    "\n",
    "    \n",
    "def echo_server(addr, nworkers):\n",
    "    # Run the server\n",
    "    sock = socket(AF_INET, SOCK_STREAM)\n",
    "    sock.bind(addr)\n",
    "    sock.listen(5)\n",
    "    while True:\n",
    "        client_sock, client_addr = sock.accept()\n",
    "        t = Thread(target=echo_client, args=(client_sock, client_addr))\n",
    "        t.daemon = True\n",
    "        t.start()\n",
    "\n",
    "echo_server(('',15000))"
   ]
  },
  {
   "cell_type": "code",
   "execution_count": null,
   "metadata": {
    "collapsed": true
   },
   "outputs": [],
   "source": [
    "import threading\n",
    "threading.stack_size(65536)"
   ]
  }
 ],
 "metadata": {
  "kernelspec": {
   "display_name": "Python 2",
   "language": "python",
   "name": "python2"
  },
  "language_info": {
   "codemirror_mode": {
    "name": "ipython",
    "version": 2
   },
   "file_extension": ".py",
   "mimetype": "text/x-python",
   "name": "python",
   "nbconvert_exporter": "python",
   "pygments_lexer": "ipython2",
   "version": "2.7.13"
  }
 },
 "nbformat": 4,
 "nbformat_minor": 2
}
