{
 "cells": [
  {
   "cell_type": "code",
   "execution_count": null,
   "metadata": {},
   "outputs": [],
   "source": [
    "from queue import Queue\n",
    "from threading import Thread\n",
    "# A thread that produces data\n",
    "def producer(out_q):\n",
    "    while True:\n",
    "        # Produce some data\n",
    "        out_q.put(data)\n",
    "\n",
    "# A thread that consumes data\n",
    "def consumer(in_q):\n",
    "    while True:\n",
    "        # Get some data\n",
    "        data = in_q.get()\n",
    "        # Process the data\n",
    "\n",
    "\n",
    "# Create the shared queue and launch both threads\n",
    "q = Queue()\n",
    "t1 = Thread(target=consumer, args=(q,))\n",
    "t2 = Thread(target=producer, args=(q,))\n",
    "t1.start()\n",
    "t2.start()\n"
   ]
  },
  {
   "cell_type": "code",
   "execution_count": null,
   "metadata": {
    "collapsed": true
   },
   "outputs": [],
   "source": [
    "from queue import Queue\n",
    "from threading import Thread\n",
    "\n",
    "# Object that signals shutdown\n",
    "_sentinel = object()\n",
    "\n",
    "# A thread that produces data\n",
    "def producer(out_q):\n",
    "    while running:\n",
    "        # Produce some data\n",
    "        out_q.put(data)\n",
    "        \n",
    "        # Put the sentinel on the queue to indicate completion\n",
    "        out_q.put(_sentinel)\n",
    "\n",
    "# A thread that consumes data\n",
    "def consumer(in_q):\n",
    "    while True:\n",
    "        # Get some data\n",
    "        data = in_q.get()\n",
    "        # Check for termination\n",
    "        if data is _sentinel:\n",
    "            in_q.put(_sentinel)\n",
    "            break"
   ]
  },
  {
   "cell_type": "code",
   "execution_count": null,
   "metadata": {
    "collapsed": true
   },
   "outputs": [],
   "source": [
    "import heapq\n",
    "import threading\n",
    "\n",
    "class PriorityQueue:\n",
    "    def __init__(self):\n",
    "        self._queue = []\n",
    "        self._count = 0\n",
    "        self._cv = threading.Condition()\n",
    " \n",
    "    def put(self, item, priority):\n",
    "        with self._cv:\n",
    "            heapq.heappush(self._queue, (-priority, self._count, item))\n",
    "            self._count += 1\n",
    "            self._cv.notify()\n",
    " \n",
    "    def get(self):\n",
    "        with self._cv:\n",
    "            while len(self._queue) == 0:\n",
    "                self._cv.wait()\n",
    "            return heapq.heappop(self._queue)[-1]"
   ]
  },
  {
   "cell_type": "code",
   "execution_count": null,
   "metadata": {
    "collapsed": true
   },
   "outputs": [],
   "source": [
    "from queue import Queue\n",
    "from threading import Thread\n",
    "\n",
    "# A thread that produces data\n",
    "def producer(out_q):\n",
    "    while running:\n",
    "        # Produce some data\n",
    "        out_q.put(data)\n",
    "\n",
    "# A thread that consumes data\n",
    "def consumer(in_q):\n",
    "    while True:\n",
    "        # Get some data\n",
    "        data = in_q.get()\n",
    "         # Process the data\n",
    "         # Indicate completion\n",
    "        in_q.task_done()\n",
    "\n",
    "# Create the shared queue and launch both threads\n",
    "q = Queue()\n",
    "t1 = Thread(target=consumer, args=(q,))\n",
    "t2 = Thread(target=producer, args=(q,))\n",
    "t1.start()\n",
    "t2.start()\n",
    "\n",
    "# Wait for all produced items to be consumed\n",
    "q.join()\n"
   ]
  },
  {
   "cell_type": "code",
   "execution_count": null,
   "metadata": {
    "collapsed": true
   },
   "outputs": [],
   "source": [
    "from queue import Queue\n",
    "from threading import Thread, Event\n",
    "\n",
    "# A thread that produces data\n",
    "def producer(out_q):\n",
    "    while running:\n",
    "        # Produce some data\n",
    " \n",
    "        # Make an (data, event) pair and hand it to the consumer\n",
    "        evt = Event()\n",
    "        out_q.put((data, evt))\n",
    " \n",
    "        # Wait for the consumer to process the item\n",
    "        evt.wait()\n",
    "\n",
    "# A thread that consumes data\n",
    "def consumer(in_q):\n",
    "    while True:\n",
    "        # Get some data\n",
    "        data, evt = in_q.get()\n",
    "        # Process the data\n",
    " \n",
    "        # Indicate completion\n",
    "        evt.set()"
   ]
  },
  {
   "cell_type": "code",
   "execution_count": null,
   "metadata": {
    "collapsed": true
   },
   "outputs": [],
   "source": [
    "from queue import Queue\n",
    "from threading import Thread\n",
    "import copy\n",
    "\n",
    "# A thread that produces data\n",
    "def producer(out_q):\n",
    "    while True:\n",
    "    # Produce some data\n",
    " \n",
    "        out_q.put(copy.deepcopy(data))\n",
    "\n",
    "# A thread that consumes data\n",
    "def consumer(in_q):\n",
    "    while True:\n",
    "        # Get some data\n",
    "        data = in_q.get()\n",
    "        # Process the data"
   ]
  },
  {
   "cell_type": "code",
   "execution_count": null,
   "metadata": {
    "collapsed": true
   },
   "outputs": [],
   "source": [
    "import queue\n",
    "q = queue.Queue()\n",
    "\n",
    "try:\n",
    "    data = q.get(block=False)\n",
    "except queue.Empty:\n",
    "    \n",
    "try:\n",
    "    q.put(item, block=False)\n",
    "except queue.Full:\n",
    "\n",
    "try:\n",
    "    data = q.get(timeout=5.0)\n",
    "except queue.Empty:\n"
   ]
  },
  {
   "cell_type": "code",
   "execution_count": null,
   "metadata": {
    "collapsed": true
   },
   "outputs": [],
   "source": [
    "def producer(q):\n",
    " \n",
    "    try:\n",
    "        q.put(item, block=False)\n",
    "    except queue.Full:\n",
    "        log.warning('queued item %r discarded!', item)"
   ]
  },
  {
   "cell_type": "code",
   "execution_count": null,
   "metadata": {
    "collapsed": true
   },
   "outputs": [],
   "source": [
    "_running = True\n",
    "\n",
    "def consumer(q):\n",
    "    while _running:\n",
    "        try:\n",
    "            item = q.get(timeout=5.0)\n",
    "            # Process item\n",
    " \n",
    "        except queue.Empty:\n",
    "            pass\n"
   ]
  }
 ],
 "metadata": {
  "kernelspec": {
   "display_name": "Python 2",
   "language": "python",
   "name": "python2"
  },
  "language_info": {
   "codemirror_mode": {
    "name": "ipython",
    "version": 2
   },
   "file_extension": ".py",
   "mimetype": "text/x-python",
   "name": "python",
   "nbconvert_exporter": "python",
   "pygments_lexer": "ipython2",
   "version": "2.7.13"
  }
 },
 "nbformat": 4,
 "nbformat_minor": 2
}
