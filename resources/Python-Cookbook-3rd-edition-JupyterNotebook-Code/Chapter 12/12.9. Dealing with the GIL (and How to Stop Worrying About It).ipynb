{
 "cells": [
  {
   "cell_type": "code",
   "execution_count": null,
   "metadata": {
    "collapsed": true
   },
   "outputs": [],
   "source": [
    "# Performs a large calculation (CPU bound)\n",
    "def some_work(args):\n",
    "    return result\n",
    "\n",
    "# A thread that calls the above function\n",
    "def some_thread():\n",
    "    while True:\n",
    " \n",
    "        r = some_work(args)"
   ]
  },
  {
   "cell_type": "code",
   "execution_count": null,
   "metadata": {
    "collapsed": true
   },
   "outputs": [],
   "source": [
    "# Processing pool (see below for initiazation)\n",
    "pool = None\n",
    "\n",
    "# Performs a large calculation (CPU bound)\n",
    "def some_work(args):\n",
    "    return result\n",
    "\n",
    "# A thread that calls the above function\n",
    "def some_thread():\n",
    "    while True:\n",
    "        r = pool.apply(some_work, (args))\n",
    "         ...\n",
    "# Initiaze the pool\n",
    "if __name__ == '__main__':\n",
    "    import multiprocessing\n",
    "    pool = multiprocessing.Pool()"
   ]
  },
  {
   "cell_type": "code",
   "execution_count": null,
   "metadata": {
    "collapsed": true
   },
   "outputs": [],
   "source": []
  }
 ],
 "metadata": {
  "kernelspec": {
   "display_name": "Python 2",
   "language": "python",
   "name": "python2"
  },
  "language_info": {
   "codemirror_mode": {
    "name": "ipython",
    "version": 2
   },
   "file_extension": ".py",
   "mimetype": "text/x-python",
   "name": "python",
   "nbconvert_exporter": "python",
   "pygments_lexer": "ipython2",
   "version": "2.7.13"
  }
 },
 "nbformat": 4,
 "nbformat_minor": 2
}
