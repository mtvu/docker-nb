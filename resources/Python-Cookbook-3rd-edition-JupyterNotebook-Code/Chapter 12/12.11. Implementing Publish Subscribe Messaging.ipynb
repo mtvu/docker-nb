{
 "cells": [
  {
   "cell_type": "code",
   "execution_count": null,
   "metadata": {
    "collapsed": true
   },
   "outputs": [],
   "source": [
    "from collections import defaultdict\n",
    "\n",
    "class Exchange:\n",
    "    def __init__(self):\n",
    "        self._subscribers = set()\n",
    "    \n",
    "    def attach(self, task):\n",
    "        self._subscribers.add(task)\n",
    " \n",
    "    def detach(self, task):\n",
    "        self._subscribers.remove(task)\n",
    " \n",
    "    def send(self, msg):\n",
    "        for subscriber in self._subscribers:\n",
    "            subscriber.send(msg)\n",
    "\n",
    "# Dictionary of all created exchanges\n",
    "_exchanges = defaultdict(Exchange)\n",
    "\n",
    "# Return the Exchange instance associated with a given name\n",
    "def get_exchange(name):\n",
    "    return _exchanges[name]"
   ]
  },
  {
   "cell_type": "code",
   "execution_count": null,
   "metadata": {
    "collapsed": true
   },
   "outputs": [],
   "source": [
    "# Example of a task. Any object with a send() method\n",
    "class Task:\n",
    "    def send(self, msg):\n",
    "        ...\n",
    "\n",
    "task_a = Task()\n",
    "task_b = Task()\n",
    "\n",
    "# Example of getting an exchange\n",
    "exc = get_exchange('name')\n",
    "\n",
    "# Examples of subscribing tasks to it\n",
    "exc.attach(task_a)\n",
    "exc.attach(task_b)\n",
    "\n",
    "# Example of sending messages\n",
    "exc.send('msg1')\n",
    "exc.send('msg2')\n",
    "\n",
    "# Example of unsubscribing\n",
    "exc.detach(task_a)\n",
    "exc.detach(task_b)"
   ]
  },
  {
   "cell_type": "code",
   "execution_count": null,
   "metadata": {
    "collapsed": true
   },
   "outputs": [],
   "source": [
    "class DisplayMessages:\n",
    "    def __init__(self):\n",
    "        self.count = 0\n",
    "\n",
    "    def send(self, msg):\n",
    "        self.count += 1\n",
    "        print('msg[{}]: {!r}'.format(self.count, msg))\n",
    "\n",
    "exc = get_exchange('name')\n",
    "d = DisplayMessages()\n",
    "exc.attach(d)"
   ]
  },
  {
   "cell_type": "code",
   "execution_count": null,
   "metadata": {
    "collapsed": true
   },
   "outputs": [],
   "source": [
    "exc = get_exchange('name')\n",
    "exc.attach(some_task)\n",
    "try:\n",
    "    \n",
    "\n",
    "finally:\n",
    "    exc.detach(some_task)"
   ]
  },
  {
   "cell_type": "code",
   "execution_count": null,
   "metadata": {
    "collapsed": true
   },
   "outputs": [],
   "source": [
    "from contextlib import contextmanager\n",
    "from collections import defaultdict\n",
    "\n",
    "class Exchange:\n",
    "    def __init__(self):\n",
    "        self._subscribers = set()\n",
    "\n",
    "    def attach(self, task):\n",
    "        self._subscribers.add(task)\n",
    " \n",
    "    def detach(self, task):\n",
    "        self._subscribers.remove(task)\n",
    " \n",
    "    @contextmanager\n",
    "    def subscribe(self, *tasks):\n",
    "        for task in tasks:\n",
    "            self.attach(task)\n",
    "        try:\n",
    "            yield\n",
    "        finally:\n",
    "            for task in tasks:\n",
    "                self.detach(task)\n",
    " \n",
    "    def send(self, msg):\n",
    "        for subscriber in self._subscribers:\n",
    "            subscriber.send(msg)\n",
    "\n",
    "# Dictionary of all created exchanges\n",
    "_exchanges = defaultdict(Exchange)\n",
    "\n",
    "# Return the Exchange instance associated with a given name\n",
    "def get_exchange(name):\n",
    "    return _exchanges[name]\n",
    "\n",
    "# Example of using the subscribe() method\n",
    "exc = get_exchange('name')\n",
    "with exc.subscribe(task_a, task_b):\n",
    " \n",
    "    exc.send('msg1')\n",
    "    exc.send('msg2')\n",
    " ...\n",
    "# task_a and task_b detached here"
   ]
  }
 ],
 "metadata": {
  "kernelspec": {
   "display_name": "Python 2",
   "language": "python",
   "name": "python2"
  },
  "language_info": {
   "codemirror_mode": {
    "name": "ipython",
    "version": 2
   },
   "file_extension": ".py",
   "mimetype": "text/x-python",
   "name": "python",
   "nbconvert_exporter": "python",
   "pygments_lexer": "ipython2",
   "version": "2.7.13"
  }
 },
 "nbformat": 4,
 "nbformat_minor": 2
}
