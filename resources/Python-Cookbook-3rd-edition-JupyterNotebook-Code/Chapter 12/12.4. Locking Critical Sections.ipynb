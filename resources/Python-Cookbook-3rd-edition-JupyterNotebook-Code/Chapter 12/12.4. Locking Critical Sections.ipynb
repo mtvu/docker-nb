{
 "cells": [
  {
   "cell_type": "code",
   "execution_count": null,
   "metadata": {
    "collapsed": true
   },
   "outputs": [],
   "source": [
    "import threading\n",
    "class SharedCounter:\n",
    "    '''\n",
    "    A counter object that can be shared by multiple threads.\n",
    "    '''\n",
    "    def __init__(self, initial_value = 0):\n",
    "        self._value = initial_value\n",
    "        self._value_lock = threading.Lock()\n",
    " \n",
    "    def incr(self,delta=1):\n",
    "        '''\n",
    "        Increment the counter with locking\n",
    "        '''\n",
    "        with self._value_lock:\n",
    "            self._value += delta\n",
    " \n",
    "    def decr(self,delta=1):\n",
    "        '''\n",
    "        Decrement the counter with locking\n",
    "        '''\n",
    "        with self._value_lock:\n",
    "            self._value -= delta"
   ]
  },
  {
   "cell_type": "code",
   "execution_count": null,
   "metadata": {
    "collapsed": true
   },
   "outputs": [],
   "source": [
    "import threading\n",
    "\n",
    "class SharedCounter:\n",
    "    '''\n",
    "    A counter object that can be shared by multiple threads.\n",
    "    '''\n",
    "\n",
    "    def __init__(self, initial_value = 0):\n",
    "    self._value = initial_value\n",
    "    self._value_lock = threading.Lock()\n",
    " \n",
    "    def incr(self,delta=1):\n",
    "        '''\n",
    "        Increment the counter with locking\n",
    "        '''\n",
    "        self._value_lock.acquire()\n",
    "        self._value += delta\n",
    "        self._value_lock.release()\n",
    " \n",
    "    def decr(self,delta=1):\n",
    "        '''\n",
    "        Decrement the counter with locking\n",
    "        '''\n",
    "        self._value_lock.acquire()\n",
    "        self._value -= delta\n",
    "        self._value_lock.release()"
   ]
  },
  {
   "cell_type": "code",
   "execution_count": null,
   "metadata": {
    "collapsed": true
   },
   "outputs": [],
   "source": [
    "import threading\n",
    "\n",
    "class SharedCounter:\n",
    "    '''\n",
    "    A counter object that can be shared by multiple threads.\n",
    "    '''\n",
    "    _lock = threading.RLock()\n",
    " \n",
    "    def __init__(self, initial_value = 0):\n",
    "        self._value = initial_value\n",
    " \n",
    "    def incr(self,delta=1):\n",
    "        '''\n",
    "        Increment the counter with locking\n",
    "        '''\n",
    "        with SharedCounter._lock:\n",
    "            self._value += delta\n",
    " \n",
    "    def decr(self,delta=1):\n",
    "        '''\n",
    "        Decrement the counter with locking\n",
    "        '''\n",
    "        with SharedCounter._lock:\n",
    "            self.incr(-delta)"
   ]
  },
  {
   "cell_type": "code",
   "execution_count": null,
   "metadata": {
    "collapsed": true
   },
   "outputs": [],
   "source": [
    "from threading import Semaphore\n",
    "import urllib.request\n",
    "\n",
    "# At most, five threads allowed to run at once\n",
    "_fetch_url_sema = Semaphore(5)\n",
    "\n",
    "def fetch_url(url):\n",
    "    with _fetch_url_sema:\n",
    "        return urllib.request.urlopen(url)"
   ]
  },
  {
   "cell_type": "code",
   "execution_count": null,
   "metadata": {
    "collapsed": true
   },
   "outputs": [],
   "source": []
  }
 ],
 "metadata": {
  "kernelspec": {
   "display_name": "Python 2",
   "language": "python",
   "name": "python2"
  },
  "language_info": {
   "codemirror_mode": {
    "name": "ipython",
    "version": 2
   },
   "file_extension": ".py",
   "mimetype": "text/x-python",
   "name": "python",
   "nbconvert_exporter": "python",
   "pygments_lexer": "ipython2",
   "version": "2.7.13"
  }
 },
 "nbformat": 4,
 "nbformat_minor": 2
}
