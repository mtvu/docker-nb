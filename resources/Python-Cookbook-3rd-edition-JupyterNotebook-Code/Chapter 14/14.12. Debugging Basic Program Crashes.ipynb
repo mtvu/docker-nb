{
 "cells": [
  {
   "cell_type": "code",
   "execution_count": null,
   "metadata": {
    "collapsed": true
   },
   "outputs": [],
   "source": [
    "# sample.py\n",
    "\n",
    "def func(n):\n",
    "    return n + 10\n",
    "\n",
    "func('Hello')"
   ]
  },
  {
   "cell_type": "code",
   "execution_count": null,
   "metadata": {
    "collapsed": true
   },
   "outputs": [],
   "source": [
    "import pdb\n",
    "pdb.pm()"
   ]
  },
  {
   "cell_type": "code",
   "execution_count": null,
   "metadata": {
    "collapsed": true
   },
   "outputs": [],
   "source": [
    "import traceback\n",
    "import sys\n",
    "\n",
    "try:\n",
    "    func(arg)\n",
    "except:\n",
    "    print('**** AN ERROR OCCURRED ****')\n",
    "    traceback.print_exc(file=sys.stderr)"
   ]
  },
  {
   "cell_type": "code",
   "execution_count": null,
   "metadata": {
    "collapsed": true
   },
   "outputs": [],
   "source": [
    "def sample(n):\n",
    "    if n > 0:\n",
    "        sample(n-1)\n",
    "    else:\n",
    "        traceback.print_stack(file=sys.stderr)\n",
    "\n",
    "sample(5)"
   ]
  },
  {
   "cell_type": "code",
   "execution_count": null,
   "metadata": {
    "collapsed": true
   },
   "outputs": [],
   "source": [
    "import pdb\n",
    "def func(arg):\n",
    " \n",
    "    pdb.set_trace()"
   ]
  }
 ],
 "metadata": {
  "kernelspec": {
   "display_name": "Python 2",
   "language": "python",
   "name": "python2"
  },
  "language_info": {
   "codemirror_mode": {
    "name": "ipython",
    "version": 2
   },
   "file_extension": ".py",
   "mimetype": "text/x-python",
   "name": "python",
   "nbconvert_exporter": "python",
   "pygments_lexer": "ipython2",
   "version": "2.7.13"
  }
 },
 "nbformat": 4,
 "nbformat_minor": 2
}
