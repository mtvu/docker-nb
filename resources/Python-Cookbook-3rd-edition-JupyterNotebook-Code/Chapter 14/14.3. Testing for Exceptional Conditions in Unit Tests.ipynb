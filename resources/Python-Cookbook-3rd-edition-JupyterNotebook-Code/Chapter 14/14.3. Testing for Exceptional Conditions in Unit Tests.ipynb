{
 "cells": [
  {
   "cell_type": "code",
   "execution_count": null,
   "metadata": {
    "collapsed": true
   },
   "outputs": [],
   "source": [
    "import unittest\n",
    "\n",
    "# A simple function to illustrate\n",
    "def parse_int(s):\n",
    "    return int(s)\n",
    "\n",
    "class TestConversion(unittest.TestCase):\n",
    "    def test_bad_int(self):\n",
    "        self.assertRaises(ValueError, parse_int, 'N/A')"
   ]
  },
  {
   "cell_type": "code",
   "execution_count": null,
   "metadata": {
    "collapsed": true
   },
   "outputs": [],
   "source": [
    "import errno\n",
    "\n",
    "class TestIO(unittest.TestCase):\n",
    "    def test_file_not_found(self):\n",
    "        try:\n",
    "            f = open('/file/not/found')\n",
    "        except IOError as e:\n",
    "            self.assertEqual(e.errno, errno.ENOENT)\n",
    "        else:\n",
    "            self.fail('IOError not raised')"
   ]
  },
  {
   "cell_type": "code",
   "execution_count": null,
   "metadata": {
    "collapsed": true
   },
   "outputs": [],
   "source": [
    "class TestConversion(unittest.TestCase):\n",
    "    def test_bad_int(self):\n",
    "        try:\n",
    "            r = parse_int('N/A')\n",
    "        except ValueError as e:\n",
    "            self.assertEqual(type(e), ValueError)"
   ]
  },
  {
   "cell_type": "code",
   "execution_count": null,
   "metadata": {
    "collapsed": true
   },
   "outputs": [],
   "source": [
    "class TestConversion(unittest.TestCase):\n",
    "    def test_bad_int(self):\n",
    "        try:\n",
    "            r = parse_int('N/A')\n",
    "        except ValueError as e:\n",
    "            self.assertEqual(type(e), ValueError)\n",
    "        else:\n",
    "            self.fail('ValueError not raised')"
   ]
  },
  {
   "cell_type": "code",
   "execution_count": null,
   "metadata": {
    "collapsed": true
   },
   "outputs": [],
   "source": [
    "class TestConversion(unittest.TestCase):\n",
    "    def test_bad_int(self):\n",
    "        self.assertRaisesRegex(ValueError, 'invalid literal .*',\n",
    "                                    parse_int, 'N/A')\n"
   ]
  },
  {
   "cell_type": "code",
   "execution_count": null,
   "metadata": {
    "collapsed": true
   },
   "outputs": [],
   "source": [
    "class TestConversion(unittest.TestCase):\n",
    "    def test_bad_int(self):\n",
    "        with self.assertRaisesRegex(ValueError, 'invalid literal .*'):\n",
    "            r = parse_int('N/A')"
   ]
  }
 ],
 "metadata": {
  "kernelspec": {
   "display_name": "Python 2",
   "language": "python",
   "name": "python2"
  },
  "language_info": {
   "codemirror_mode": {
    "name": "ipython",
    "version": 2
   },
   "file_extension": ".py",
   "mimetype": "text/x-python",
   "name": "python",
   "nbconvert_exporter": "python",
   "pygments_lexer": "ipython2",
   "version": "2.7.13"
  }
 },
 "nbformat": 4,
 "nbformat_minor": 2
}
