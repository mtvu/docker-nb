{
 "cells": [
  {
   "cell_type": "code",
   "execution_count": null,
   "metadata": {
    "collapsed": true
   },
   "outputs": [],
   "source": [
    "try:\n",
    "    client_obj.get_url(url)\n",
    "except (URLError, ValueError, SocketTimeout):\n",
    "    client_obj.remove_url(url)"
   ]
  },
  {
   "cell_type": "code",
   "execution_count": null,
   "metadata": {
    "collapsed": true
   },
   "outputs": [],
   "source": [
    "try:\n",
    "    client_obj.get_url(url)\n",
    "except (URLError, ValueError):\n",
    "    client_obj.remove_url(url)\n",
    "except SocketTimeout:\n",
    "    client_obj.handle_url_timeout(url)"
   ]
  },
  {
   "cell_type": "code",
   "execution_count": null,
   "metadata": {
    "collapsed": true
   },
   "outputs": [],
   "source": [
    "try:\n",
    "    f = open(filename)\n",
    "except (FileNotFoundError, PermissionError):"
   ]
  },
  {
   "cell_type": "code",
   "execution_count": null,
   "metadata": {
    "collapsed": true
   },
   "outputs": [],
   "source": [
    "try:\n",
    "    f = open(filename)\n",
    "except OSError:"
   ]
  },
  {
   "cell_type": "code",
   "execution_count": null,
   "metadata": {
    "collapsed": true
   },
   "outputs": [],
   "source": [
    "try:\n",
    "    f = open(filename)\n",
    "except OSError as e:\n",
    "    if e.errno == errno.ENOENT:\n",
    "        logger.error('File not found')\n",
    "    elif e.errno == errno.EACCES:\n",
    "        logger.error('Permission denied')\n",
    "    else:\n",
    "        logger.error('Unexpected error: %d', e.errno)"
   ]
  },
  {
   "cell_type": "code",
   "execution_count": null,
   "metadata": {
    "collapsed": true
   },
   "outputs": [],
   "source": [
    "f = open('missing')"
   ]
  },
  {
   "cell_type": "code",
   "execution_count": null,
   "metadata": {
    "collapsed": true
   },
   "outputs": [],
   "source": [
    "try:\n",
    "    f = open('missing')\n",
    "except OSError:\n",
    "    print('It failed')\n",
    "except FileNotFoundError:\n",
    "    print('File not found')"
   ]
  }
 ],
 "metadata": {
  "kernelspec": {
   "display_name": "Python 2",
   "language": "python",
   "name": "python2"
  },
  "language_info": {
   "codemirror_mode": {
    "name": "ipython",
    "version": 2
   },
   "file_extension": ".py",
   "mimetype": "text/x-python",
   "name": "python",
   "nbconvert_exporter": "python",
   "pygments_lexer": "ipython2",
   "version": "2.7.13"
  }
 },
 "nbformat": 4,
 "nbformat_minor": 2
}
