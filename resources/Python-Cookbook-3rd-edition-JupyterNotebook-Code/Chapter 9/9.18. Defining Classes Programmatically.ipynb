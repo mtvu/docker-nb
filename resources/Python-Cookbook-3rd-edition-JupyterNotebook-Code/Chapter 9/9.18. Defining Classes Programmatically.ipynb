{
 "cells": [
  {
   "cell_type": "code",
   "execution_count": null,
   "metadata": {},
   "outputs": [],
   "source": [
    "# stock.py\n",
    "# Example of making a class manually from parts\n",
    "# Methods\n",
    "def __init__(self, name, shares, price):\n",
    "    self.name = name\n",
    "    self.shares = shares\n",
    "    self.price = price\n",
    "\n",
    "def cost(self):\n",
    "    return self.shares * self.price\n",
    "\n",
    "cls_dict = {\n",
    " '__init__' : __init__,\n",
    " 'cost' : cost,\n",
    "}\n",
    "\n",
    "# Make a class\n",
    "\n",
    "\n",
    "import types\n",
    "\n",
    "Stock = types.new_class('Stock', (), {}, lambda ns: ns.update(cls_dict))\n",
    "Stock.__module__ = __name__"
   ]
  },
  {
   "cell_type": "code",
   "execution_count": null,
   "metadata": {},
   "outputs": [],
   "source": [
    "s = Stock('ACME', 50, 91.1)\n",
    "s"
   ]
  },
  {
   "cell_type": "code",
   "execution_count": null,
   "metadata": {},
   "outputs": [],
   "source": [
    "s.cost()"
   ]
  },
  {
   "cell_type": "code",
   "execution_count": null,
   "metadata": {
    "collapsed": true
   },
   "outputs": [],
   "source": [
    "import abc\n",
    "Stock = types.new_class('Stock', (), {'metaclass': abc.ABCMeta},\n",
    "                         lambda ns: ns.update(cls_dict))\n",
    "\n",
    "Stock.__module__ = __name__\n",
    "Stock"
   ]
  },
  {
   "cell_type": "code",
   "execution_count": null,
   "metadata": {
    "collapsed": true
   },
   "outputs": [],
   "source": [
    "class Spam(Base, debug=True, typecheck=False):"
   ]
  },
  {
   "cell_type": "code",
   "execution_count": null,
   "metadata": {
    "collapsed": true
   },
   "outputs": [],
   "source": [
    "Spam = types.new_class('Spam', (Base,),\n",
    "                       {'debug': True, 'typecheck': False},\n",
    "                        lambda ns: ns.update(cls_dict))"
   ]
  },
  {
   "cell_type": "code",
   "execution_count": null,
   "metadata": {
    "collapsed": true
   },
   "outputs": [],
   "source": [
    "Stock = collections.namedtuple('Stock', ['name', 'shares', 'price'])\n",
    "Stock"
   ]
  },
  {
   "cell_type": "code",
   "execution_count": null,
   "metadata": {
    "collapsed": true
   },
   "outputs": [],
   "source": [
    "import operator\n",
    "import types\n",
    "import sys\n",
    "\n",
    "def named_tuple(classname, fieldnames):\n",
    "    # Populate a dictionary of field property accessors\n",
    "    cls_dict = { name: property(operator.itemgetter(n))\n",
    "                 for n, name in enumerate(fieldnames) }\n",
    " \n",
    "    # Make a __new__ function and add to the class dict\n",
    "    def __new__(cls, *args):\n",
    "        if len(args) != len(fieldnames):\n",
    "            raise TypeError('Expected {} arguments'.format(len(fieldnames)))\n",
    "        return tuple.__new__(cls, args)\n",
    "\n",
    "    cls_dict['__new__'] = __new__\n",
    " \n",
    "    # Make the class\n",
    "    cls = types.new_class(classname, (tuple,), {},\n",
    "                          lambda ns: ns.update(cls_dict))\n",
    " \n",
    "    # Set the module to that of the caller\n",
    "    cls.__module__ = sys._getframe(1).f_globals['__name__']\n",
    "    return cls\n"
   ]
  },
  {
   "cell_type": "code",
   "execution_count": null,
   "metadata": {
    "collapsed": true
   },
   "outputs": [],
   "source": [
    "Point = named_tuple('Point', ['x', 'y'])\n",
    "Point"
   ]
  },
  {
   "cell_type": "code",
   "execution_count": null,
   "metadata": {
    "collapsed": true
   },
   "outputs": [],
   "source": [
    "p = Point(4, 5)\n",
    "len(p)"
   ]
  },
  {
   "cell_type": "code",
   "execution_count": null,
   "metadata": {
    "collapsed": true
   },
   "outputs": [],
   "source": [
    "p.x"
   ]
  },
  {
   "cell_type": "code",
   "execution_count": null,
   "metadata": {
    "collapsed": true
   },
   "outputs": [],
   "source": [
    "p.y"
   ]
  },
  {
   "cell_type": "code",
   "execution_count": null,
   "metadata": {
    "collapsed": true
   },
   "outputs": [],
   "source": [
    "p.x = 2"
   ]
  },
  {
   "cell_type": "code",
   "execution_count": null,
   "metadata": {
    "collapsed": true
   },
   "outputs": [],
   "source": [
    "Stock = type('Stock', (), cls_dict)"
   ]
  },
  {
   "cell_type": "code",
   "execution_count": null,
   "metadata": {
    "collapsed": true
   },
   "outputs": [],
   "source": [
    "import types\n",
    "\n",
    "metaclass, kwargs, ns = types.prepare_class('Stock', (), {'metaclass': type})"
   ]
  }
 ],
 "metadata": {
  "kernelspec": {
   "display_name": "Python 2",
   "language": "python",
   "name": "python2"
  },
  "language_info": {
   "codemirror_mode": {
    "name": "ipython",
    "version": 2
   },
   "file_extension": ".py",
   "mimetype": "text/x-python",
   "name": "python",
   "nbconvert_exporter": "python",
   "pygments_lexer": "ipython2",
   "version": "2.7.13"
  }
 },
 "nbformat": 4,
 "nbformat_minor": 2
}
