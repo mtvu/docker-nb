{
 "cells": [
  {
   "cell_type": "code",
   "execution_count": null,
   "metadata": {
    "collapsed": true
   },
   "outputs": [],
   "source": [
    "a = 13\n",
    "exec('b = a + 1')\n",
    "print(b)"
   ]
  },
  {
   "cell_type": "code",
   "execution_count": null,
   "metadata": {
    "collapsed": true
   },
   "outputs": [],
   "source": [
    "def test():\n",
    "    a = 13\n",
    "    exec('b = a + 1')\n",
    "    print(b)\n",
    "\n",
    "test()"
   ]
  },
  {
   "cell_type": "code",
   "execution_count": null,
   "metadata": {
    "collapsed": true
   },
   "outputs": [],
   "source": [
    "def test():\n",
    "    a = 13\n",
    "    loc = locals()\n",
    "    exec('b = a + 1')\n",
    "    b = loc['b']\n",
    "    print(b)\n",
    "\n",
    "test()"
   ]
  },
  {
   "cell_type": "code",
   "execution_count": null,
   "metadata": {
    "collapsed": true
   },
   "outputs": [],
   "source": [
    "def test1():\n",
    "    x = 0\n",
    "    exec('x += 1')\n",
    "    print(x)\n",
    "\n",
    "test1()"
   ]
  },
  {
   "cell_type": "code",
   "execution_count": null,
   "metadata": {
    "collapsed": true
   },
   "outputs": [],
   "source": [
    "def test2():\n",
    "    x = 0\n",
    "    loc = locals()\n",
    "    print('before:', loc)\n",
    "    exec('x += 1')\n",
    "    print('after:', loc)\n",
    "    print('x =', x)\n",
    "\n",
    "test2()"
   ]
  },
  {
   "cell_type": "code",
   "execution_count": null,
   "metadata": {
    "collapsed": true
   },
   "outputs": [],
   "source": [
    "def test3():\n",
    "    x = 0\n",
    "    loc = locals()\n",
    "    print(loc)\n",
    "    exec('x += 1')\n",
    "    print(loc)\n",
    "    locals()\n",
    "    print(loc)\n",
    "\n",
    "test3()"
   ]
  },
  {
   "cell_type": "code",
   "execution_count": null,
   "metadata": {
    "collapsed": true
   },
   "outputs": [],
   "source": [
    "def test4():\n",
    "    a = 13\n",
    "    loc = { 'a' : a }\n",
    "    glb = { }\n",
    "    exec('b = a + 1', glb, loc)\n",
    "    b = loc['b']\n",
    "    print(b)\n",
    "\n",
    "test4()"
   ]
  }
 ],
 "metadata": {
  "kernelspec": {
   "display_name": "Python 2",
   "language": "python",
   "name": "python2"
  },
  "language_info": {
   "codemirror_mode": {
    "name": "ipython",
    "version": 2
   },
   "file_extension": ".py",
   "mimetype": "text/x-python",
   "name": "python",
   "nbconvert_exporter": "python",
   "pygments_lexer": "ipython2",
   "version": "2.7.13"
  }
 },
 "nbformat": 4,
 "nbformat_minor": 2
}
