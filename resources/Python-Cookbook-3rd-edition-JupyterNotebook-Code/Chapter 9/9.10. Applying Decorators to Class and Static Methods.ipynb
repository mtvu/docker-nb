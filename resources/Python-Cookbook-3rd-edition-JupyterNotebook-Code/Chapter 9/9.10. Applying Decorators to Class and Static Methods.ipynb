{
 "cells": [
  {
   "cell_type": "code",
   "execution_count": 1,
   "metadata": {
    "collapsed": true
   },
   "outputs": [],
   "source": [
    "import time\n",
    "from functools import wraps\n",
    "\n",
    "# A simple decorator\n",
    "def timethis(func):\n",
    "    @wraps(func)\n",
    "    def wrapper(*args, **kwargs):\n",
    "        start = time.time()\n",
    "        r = func(*args, **kwargs)\n",
    "        end = time.time()\n",
    "        print(end-start)\n",
    "        return r\n",
    "    return wrapper\n",
    "\n",
    "\n",
    "# Class illustrating application of the decorator to different kinds of methods\n",
    "class Spam:\n",
    "    @timethis\n",
    "    def instance_method(self, n):\n",
    "        print(self, n)\n",
    "        while n > 0:\n",
    "            n -= 1\n",
    "    \n",
    "    @classmethod\n",
    "    @timethis\n",
    "    def class_method(cls, n):\n",
    "        print(cls, n)\n",
    "        while n > 0:\n",
    "            n -= 1\n",
    " \n",
    "    @staticmethod\n",
    "    @timethis\n",
    "    def static_method(n):\n",
    "        print(n)\n",
    "        while n > 0:\n",
    "            n -= 1"
   ]
  },
  {
   "cell_type": "code",
   "execution_count": 2,
   "metadata": {},
   "outputs": [
    {
     "name": "stdout",
     "output_type": "stream",
     "text": [
      "(<__main__.Spam instance at 0x00000000056E8508>, 1000000)\n",
      "0.0879998207092\n"
     ]
    }
   ],
   "source": [
    "s = Spam()\n",
    "s.instance_method(1000000)"
   ]
  },
  {
   "cell_type": "code",
   "execution_count": 3,
   "metadata": {},
   "outputs": [
    {
     "name": "stdout",
     "output_type": "stream",
     "text": [
      "(<class __main__.Spam at 0x00000000049AF408>, 1000000)\n",
      "0.0569999217987\n"
     ]
    }
   ],
   "source": [
    "Spam.class_method(1000000)"
   ]
  },
  {
   "cell_type": "code",
   "execution_count": 4,
   "metadata": {},
   "outputs": [
    {
     "name": "stdout",
     "output_type": "stream",
     "text": [
      "1000000\n",
      "0.0429999828339\n"
     ]
    }
   ],
   "source": [
    "Spam.static_method(1000000)"
   ]
  },
  {
   "cell_type": "code",
   "execution_count": null,
   "metadata": {
    "collapsed": true
   },
   "outputs": [],
   "source": [
    "class Spam:\n",
    "    @timethis\n",
    "    @staticmethod\n",
    "    def static_method(n):\n",
    "        print(n)\n",
    "        while n > 0:\n",
    "            n -= 1"
   ]
  },
  {
   "cell_type": "code",
   "execution_count": null,
   "metadata": {
    "collapsed": true
   },
   "outputs": [],
   "source": [
    "from abc import ABCMeta, abstractmethod\n",
    "class A(metaclass=ABCMeta):\n",
    "    @classmethod\n",
    "    @abstractmethod\n",
    "    def method(cls):\n",
    "        pass"
   ]
  }
 ],
 "metadata": {
  "kernelspec": {
   "display_name": "Python 2",
   "language": "python",
   "name": "python2"
  },
  "language_info": {
   "codemirror_mode": {
    "name": "ipython",
    "version": 2
   },
   "file_extension": ".py",
   "mimetype": "text/x-python",
   "name": "python",
   "nbconvert_exporter": "python",
   "pygments_lexer": "ipython2",
   "version": "2.7.13"
  }
 },
 "nbformat": 4,
 "nbformat_minor": 2
}
