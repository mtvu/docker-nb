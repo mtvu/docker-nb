{
 "cells": [
  {
   "cell_type": "code",
   "execution_count": null,
   "metadata": {},
   "outputs": [],
   "source": [
    "from inspect import Signature, Parameter\n",
    "# Make a signature for a func(x, y=42, *, z=None)\n",
    "parms = [ Parameter('x', Parameter.POSITIONAL_OR_KEYWORD),\n",
    "          Parameter('y', Parameter.POSITIONAL_OR_KEYWORD, default=42),\n",
    "          Parameter('z', Parameter.KEYWORD_ONLY, default=None) ]\n",
    "sig = Signature(parms)\n",
    "print(sig)"
   ]
  },
  {
   "cell_type": "code",
   "execution_count": null,
   "metadata": {},
   "outputs": [],
   "source": [
    "def func(*args, **kwargs):\n",
    "    bound_values = sig.bind(*args, **kwargs)\n",
    "    for name, value in bound_values.arguments.items():\n",
    "        print(name,value)\n",
    "\n",
    "# Try various examples\n",
    "func(1, 2, z=3)"
   ]
  },
  {
   "cell_type": "code",
   "execution_count": null,
   "metadata": {
    "collapsed": true
   },
   "outputs": [],
   "source": [
    "func(1)"
   ]
  },
  {
   "cell_type": "code",
   "execution_count": null,
   "metadata": {
    "collapsed": true
   },
   "outputs": [],
   "source": [
    "func(1, z=3)"
   ]
  },
  {
   "cell_type": "code",
   "execution_count": null,
   "metadata": {
    "collapsed": true
   },
   "outputs": [],
   "source": [
    "func(y=2, x=1)"
   ]
  },
  {
   "cell_type": "code",
   "execution_count": null,
   "metadata": {
    "collapsed": true
   },
   "outputs": [],
   "source": [
    "func(1, 2, 3, 4)"
   ]
  },
  {
   "cell_type": "code",
   "execution_count": null,
   "metadata": {
    "collapsed": true
   },
   "outputs": [],
   "source": [
    "from inspect import Signature, Parameter\n",
    "\n",
    "def make_sig(*names):\n",
    "    parms = [Parameter(name, Parameter.POSITIONAL_OR_KEYWORD)\n",
    "             for name in names]\n",
    "    return Signature(parms)\n",
    "\n",
    "class Structure:\n",
    "    __signature__ = make_sig()\n",
    "    def __init__(self, *args, **kwargs):\n",
    "        bound_values = self.__signature__.bind(*args, **kwargs)\n",
    "        for name, value in bound_values.arguments.items():\n",
    "            setattr(self, name, value)\n",
    "\n",
    "# Example use\n",
    "class Stock(Structure):\n",
    "    __signature__ = make_sig('name', 'shares', 'price')\n",
    "\n",
    "class Point(Structure):\n",
    "    __signature__ = make_sig('x', 'y')"
   ]
  },
  {
   "cell_type": "code",
   "execution_count": null,
   "metadata": {
    "collapsed": true
   },
   "outputs": [],
   "source": [
    "import inspect\n",
    "print(inspect.signature(Stock))\n",
    "\n",
    "s1 = Stock('ACME', 100, 490.1)\n",
    "s2 = Stock('ACME', 100)\n",
    "s3 = Stock('ACME', 100, 490.1, shares=50)"
   ]
  },
  {
   "cell_type": "code",
   "execution_count": null,
   "metadata": {
    "collapsed": true
   },
   "outputs": [],
   "source": [
    "from inspect import Signature, Parameter\n",
    "\n",
    "def make_sig(*names):\n",
    "    parms = [Parameter(name, Parameter.POSITIONAL_OR_KEYWORD)\n",
    "             for name in names]\n",
    "    return Signature(parms)\n",
    "\n",
    "class StructureMeta(type):\n",
    "    def __new__(cls, clsname, bases, clsdict):\n",
    "        clsdict['__signature__'] = make_sig(*clsdict.get('_fields',[]))\n",
    "        return super().__new__(cls, clsname, bases, clsdict)\n",
    "\n",
    "class Structure(metaclass=StructureMeta):\n",
    "    _fields = []\n",
    "    def __init__(self, *args, **kwargs):\n",
    "        bound_values = self.__signature__.bind(*args, **kwargs)\n",
    "        for name, value in bound_values.arguments.items():\n",
    "            setattr(self, name, value)\n",
    "\n",
    "# Example\n",
    "class Stock(Structure):\n",
    "    _fields = ['name', 'shares', 'price']\n",
    "\n",
    "class Point(Structure):\n",
    "    _fields = ['x', 'y']\n",
    "    \n",
    "import inspect\n",
    "print(inspect.signature(Stock))\n",
    "print(inspect.signature(Point))"
   ]
  }
 ],
 "metadata": {
  "kernelspec": {
   "display_name": "Python 2",
   "language": "python",
   "name": "python2"
  },
  "language_info": {
   "codemirror_mode": {
    "name": "ipython",
    "version": 2
   },
   "file_extension": ".py",
   "mimetype": "text/x-python",
   "name": "python",
   "nbconvert_exporter": "python",
   "pygments_lexer": "ipython2",
   "version": "2.7.13"
  }
 },
 "nbformat": 4,
 "nbformat_minor": 2
}
