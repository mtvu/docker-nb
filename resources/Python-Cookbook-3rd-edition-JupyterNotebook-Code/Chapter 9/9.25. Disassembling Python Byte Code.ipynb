{
 "cells": [
  {
   "cell_type": "code",
   "execution_count": 1,
   "metadata": {},
   "outputs": [
    {
     "name": "stdout",
     "output_type": "stream",
     "text": [
      "  2           0 SETUP_LOOP              37 (to 40)\n",
      "        >>    3 LOAD_FAST                0 (n)\n",
      "              6 LOAD_CONST               1 (0)\n",
      "              9 COMPARE_OP               4 (>)\n",
      "             12 POP_JUMP_IF_FALSE       39\n",
      "\n",
      "  3          15 LOAD_CONST               2 ('T-minus')\n",
      "             18 LOAD_FAST                0 (n)\n",
      "             21 BUILD_TUPLE              2\n",
      "             24 PRINT_ITEM          \n",
      "             25 PRINT_NEWLINE       \n",
      "\n",
      "  4          26 LOAD_FAST                0 (n)\n",
      "             29 LOAD_CONST               3 (1)\n",
      "             32 INPLACE_SUBTRACT    \n",
      "             33 STORE_FAST               0 (n)\n",
      "             36 JUMP_ABSOLUTE            3\n",
      "        >>   39 POP_BLOCK           \n",
      "\n",
      "  5     >>   40 LOAD_CONST               4 ('Blastoff!')\n",
      "             43 PRINT_ITEM          \n",
      "             44 PRINT_NEWLINE       \n",
      "             45 LOAD_CONST               0 (None)\n",
      "             48 RETURN_VALUE        \n"
     ]
    }
   ],
   "source": [
    "def countdown(n):\n",
    "    while n > 0:\n",
    "        print('T-minus', n)\n",
    "        n -= 1\n",
    "    print('Blastoff!')\n",
    "\n",
    "import dis\n",
    "dis.dis(countdown)"
   ]
  },
  {
   "cell_type": "code",
   "execution_count": null,
   "metadata": {
    "collapsed": true
   },
   "outputs": [],
   "source": [
    "c = countdown.__code__.co_code\n",
    "import opcode\n",
    "opcode.opname[c[0]]\n",
    "opcode.opname[c[0]]\n",
    "\n",
    "opcode.opname[c[3]]"
   ]
  },
  {
   "cell_type": "code",
   "execution_count": 2,
   "metadata": {
    "collapsed": true
   },
   "outputs": [],
   "source": [
    "import opcode\n",
    "\n",
    "def generate_opcodes(codebytes):\n",
    "    extended_arg = 0\n",
    "    i = 0\n",
    "    n = len(codebytes)\n",
    "    while i < n:\n",
    "        op = codebytes[i]\n",
    "        i += 1\n",
    "        if op >= opcode.HAVE_ARGUMENT:\n",
    "            oparg = codebytes[i] + codebytes[i+1]*256 + extended_arg\n",
    "            extended_arg = 0\n",
    "            i += 2\n",
    "            if op == opcode.EXTENDED_ARG:\n",
    "                extended_arg = oparg * 65536\n",
    "                continue\n",
    "        else:\n",
    "            oparg = None\n",
    "    yield (op, oparg)"
   ]
  },
  {
   "cell_type": "code",
   "execution_count": null,
   "metadata": {},
   "outputs": [],
   "source": [
    "for op, oparg in generate_opcodes(countdown.__code__.co_code):\n",
    "    print(op, opcode.opname[op], oparg)"
   ]
  },
  {
   "cell_type": "code",
   "execution_count": null,
   "metadata": {
    "collapsed": true
   },
   "outputs": [],
   "source": [
    "def add(x, y):\n",
    "    return x + y\n",
    "\n",
    "c = add.__code__\n",
    "c"
   ]
  },
  {
   "cell_type": "code",
   "execution_count": null,
   "metadata": {
    "collapsed": true
   },
   "outputs": [],
   "source": [
    "# Make a completely new code object with bogus byte code\n",
    "import types\n",
    "newbytecode = b'xxxxxxx'\n",
    "nc = types.CodeType(c.co_argcount, c.co_kwonlyargcount,\n",
    "            c.co_nlocals, c.co_stacksize, c.co_flags, newbytecode, c.co_consts,\n",
    "            c.co_names, c.co_varnames, c.co_filename, c.co_name,\n",
    "            c.co_firstlineno, c.co_lnotab)\n",
    "nc"
   ]
  },
  {
   "cell_type": "code",
   "execution_count": null,
   "metadata": {
    "collapsed": true
   },
   "outputs": [],
   "source": [
    "add.__code__ = nc\n",
    "add(2,3)"
   ]
  }
 ],
 "metadata": {
  "kernelspec": {
   "display_name": "Python 2",
   "language": "python",
   "name": "python2"
  },
  "language_info": {
   "codemirror_mode": {
    "name": "ipython",
    "version": 2
   },
   "file_extension": ".py",
   "mimetype": "text/x-python",
   "name": "python",
   "nbconvert_exporter": "python",
   "pygments_lexer": "ipython2",
   "version": "2.7.13"
  }
 },
 "nbformat": 4,
 "nbformat_minor": 2
}
