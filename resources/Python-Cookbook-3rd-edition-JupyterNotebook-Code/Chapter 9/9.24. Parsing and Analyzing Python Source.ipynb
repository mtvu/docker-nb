{
 "cells": [
  {
   "cell_type": "code",
   "execution_count": 1,
   "metadata": {},
   "outputs": [
    {
     "data": {
      "text/plain": [
       "56"
      ]
     },
     "execution_count": 1,
     "metadata": {},
     "output_type": "execute_result"
    }
   ],
   "source": [
    "x = 42\n",
    "eval('2 + 3*4 + x')"
   ]
  },
  {
   "cell_type": "code",
   "execution_count": 2,
   "metadata": {},
   "outputs": [
    {
     "name": "stdout",
     "output_type": "stream",
     "text": [
      "0\n",
      "1\n",
      "2\n",
      "3\n",
      "4\n",
      "5\n",
      "6\n",
      "7\n",
      "8\n",
      "9\n"
     ]
    }
   ],
   "source": [
    "exec('for i in range(10): print(i)')"
   ]
  },
  {
   "cell_type": "code",
   "execution_count": 3,
   "metadata": {},
   "outputs": [
    {
     "data": {
      "text/plain": [
       "<_ast.Expression at 0x56cb208>"
      ]
     },
     "execution_count": 3,
     "metadata": {},
     "output_type": "execute_result"
    }
   ],
   "source": [
    "import ast\n",
    "ex = ast.parse('2 + 3*4 + x', mode='eval')\n",
    "ex"
   ]
  },
  {
   "cell_type": "code",
   "execution_count": 4,
   "metadata": {},
   "outputs": [
    {
     "data": {
      "text/plain": [
       "\"Expression(body=BinOp(left=BinOp(left=Num(n=2), op=Add(), right=BinOp(left=Num(n=3), op=Mult(), right=Num(n=4))), op=Add(), right=Name(id='x', ctx=Load())))\""
      ]
     },
     "execution_count": 4,
     "metadata": {},
     "output_type": "execute_result"
    }
   ],
   "source": [
    "ast.dump(ex)"
   ]
  },
  {
   "cell_type": "code",
   "execution_count": 5,
   "metadata": {
    "collapsed": true
   },
   "outputs": [],
   "source": [
    "top = ast.parse('for i in range(10): print(i)', mode='exec')"
   ]
  },
  {
   "cell_type": "code",
   "execution_count": 6,
   "metadata": {},
   "outputs": [
    {
     "data": {
      "text/plain": [
       "<_ast.Module at 0x56cb0f0>"
      ]
     },
     "execution_count": 6,
     "metadata": {},
     "output_type": "execute_result"
    }
   ],
   "source": [
    "top"
   ]
  },
  {
   "cell_type": "code",
   "execution_count": 7,
   "metadata": {},
   "outputs": [
    {
     "data": {
      "text/plain": [
       "\"Module(body=[For(target=Name(id='i', ctx=Store()), iter=Call(func=Name(id='range', ctx=Load()), args=[Num(n=10)], keywords=[], starargs=None, kwargs=None), body=[Print(dest=None, values=[Name(id='i', ctx=Load())], nl=True)], orelse=[])])\""
      ]
     },
     "execution_count": 7,
     "metadata": {},
     "output_type": "execute_result"
    }
   ],
   "source": [
    "ast.dump(top)"
   ]
  },
  {
   "cell_type": "code",
   "execution_count": null,
   "metadata": {
    "collapsed": true
   },
   "outputs": [],
   "source": [
    "import ast\n",
    "class CodeAnalyzer(ast.NodeVisitor):\n",
    "    def __init__(self):\n",
    "        self.loaded = set()\n",
    "        self.stored = set()\n",
    "        self.deleted = set()\n",
    "    def visit_Name(self, node):\n",
    "        if isinstance(node.ctx, ast.Load):\n",
    "            self.loaded.add(node.id)\n",
    "        elif isinstance(node.ctx, ast.Store):\n",
    "            self.stored.add(node.id)\n",
    "        elif isinstance(node.ctx, ast.Del):\n",
    "            self.deleted.add(node.id)\n",
    "\n",
    "# Sample usage\n",
    "if __name__ == '__main__':\n",
    "    # Some Python code\n",
    "    code = '''\n",
    "for i in range(10):\n",
    "    print(i)\n",
    "del i\n",
    "'''\n",
    " \n",
    "    # Parse into an AST\n",
    "    top = ast.parse(code, mode='exec')\n",
    "\n",
    "    # Feed the AST to analyze name usage\n",
    "    c = CodeAnalyzer()\n",
    "    c.visit(top)\n",
    "    print('Loaded:', c.loaded)\n",
    "    print('Stored:', c.stored)\n",
    "    print('Deleted:', c.deleted)"
   ]
  },
  {
   "cell_type": "code",
   "execution_count": null,
   "metadata": {
    "collapsed": true
   },
   "outputs": [],
   "source": [
    "# namelower.py\n",
    "import ast\n",
    "import inspect\n",
    "\n",
    "# Node visitor that lowers globally accessed names into\n",
    "# the function body as local variables.\n",
    "class NameLower(ast.NodeVisitor):\n",
    "    def __init__(self, lowered_names):\n",
    "        self.lowered_names = lowered_names\n",
    " \n",
    "    def visit_FunctionDef(self, node):\n",
    "        # Compile some assignments to lower the constants\n",
    "        code = '__globals = globals()\\n'\n",
    "        code += '\\n'.join(\"{0} = __globals['{0}']\".format(name)\n",
    "                            for name in self.lowered_names)\n",
    " \n",
    "    code_ast = ast.parse(code, mode='exec')\n",
    " \n",
    "    # Inject new statements into the function body\n",
    "    node.body[:0] = code_ast.body\n",
    " \n",
    "    # Save the function object\n",
    "    self.func = node\n",
    "\n",
    "    \n",
    "# Decorator that turns global names into locals\n",
    "def lower_names(*namelist):\n",
    "    def lower(func):\n",
    "        srclines = inspect.getsource(func).splitlines()\n",
    "        # Skip source lines prior to the @lower_names decorator\n",
    "        for n, line in enumerate(srclines):\n",
    "            if '@lower_names' in line:\n",
    "                break\n",
    " \n",
    "        src = '\\n'.join(srclines[n+1:])\n",
    "        # Hack to deal with indented code\n",
    "        if src.startswith((' ','\\t')):\n",
    "            src = 'if 1:\\n' + src\n",
    "        top = ast.parse(src, mode='exec')\n",
    "     \n",
    "        # Transform the AST\n",
    "        cl = NameLower(namelist)\n",
    "        cl.visit(top)\n",
    " \n",
    "        # Execute the modified AST\n",
    "        temp = {}\n",
    "        exec(compile(top,'','exec'), temp, temp)\n",
    " \n",
    "        # Pull out the modified code object\n",
    "        func.__code__ = temp[func.__name__].__code__\n",
    "        return func\n",
    "    return lower\n"
   ]
  },
  {
   "cell_type": "code",
   "execution_count": null,
   "metadata": {
    "collapsed": true
   },
   "outputs": [],
   "source": [
    "INCR = 1\n",
    "@lower_names('INCR')\n",
    "def countdown(n):\n",
    "    while n > 0:\n",
    "        n -= INCR"
   ]
  },
  {
   "cell_type": "code",
   "execution_count": null,
   "metadata": {
    "collapsed": true
   },
   "outputs": [],
   "source": [
    "def countdown(n):\n",
    "    __globals = globals()\n",
    "    INCR = __globals['INCR']\n",
    "    while n > 0:\n",
    "        n -= INCR"
   ]
  }
 ],
 "metadata": {
  "kernelspec": {
   "display_name": "Python 2",
   "language": "python",
   "name": "python2"
  },
  "language_info": {
   "codemirror_mode": {
    "name": "ipython",
    "version": 2
   },
   "file_extension": ".py",
   "mimetype": "text/x-python",
   "name": "python",
   "nbconvert_exporter": "python",
   "pygments_lexer": "ipython2",
   "version": "2.7.13"
  }
 },
 "nbformat": 4,
 "nbformat_minor": 2
}
