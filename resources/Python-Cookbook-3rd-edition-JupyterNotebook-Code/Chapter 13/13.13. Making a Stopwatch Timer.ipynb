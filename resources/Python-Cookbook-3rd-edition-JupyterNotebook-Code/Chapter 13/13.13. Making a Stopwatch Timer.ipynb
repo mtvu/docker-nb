{
 "cells": [
  {
   "cell_type": "code",
   "execution_count": null,
   "metadata": {
    "collapsed": true
   },
   "outputs": [],
   "source": [
    "import time\n",
    "\n",
    "class Timer:\n",
    "    def __init__(self, func=time.perf_counter):\n",
    "        self.elapsed = 0.0\n",
    "        self._func = func\n",
    "        self._start = None\n",
    " \n",
    "    def start(self):\n",
    "        if self._start is not None:\n",
    "            raise RuntimeError('Already started')\n",
    "        self._start = self._func()\n",
    " \n",
    "    def stop(self):\n",
    "        if self._start is None:\n",
    "            raise RuntimeError('Not started')\n",
    "        end = self._func()\n",
    "        self.elapsed += end - self._start\n",
    "        self._start = None\n",
    " \n",
    "    def reset(self):\n",
    "        self.elapsed = 0.0\n",
    "    \n",
    "    @property\n",
    "    def running(self):\n",
    "        return self._start is not None\n",
    " \n",
    "    def __enter__(self):\n",
    "        self.start()\n",
    "        return self\n",
    " \n",
    "    def __exit__(self, *args):\n",
    "        self.stop()"
   ]
  },
  {
   "cell_type": "code",
   "execution_count": null,
   "metadata": {
    "collapsed": true
   },
   "outputs": [],
   "source": [
    "def countdown(n):\n",
    "    while n > 0:\n",
    "        n -= 1\n",
    "\n",
    "# Use 1: Explicit start/stop\n",
    "t = Timer()\n",
    "t.start()\n",
    "countdown(1000000)\n",
    "t.stop()\n",
    "print(t.elapsed)\n",
    "\n",
    "# Use 2: As a context manager\n",
    "with t:\n",
    "    countdown(1000000)\n",
    "\n",
    "print(t.elapsed)\n",
    "\n",
    "with Timer() as t2:\n",
    "    countdown(1000000)\n",
    "\n",
    "print(t2.elapsed)"
   ]
  },
  {
   "cell_type": "code",
   "execution_count": null,
   "metadata": {
    "collapsed": true
   },
   "outputs": [],
   "source": [
    "t = Timer(time.process_time)\n",
    "with t:\n",
    "    countdown(1000000)\n",
    "print(t.elapsed)"
   ]
  }
 ],
 "metadata": {
  "kernelspec": {
   "display_name": "Python 2",
   "language": "python",
   "name": "python2"
  },
  "language_info": {
   "codemirror_mode": {
    "name": "ipython",
    "version": 2
   },
   "file_extension": ".py",
   "mimetype": "text/x-python",
   "name": "python",
   "nbconvert_exporter": "python",
   "pygments_lexer": "ipython2",
   "version": "2.7.13"
  }
 },
 "nbformat": 4,
 "nbformat_minor": 2
}
