{
 "cells": [
  {
   "cell_type": "code",
   "execution_count": null,
   "metadata": {
    "collapsed": true
   },
   "outputs": [],
   "source": [
    "import logging\n",
    "\n",
    "def main():\n",
    "    # Configure the logging system\n",
    "    logging.basicConfig(\n",
    "            filename='app.log',\n",
    "            level=logging.ERROR\n",
    "        )\n",
    " \n",
    "    # Variables (to make the calls that follow work)\n",
    "    hostname = 'www.python.org'\n",
    "    item = 'spam'\n",
    "    filename = 'data.csv'\n",
    "    mode = 'r'\n",
    "    \n",
    "    # Example logging calls (insert into your program)\n",
    "    logging.critical('Host %s unknown', hostname)\n",
    "    logging.error(\"Couldn't find %r\", item)\n",
    "    logging.warning('Feature is deprecated')\n",
    "    logging.info('Opening file %r, mode=%r', filename, mode)\n",
    "    logging.debug('Got here')\n",
    "\n",
    "if __name__ == '__main__':\n",
    "    main()"
   ]
  },
  {
   "cell_type": "code",
   "execution_count": null,
   "metadata": {
    "collapsed": true
   },
   "outputs": [],
   "source": [
    "logging.basicConfig(\n",
    "         filename='app.log',\n",
    "         level=logging.WARNING,\n",
    "         format='%(levelname)s:%(asctime)s:%(message)s')"
   ]
  },
  {
   "cell_type": "code",
   "execution_count": null,
   "metadata": {
    "collapsed": true
   },
   "outputs": [],
   "source": [
    "import logging\n",
    "import logging.config\n",
    "\n",
    "def main():\n",
    "    # Configure the logging system\n",
    "    logging.config.fileConfig('logconfig.ini')\n"
   ]
  },
  {
   "cell_type": "code",
   "execution_count": null,
   "metadata": {
    "collapsed": true
   },
   "outputs": [],
   "source": [
    "logging.basicConfig(level=logging.INFO)"
   ]
  },
  {
   "cell_type": "code",
   "execution_count": null,
   "metadata": {
    "collapsed": true
   },
   "outputs": [],
   "source": [
    "logging.getLogger().level = logging.DEBUG"
   ]
  }
 ],
 "metadata": {
  "kernelspec": {
   "display_name": "Python 2",
   "language": "python",
   "name": "python2"
  },
  "language_info": {
   "codemirror_mode": {
    "name": "ipython",
    "version": 2
   },
   "file_extension": ".py",
   "mimetype": "text/x-python",
   "name": "python",
   "nbconvert_exporter": "python",
   "pygments_lexer": "ipython2",
   "version": "2.7.13"
  }
 },
 "nbformat": 4,
 "nbformat_minor": 2
}
