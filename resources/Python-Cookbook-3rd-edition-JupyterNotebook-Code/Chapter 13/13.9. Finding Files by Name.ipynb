{
 "cells": [
  {
   "cell_type": "code",
   "execution_count": null,
   "metadata": {
    "collapsed": true
   },
   "outputs": [],
   "source": [
    "#!/usr/bin/env python3.3\n",
    "import os\n",
    "def findfile(start, name):\n",
    "    for relpath, dirs, files in os.walk(start):\n",
    "        if name in files:\n",
    "            full_path = os.path.join(start, relpath, name)\n",
    "            print(os.path.normpath(os.path.abspath(full_path)))\n",
    "\n",
    "if __name__ == '__main__':\n",
    "    findfile(sys.argv[1], sys.argv[2])"
   ]
  },
  {
   "cell_type": "code",
   "execution_count": null,
   "metadata": {
    "collapsed": true
   },
   "outputs": [],
   "source": [
    "#!/usr/bin/env python3.3\n",
    "import os\n",
    "import time\n",
    "\n",
    "def modified_within(top, seconds):\n",
    "    now = time.time()\n",
    "    for path, dirs, files in os.walk(top):\n",
    "        for name in files:\n",
    "            fullpath = os.path.join(path, name)\n",
    "            if os.path.exists(fullpath):\n",
    "                mtime = os.path.getmtime(fullpath)\n",
    "                if mtime > (now - seconds):\n",
    "                    print(fullpath)\n",
    "\n",
    "if __name__ == '__main__':\n",
    "    import sys\n",
    "    if len(sys.argv) != 3:\n",
    "        print('Usage: {} dir seconds'.format(sys.argv[0]))\n",
    "        raise SystemExit(1)\n",
    "    \n",
    "    modified_within(sys.argv[1], float(sys.argv[2]))"
   ]
  }
 ],
 "metadata": {
  "kernelspec": {
   "display_name": "Python 2",
   "language": "python",
   "name": "python2"
  },
  "language_info": {
   "codemirror_mode": {
    "name": "ipython",
    "version": 2
   },
   "file_extension": ".py",
   "mimetype": "text/x-python",
   "name": "python",
   "nbconvert_exporter": "python",
   "pygments_lexer": "ipython2",
   "version": "2.7.13"
  }
 },
 "nbformat": 4,
 "nbformat_minor": 2
}
