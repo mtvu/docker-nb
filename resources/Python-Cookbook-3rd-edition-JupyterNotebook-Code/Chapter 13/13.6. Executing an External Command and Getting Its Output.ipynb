{
 "cells": [
  {
   "cell_type": "code",
   "execution_count": null,
   "metadata": {
    "collapsed": true
   },
   "outputs": [],
   "source": [
    "import subprocess\n",
    "out_bytes = subprocess.check_output(['netstat','-a'])"
   ]
  },
  {
   "cell_type": "code",
   "execution_count": null,
   "metadata": {
    "collapsed": true
   },
   "outputs": [],
   "source": [
    "out_text = out_bytes.decode('utf-8')"
   ]
  },
  {
   "cell_type": "code",
   "execution_count": null,
   "metadata": {
    "collapsed": true
   },
   "outputs": [],
   "source": [
    "try:\n",
    "    out_bytes = subprocess.check_output(['cmd','arg1','arg2'])\n",
    "except subprocess.CalledProcessError as e:\n",
    "    out_bytes = e.output # Output generated before error\n",
    "    code = e.returncode # Return code"
   ]
  },
  {
   "cell_type": "code",
   "execution_count": null,
   "metadata": {
    "collapsed": true
   },
   "outputs": [],
   "source": [
    "out_bytes = subprocess.check_output(['cmd','arg1','arg2'],\n",
    "            stderr=subprocess.STDOUT)"
   ]
  },
  {
   "cell_type": "code",
   "execution_count": null,
   "metadata": {
    "collapsed": true
   },
   "outputs": [],
   "source": [
    "try:\n",
    "    out_bytes = subprocess.check_output(['cmd','arg1','arg2'], timeout=5)\n",
    "except subprocess.TimeoutExpired as e:\n"
   ]
  },
  {
   "cell_type": "code",
   "execution_count": null,
   "metadata": {
    "collapsed": true
   },
   "outputs": [],
   "source": [
    "out_bytes = subprocess.check_output('grep python | wc > out', shell=True)"
   ]
  },
  {
   "cell_type": "code",
   "execution_count": null,
   "metadata": {
    "collapsed": true
   },
   "outputs": [],
   "source": [
    "import subprocess\n",
    "\n",
    "# Some text to send\n",
    "text = b'''\n",
    "hello world\n",
    "this is a test\n",
    "goodbye\n",
    "'''\n",
    "\n",
    "# Launch a command with pipes\n",
    "p = subprocess.Popen(['wc'],\n",
    "        stdout = subprocess.PIPE,\n",
    "        stdin = subprocess.PIPE)\n",
    "\n",
    "# Send the data and get the output\n",
    "stdout, stderr = p.communicate(text)\n",
    "\n",
    "# To interpret as text, decode\n",
    "out = stdout.decode('utf-8')\n",
    "err = stderr.decode('utf-8')"
   ]
  }
 ],
 "metadata": {
  "kernelspec": {
   "display_name": "Python 2",
   "language": "python",
   "name": "python2"
  },
  "language_info": {
   "codemirror_mode": {
    "name": "ipython",
    "version": 2
   },
   "file_extension": ".py",
   "mimetype": "text/x-python",
   "name": "python",
   "nbconvert_exporter": "python",
   "pygments_lexer": "ipython2",
   "version": "2.7.13"
  }
 },
 "nbformat": 4,
 "nbformat_minor": 2
}
