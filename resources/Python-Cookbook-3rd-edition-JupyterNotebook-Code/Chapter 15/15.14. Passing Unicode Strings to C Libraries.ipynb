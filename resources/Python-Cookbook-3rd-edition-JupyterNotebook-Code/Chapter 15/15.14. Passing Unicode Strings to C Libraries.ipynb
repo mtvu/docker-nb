{
 "cells": [
  {
   "cell_type": "code",
   "execution_count": null,
   "metadata": {
    "collapsed": true
   },
   "outputs": [],
   "source": [
    "s = 'Spicy Jalape\\u00f1o'\n",
    "print_chars(s)\n",
    "\n",
    "print_wchars(s)"
   ]
  },
  {
   "cell_type": "code",
   "execution_count": null,
   "metadata": {
    "collapsed": true
   },
   "outputs": [],
   "source": [
    "import sys\n",
    "s = 'Spicy Jalape\\u00f1o'\n",
    "sys.getsizeof(s)\n",
    "\n",
    "print_chars(s)\n",
    "\n",
    "sys.getsizeof(s)\n",
    "\n",
    "print_wchars(s)\n",
    "\n",
    "sys.getsizeof(s)"
   ]
  }
 ],
 "metadata": {
  "kernelspec": {
   "display_name": "Python 2",
   "language": "python",
   "name": "python2"
  },
  "language_info": {
   "codemirror_mode": {
    "name": "ipython",
    "version": 2
   },
   "file_extension": ".py",
   "mimetype": "text/x-python",
   "name": "python",
   "nbconvert_exporter": "python",
   "pygments_lexer": "ipython2",
   "version": "2.7.13"
  }
 },
 "nbformat": 4,
 "nbformat_minor": 2
}
