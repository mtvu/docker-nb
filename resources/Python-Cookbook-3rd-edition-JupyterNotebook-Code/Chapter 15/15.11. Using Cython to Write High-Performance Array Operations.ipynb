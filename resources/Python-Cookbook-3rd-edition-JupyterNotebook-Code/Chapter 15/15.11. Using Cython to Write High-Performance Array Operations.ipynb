{
 "cells": [
  {
   "cell_type": "code",
   "execution_count": null,
   "metadata": {
    "collapsed": true
   },
   "outputs": [],
   "source": [
    "# sample.pyx (Cython)\n",
    "\n",
    "cimport cython\n",
    "\n",
    "@cython.boundscheck(False)\n",
    "@cython.wraparound(False)\n",
    "\n",
    "cpdef clip(double[:] a, double min, double max, double[:] out):\n",
    "    '''\n",
    "    Clip the values in a to be between min and max. Result in out\n",
    "    '''\n",
    "    if min > max:\n",
    "        raise ValueError(\"min must be <= max\")\n",
    "    if a.shape[0] != out.shape[0]:\n",
    "        raise ValueError(\"input and output arrays must be the same size\")\n",
    "    for i in range(a.shape[0]):\n",
    "        if a[i] < min:\n",
    "            out[i] = min\n",
    "        elif a[i] > max:\n",
    "            out[i] = max\n",
    "        else:\n",
    "            out[i] = a[i]\n"
   ]
  },
  {
   "cell_type": "code",
   "execution_count": null,
   "metadata": {
    "collapsed": true
   },
   "outputs": [],
   "source": [
    "from distutils.core import setup\n",
    "from distutils.extension import Extension\n",
    "from Cython.Distutils import build_ext\n",
    "\n",
    "ext_modules = [\n",
    "    Extension('sample',\n",
    "    ['sample.pyx'])\n",
    "]\n",
    "\n",
    "setup(\n",
    "    name = 'Sample app',\n",
    "    cmdclass = {'build_ext': build_ext},\n",
    "    ext_modules = ext_modules\n",
    ")"
   ]
  },
  {
   "cell_type": "code",
   "execution_count": null,
   "metadata": {
    "collapsed": true
   },
   "outputs": [],
   "source": [
    "# array module example\n",
    "import sample\n",
    "import array\n",
    "a = array.array('d',[1,-3,4,7,2,0])\n",
    "a"
   ]
  },
  {
   "cell_type": "code",
   "execution_count": null,
   "metadata": {
    "collapsed": true
   },
   "outputs": [],
   "source": [
    "sample.clip(a,1,4,a)\n",
    "a"
   ]
  },
  {
   "cell_type": "code",
   "execution_count": null,
   "metadata": {
    "collapsed": true
   },
   "outputs": [],
   "source": [
    "# numpy example\n",
    "import numpy\n",
    "b = numpy.random.uniform(-10,10,size=1000000)\n",
    "b"
   ]
  },
  {
   "cell_type": "code",
   "execution_count": null,
   "metadata": {
    "collapsed": true
   },
   "outputs": [],
   "source": [
    "c = numpy.zeros_like(b)\n",
    "c\n",
    "\n",
    "sample.clip(b,-5,5,c)\n",
    "c"
   ]
  },
  {
   "cell_type": "code",
   "execution_count": null,
   "metadata": {
    "collapsed": true
   },
   "outputs": [],
   "source": [
    "@cython.boundscheck(False)\n",
    "@cython.wraparound(False)\n",
    "cpdef clip(double[:] a, double min, double max, double[:] out):\n",
    "    if min > max:\n",
    "        raise ValueError(\"min must be <= max\")\n",
    "    if a.shape[0] != out.shape[0]:\n",
    "        raise ValueError(\"input and output arrays must be the same size\")\n",
    "    for i in range(a.shape[0]):\n",
    "        out[i] = (a[i] if a[i] < max else max) if a[i] > min else min"
   ]
  },
  {
   "cell_type": "code",
   "execution_count": null,
   "metadata": {
    "collapsed": true
   },
   "outputs": [],
   "source": [
    "@cython.boundscheck(False)\n",
    "@cython.wraparound(False)\n",
    "cpdef clip(double[:] a, double min, double max, double[:] out):\n",
    "    if min > max:\n",
    "        raise ValueError(\"min must be <= max\")\n",
    "    if a.shape[0] != out.shape[0]:\n",
    "        raise ValueError(\"input and output arrays must be the same size\")\n",
    "    with nogil:\n",
    "        for i in range(a.shape[0]):\n",
    "            out[i] = (a[i] if a[i] < max else max) if a[i] > min else min"
   ]
  },
  {
   "cell_type": "code",
   "execution_count": null,
   "metadata": {
    "collapsed": true
   },
   "outputs": [],
   "source": [
    "@cython.boundscheck(False)\n",
    "@cython.wraparound(False)\n",
    "cpdef clip2d(double[:,:] a, double min, double max, double[:,:] out):\n",
    "    if min > max:\n",
    "        raise ValueError(\"min must be <= max\")\n",
    "    for n in range(a.ndim):\n",
    "        if a.shape[n] != out.shape[n]:\n",
    "            raise TypeError(\"a and out have different shapes\")\n",
    "    for i in range(a.shape[0]):\n",
    "        for j in range(a.shape[1]):\n",
    "            if a[i,j] < min:\n",
    "                out[i,j] = min\n",
    "            elif a[i,j] > max:\n",
    "                out[i,j] = max\n",
    "            else:\n",
    "                out[i,j] = a[i,j]"
   ]
  }
 ],
 "metadata": {
  "kernelspec": {
   "display_name": "Python 2",
   "language": "python",
   "name": "python2"
  },
  "language_info": {
   "codemirror_mode": {
    "name": "ipython",
    "version": 2
   },
   "file_extension": ".py",
   "mimetype": "text/x-python",
   "name": "python",
   "nbconvert_exporter": "python",
   "pygments_lexer": "ipython2",
   "version": "2.7.13"
  }
 },
 "nbformat": 4,
 "nbformat_minor": 2
}
