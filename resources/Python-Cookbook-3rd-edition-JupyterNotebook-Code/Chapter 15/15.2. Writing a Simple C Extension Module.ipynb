{
 "cells": [
  {
   "cell_type": "code",
   "execution_count": null,
   "metadata": {
    "collapsed": true
   },
   "outputs": [],
   "source": [
    "# setup.py\n",
    "from distutils.core import setup, Extension\n",
    "\n",
    "setup(name='sample',\n",
    "        ext_modules=[\n",
    "        Extension('sample',\n",
    "        ['pysample.c'],\n",
    "        include_dirs = ['/some/dir'],\n",
    "        define_macros = [('FOO','1')],\n",
    "        undef_macros = ['BAR'],\n",
    "        library_dirs = ['/usr/local/lib'],\n",
    "        libraries = ['sample']\n",
    "        )\n",
    "    ]\n",
    ")"
   ]
  },
  {
   "cell_type": "code",
   "execution_count": null,
   "metadata": {
    "collapsed": true
   },
   "outputs": [],
   "source": [
    "import sample\n",
    "sample.gcd(35, 42)\n",
    "\n",
    "sample.in_mandel(0, 0, 500)\n",
    "\n",
    "sample.in_mandel(2.0, 1.0, 500)\n",
    "\n",
    "sample.divide(42, 8)"
   ]
  },
  {
   "cell_type": "code",
   "execution_count": null,
   "metadata": {
    "collapsed": true
   },
   "outputs": [],
   "source": []
  }
 ],
 "metadata": {
  "kernelspec": {
   "display_name": "Python 2",
   "language": "python",
   "name": "python2"
  },
  "language_info": {
   "codemirror_mode": {
    "name": "ipython",
    "version": 2
   },
   "file_extension": ".py",
   "mimetype": "text/x-python",
   "name": "python",
   "nbconvert_exporter": "python",
   "pygments_lexer": "ipython2",
   "version": "2.7.13"
  }
 },
 "nbformat": 4,
 "nbformat_minor": 2
}
