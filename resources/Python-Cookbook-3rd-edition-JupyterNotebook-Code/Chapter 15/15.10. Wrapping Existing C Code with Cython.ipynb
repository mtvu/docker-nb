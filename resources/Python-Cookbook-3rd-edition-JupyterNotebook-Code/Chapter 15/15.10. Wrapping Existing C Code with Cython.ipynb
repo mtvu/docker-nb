{
 "cells": [
  {
   "cell_type": "code",
   "execution_count": null,
   "metadata": {
    "collapsed": true
   },
   "outputs": [],
   "source": [
    "# sample.pyx\n",
    "\n",
    "# Import the low-level C declarations\n",
    "cimport csample\n",
    "\n",
    "# Import some functionality from Python and the C stdlib\n",
    "from cpython.pycapsule cimport *\n",
    "\n",
    "from libc.stdlib cimport malloc, free\n",
    "\n",
    "# Wrappers\n",
    "def gcd(unsigned int x, unsigned int y):\n",
    "    return csample.gcd(x, y)\n",
    "\n",
    "def in_mandel(x, y, unsigned int n):\n",
    "    return csample.in_mandel(x, y, n)\n",
    "\n",
    "def divide(x, y):\n",
    "    cdef int rem\n",
    "    quot = csample.divide(x, y, &rem)\n",
    "    return quot, rem\n",
    "\n",
    "def avg(double[:] a):\n",
    "    cdef:\n",
    "        int sz\n",
    "        double result\n",
    " \n",
    "    sz = a.size\n",
    "    with nogil:\n",
    "        result = csample.avg(<double *> &a[0], sz)\n",
    "    return result\n",
    "\n",
    "# Destructor for cleaning up Point objects\n",
    "cdef del_Point(object obj):\n",
    "    pt = <csample.Point *> PyCapsule_GetPointer(obj,\"Point\")\n",
    "    free(<void *> pt)\n",
    "\n",
    "# Create a Point object and return as a capsule\n",
    "def Point(double x,double y):\n",
    "    cdef csample.Point *p\n",
    "    p = <csample.Point *> malloc(sizeof(csample.Point))\n",
    "    if p == NULL:\n",
    "        raise MemoryError(\"No memory to make a Point\")\n",
    "    p.x = x\n",
    "    p.y = y\n",
    "    return PyCapsule_New(<void *>p,\"Point\",<PyCapsule_Destructor>del_Point)\n",
    "\n",
    "def distance(p1, p2):\n",
    "    pt1 = <csample.Point *> PyCapsule_GetPointer(p1,\"Point\")\n",
    "    pt2 = <csample.Point *> PyCapsule_GetPointer(p2,\"Point\")\n",
    "    return csample.distance(pt1,pt2)"
   ]
  },
  {
   "cell_type": "code",
   "execution_count": null,
   "metadata": {
    "collapsed": true
   },
   "outputs": [],
   "source": [
    "from distutils.core import setup\n",
    "from distutils.extension import Extension\n",
    "from Cython.Distutils import build_ext\n",
    "\n",
    "ext_modules = [\n",
    "    Extension('sample',\n",
    "              ['sample.pyx'],\n",
    "            libraries=['sample'],\n",
    "            library_dirs=['.'])]\n",
    "\n",
    "setup(\n",
    "    name = 'Sample extension module',\n",
    "    cmdclass = {'build_ext': build_ext},\n",
    "    ext_modules = ext_modules\n",
    ")"
   ]
  },
  {
   "cell_type": "code",
   "execution_count": null,
   "metadata": {
    "collapsed": true
   },
   "outputs": [],
   "source": [
    "import sample\n",
    "sample.gcd(42,10)\n",
    "\n",
    "sample.in_mandel(1,1,400)\n",
    "\n",
    "sample.in_mandel(0,0,400)\n",
    "\n",
    "sample.divide(42,10)\n",
    "\n",
    "import array\n",
    "a = array.array('d',[1,2,3])\n",
    "sample.avg(a)\n",
    "\n",
    "p1 = sample.Point(2,3)\n",
    "p2 = sample.Point(4,5)\n",
    "p1\n",
    "\n",
    "p2\n",
    "\n",
    "sample.distance(p1,p2)"
   ]
  },
  {
   "cell_type": "code",
   "execution_count": null,
   "metadata": {
    "collapsed": true
   },
   "outputs": [],
   "source": [
    "cimport csample\n",
    "\n",
    "def gcd(unsigned int x, unsigned int y):\n",
    "    return csample.gcd(x,y)"
   ]
  },
  {
   "cell_type": "code",
   "execution_count": null,
   "metadata": {
    "collapsed": true
   },
   "outputs": [],
   "source": [
    "def gcd(unsigned int x, unsigned int y):\n",
    "    if x <= 0:\n",
    "        raise ValueError(\"x must be > 0\")\n",
    "    if y <= 0:\n",
    "        raise ValueError(\"y must be > 0\")\n",
    "    return csample.gcd(x,y)"
   ]
  },
  {
   "cell_type": "code",
   "execution_count": null,
   "metadata": {
    "collapsed": true
   },
   "outputs": [],
   "source": [
    "def divide(x,y):\n",
    "    cdef int rem\n",
    "    quot = csample.divide(x,y,&rem)\n",
    "    return quot, rem"
   ]
  },
  {
   "cell_type": "code",
   "execution_count": null,
   "metadata": {
    "collapsed": true
   },
   "outputs": [],
   "source": [
    "import array\n",
    "a = array.array('d',[1,2,3])\n",
    "import numpy\n",
    "b = numpy.array([1., 2., 3.])\n",
    "import sample\n",
    "sample.avg(a)\n",
    "\n",
    "sample.avg(b"
   ]
  },
  {
   "cell_type": "code",
   "execution_count": null,
   "metadata": {
    "collapsed": true
   },
   "outputs": [],
   "source": [
    "from cpython.pycapsule cimport *\n",
    "from libc.stdlib cimport malloc, free"
   ]
  },
  {
   "cell_type": "code",
   "execution_count": null,
   "metadata": {
    "collapsed": true
   },
   "outputs": [],
   "source": [
    "# sample.pyx\n",
    "\n",
    "cimport csample\n",
    "from libc.stdlib cimport malloc, free\n",
    "\n",
    "cdef class Point:\n",
    "    cdef csample.Point *_c_point\n",
    "    def __cinit__(self, double x, double y):\n",
    "        self._c_point = <csample.Point *> malloc(sizeof(csample.Point))\n",
    "        self._c_point.x = x\n",
    "        self._c_point.y = y\n",
    " \n",
    "    def __dealloc__(self):\n",
    "        free(self._c_point)\n",
    "        \n",
    "    property x:\n",
    "        def __get__(self):\n",
    "            return self._c_point.x\n",
    " \n",
    "        def __set__(self, value):\n",
    "            self._c_point.x = value\n",
    " \n",
    "    property y:\n",
    "        def __get__(self):\n",
    "            return self._c_point.y\n",
    "        def __set__(self, value):\n",
    "            self._c_point.y = value\n",
    "    \n",
    "    def distance(Point p1, Point p2):\n",
    "        return csample.distance(p1._c_point, p2._c_point)"
   ]
  },
  {
   "cell_type": "code",
   "execution_count": null,
   "metadata": {
    "collapsed": true
   },
   "outputs": [],
   "source": [
    "import sample\n",
    "p1 = sample.Point(2,3)\n",
    "p2 = sample.Point(4,5)\n",
    "p1\n",
    "\n",
    "p2\n",
    "\n",
    "p1.x\n",
    "\n",
    "p1.y\n",
    "\n",
    "sample.distance(p1,p2)"
   ]
  }
 ],
 "metadata": {
  "kernelspec": {
   "display_name": "Python 2",
   "language": "python",
   "name": "python2"
  },
  "language_info": {
   "codemirror_mode": {
    "name": "ipython",
    "version": 2
   },
   "file_extension": ".py",
   "mimetype": "text/x-python",
   "name": "python",
   "nbconvert_exporter": "python",
   "pygments_lexer": "ipython2",
   "version": "2.7.13"
  }
 },
 "nbformat": 4,
 "nbformat_minor": 2
}
