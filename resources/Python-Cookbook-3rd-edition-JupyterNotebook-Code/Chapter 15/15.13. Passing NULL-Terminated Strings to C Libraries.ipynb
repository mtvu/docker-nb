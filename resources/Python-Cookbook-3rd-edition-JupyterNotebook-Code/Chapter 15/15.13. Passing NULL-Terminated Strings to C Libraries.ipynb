{
 "cells": [
  {
   "cell_type": "code",
   "execution_count": null,
   "metadata": {},
   "outputs": [],
   "source": [
    "print_chars(b'Hello World')"
   ]
  },
  {
   "cell_type": "code",
   "execution_count": null,
   "metadata": {
    "collapsed": true
   },
   "outputs": [],
   "source": [
    "print_chars(b'Hello\\x00World')"
   ]
  },
  {
   "cell_type": "code",
   "execution_count": null,
   "metadata": {
    "collapsed": true
   },
   "outputs": [],
   "source": [
    "print_chars('Hello World')"
   ]
  },
  {
   "cell_type": "code",
   "execution_count": null,
   "metadata": {
    "collapsed": true
   },
   "outputs": [],
   "source": [
    "print_chars('Hello World')\n",
    "\n",
    "print_chars('Spicy Jalape\\u00f1o') # Note: UTF-8 encoding\n",
    "\n",
    "print_chars('Hello\\x00World')"
   ]
  },
  {
   "cell_type": "code",
   "execution_count": null,
   "metadata": {
    "collapsed": true
   },
   "outputs": [],
   "source": [
    "print_chars(b'Hello World')"
   ]
  },
  {
   "cell_type": "code",
   "execution_count": null,
   "metadata": {},
   "outputs": [],
   "source": [
    "import sys\n",
    "s = 'Spicy Jalape\\u00f1o'\n",
    "sys.getsizeof(s)\n",
    "\n",
    "print_chars(s) # Passing string\n",
    "\n",
    "sys.getsizeof(s) "
   ]
  },
  {
   "cell_type": "code",
   "execution_count": null,
   "metadata": {
    "collapsed": true
   },
   "outputs": [],
   "source": [
    "import sys\n",
    "s = 'Spicy Jalape\\u00f1o'\n",
    "sys.getsizeof(s)\n",
    "\n",
    "print_chars(s)\n",
    "\n",
    "sys.getsizeof(s)"
   ]
  },
  {
   "cell_type": "code",
   "execution_count": null,
   "metadata": {
    "collapsed": true
   },
   "outputs": [],
   "source": [
    "import ctypes\n",
    "lib = ctypes.cdll.LoadLibrary(\"./libsample.so\")\n",
    "print_chars = lib.print_chars\n",
    "print_chars.argtypes = (ctypes.c_char_p,)\n",
    "print_chars(b'Hello World')\n",
    "\n",
    "print_chars(b'Hello\\x00World')\n",
    "\n",
    "print_chars('Hello World')"
   ]
  },
  {
   "cell_type": "code",
   "execution_count": null,
   "metadata": {
    "collapsed": true
   },
   "outputs": [],
   "source": [
    "print_chars('Hello World'.encode('utf-8'))"
   ]
  }
 ],
 "metadata": {
  "kernelspec": {
   "display_name": "Python 2",
   "language": "python",
   "name": "python2"
  },
  "language_info": {
   "codemirror_mode": {
    "name": "ipython",
    "version": 2
   },
   "file_extension": ".py",
   "mimetype": "text/x-python",
   "name": "python",
   "nbconvert_exporter": "python",
   "pygments_lexer": "ipython2",
   "version": "2.7.13"
  }
 },
 "nbformat": 4,
 "nbformat_minor": 2
}
