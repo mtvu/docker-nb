{
 "cells": [
  {
   "cell_type": "code",
   "execution_count": null,
   "metadata": {
    "collapsed": true
   },
   "outputs": [],
   "source": [
    "# sample.py\n",
    "import ctypes\n",
    "import os\n",
    "\n",
    "# Try to locate the .so file in the same directory as this file\n",
    "_file = 'libsample.so'\n",
    "_path = os.path.join(*(os.path.split(__file__)[:-1] + (_file,)))\n",
    "_mod = ctypes.cdll.LoadLibrary(_path)\n",
    "\n",
    "# int gcd(int, int)\n",
    "gcd = _mod.gcd\n",
    "gcd.argtypes = (ctypes.c_int, ctypes.c_int)\n",
    "gcd.restype = ctypes.c_int\n",
    "\n",
    "# int in_mandel(double, double, int)\n",
    "in_mandel = _mod.in_mandel\n",
    "in_mandel.argtypes = (ctypes.c_double, ctypes.c_double, ctypes.c_int)\n",
    "in_mandel.restype = ctypes.c_int\n",
    "\n",
    "# int divide(int, int, int *)\n",
    "_divide = _mod.divide\n",
    "_divide.argtypes = (ctypes.c_int, ctypes.c_int, ctypes.POINTER(ctypes.c_int))\n",
    "_divide.restype = ctypes.c_int\n",
    "\n",
    "def divide(x, y):\n",
    "    rem = ctypes.c_int()\n",
    "    quot = _divide(x, y, rem)\n",
    "    return quot,rem.value\n",
    "\n",
    "# void avg(double *, int n)\n",
    "# Define a special type for the 'double *' argument\n",
    "class DoubleArrayType:\n",
    "    def from_param(self, param):\n",
    "        typename = type(param).__name__\n",
    "        if hasattr(self, 'from_' + typename):\n",
    "            return getattr(self, 'from_' + typename)(param)\n",
    "        elif isinstance(param, ctypes.Array):\n",
    "            return param\n",
    "        else:\n",
    "            raise TypeError(\"Can't convert %s\" % typename)\n",
    " \n",
    "    # Cast from array.array objects\n",
    "    def from_array(self, param):\n",
    "        if param.typecode != 'd':\n",
    "            raise TypeError('must be an array of doubles')\n",
    "        ptr, _ = param.buffer_info()\n",
    "        return ctypes.cast(ptr, ctypes.POINTER(ctypes.c_double))\n",
    " \n",
    "    # Cast from lists/tuples\n",
    "    def from_list(self, param):\n",
    "        val = ((ctypes.c_double)*len(param))(*param)\n",
    "        return val\n",
    " \n",
    "    from_tuple = from_list\n",
    " \n",
    "    # Cast from a numpy array\n",
    "    def from_ndarray(self, param):\n",
    "        return param.ctypes.data_as(ctypes.POINTER(ctypes.c_double))\n",
    "\n",
    "\n",
    "DoubleArray = DoubleArrayType()\n",
    "_avg = _mod.avg\n",
    "_avg.argtypes = (DoubleArray, ctypes.c_int)\n",
    "_avg.restype = ctypes.c_double\n",
    "\n",
    "def avg(values):\n",
    "    return _avg(values, len(values))\n",
    "\n",
    "# struct Point { }\n",
    "class Point(ctypes.Structure):\n",
    " _fields_ = [('x', ctypes.c_double),\n",
    " ('y', ctypes.c_double)]\n",
    "# double distance(Point *, Point *)\n",
    "distance = _mod.distance\n",
    "distance.argtypes = (ctypes.POINTER(Point), ctypes.POINTER(Point))\n",
    "distance.restype = ctypes.c_double"
   ]
  },
  {
   "cell_type": "code",
   "execution_count": null,
   "metadata": {
    "collapsed": true
   },
   "outputs": [],
   "source": [
    "# int divide(int, int, int *)\n",
    "_divide = _mod.divide\n",
    "_divide.argtypes = (ctypes.c_int, ctypes.c_int, ctypes.POINTER(ctypes.c_int))\n",
    "_divide.restype = ctypes.c_int\n",
    "\n",
    "def divide(x, y):\n",
    "    rem = ctypes.c_int()\n",
    "    quot = _divide(x,y,rem)\n",
    "    return quot, rem.value"
   ]
  },
  {
   "cell_type": "code",
   "execution_count": null,
   "metadata": {
    "collapsed": true
   },
   "outputs": [],
   "source": [
    "nums = [1, 2, 3]\n",
    "a = (ctypes.c_double * len(nums))(*nums)\n",
    "a"
   ]
  },
  {
   "cell_type": "code",
   "execution_count": null,
   "metadata": {
    "collapsed": true
   },
   "outputs": [],
   "source": [
    "a[0]"
   ]
  },
  {
   "cell_type": "code",
   "execution_count": null,
   "metadata": {
    "collapsed": true
   },
   "outputs": [],
   "source": [
    "a[1]"
   ]
  },
  {
   "cell_type": "code",
   "execution_count": null,
   "metadata": {
    "collapsed": true
   },
   "outputs": [],
   "source": [
    "a[2]"
   ]
  },
  {
   "cell_type": "code",
   "execution_count": 4,
   "metadata": {},
   "outputs": [
    {
     "data": {
      "text/plain": [
       "array('d', [1.0, 2.0, 3.0])"
      ]
     },
     "execution_count": 4,
     "metadata": {},
     "output_type": "execute_result"
    }
   ],
   "source": [
    "import array\n",
    "a = array.array('d',[1,2,3])\n",
    "a"
   ]
  },
  {
   "cell_type": "code",
   "execution_count": 6,
   "metadata": {},
   "outputs": [
    {
     "data": {
      "text/plain": [
       "(47853616L, 3)"
      ]
     },
     "execution_count": 6,
     "metadata": {},
     "output_type": "execute_result"
    }
   ],
   "source": [
    "ptr_ = a.buffer_info()\n",
    "ptr_"
   ]
  },
  {
   "cell_type": "code",
   "execution_count": null,
   "metadata": {
    "collapsed": true
   },
   "outputs": [],
   "source": [
    "ctypes.cast(ptr, ctypes.POINTER(ctypes.c_double))"
   ]
  },
  {
   "cell_type": "code",
   "execution_count": null,
   "metadata": {},
   "outputs": [],
   "source": [
    "import sample\n",
    "sample.avg([1,2,3])"
   ]
  },
  {
   "cell_type": "code",
   "execution_count": null,
   "metadata": {
    "collapsed": true
   },
   "outputs": [],
   "source": [
    "sample.avg((1,2,3))"
   ]
  },
  {
   "cell_type": "code",
   "execution_count": null,
   "metadata": {},
   "outputs": [],
   "source": [
    "import array\n",
    "sample.avg(array.array('d',[1,2,3]))"
   ]
  },
  {
   "cell_type": "code",
   "execution_count": null,
   "metadata": {
    "collapsed": true
   },
   "outputs": [],
   "source": [
    "import numpy\n",
    "sample.avg(numpy.array([1.0,2.0,3.0]))"
   ]
  },
  {
   "cell_type": "code",
   "execution_count": null,
   "metadata": {
    "collapsed": true
   },
   "outputs": [],
   "source": [
    "class Point(ctypes.Structure):\n",
    "    _fields_ = [('x', ctypes.c_double),\n",
    "                ('y', ctypes.c_double)]"
   ]
  },
  {
   "cell_type": "code",
   "execution_count": null,
   "metadata": {
    "collapsed": true
   },
   "outputs": [],
   "source": [
    "p1 = sample.Point(1,2)\n",
    "p2 = sample.Point(4,5)\n",
    "p1.x\n",
    "\n",
    "p1.y\n",
    "\n",
    "sample.distance(p1,p2)"
   ]
  }
 ],
 "metadata": {
  "kernelspec": {
   "display_name": "Python 2",
   "language": "python",
   "name": "python2"
  },
  "language_info": {
   "codemirror_mode": {
    "name": "ipython",
    "version": 2
   },
   "file_extension": ".py",
   "mimetype": "text/x-python",
   "name": "python",
   "nbconvert_exporter": "python",
   "pygments_lexer": "ipython2",
   "version": "2.7.13"
  }
 },
 "nbformat": 4,
 "nbformat_minor": 2
}
