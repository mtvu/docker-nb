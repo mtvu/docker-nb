{
 "cells": [
  {
   "cell_type": "code",
   "execution_count": null,
   "metadata": {
    "collapsed": true
   },
   "outputs": [],
   "source": [
    "# setup.py\n",
    "from distutils.core import setup, Extension\n",
    "\n",
    "setup(name='sample',\n",
    "    py_modules=['sample.py'],\n",
    "    ext_modules=[\n",
    "     Extension('_sample',\n",
    "                 ['sample_wrap.c'],\n",
    "                 include_dirs = [],\n",
    "                 define_macros = [],\n",
    "                 undef_macros = [],\n",
    "                 library_dirs = [],\n",
    "                 libraries = ['sample']\n",
    "                 )\n",
    "         ]\n",
    ")\n"
   ]
  },
  {
   "cell_type": "code",
   "execution_count": null,
   "metadata": {
    "collapsed": true
   },
   "outputs": [],
   "source": [
    "import sample\n",
    "sample.gcd(42,8)\n",
    "\n",
    "sample.divide(42,8)\n",
    "\n",
    "p1 = sample.Point(2,3)\n",
    "p2 = sample.Point(4,5)\n",
    "sample.distance(p1,p2)\n",
    "\n",
    "p1.x\n",
    "\n",
    "p1.y\n",
    "\n",
    "import array\n",
    "a = array.array('d',[1,2,3])\n",
    "sample.avg(a)"
   ]
  },
  {
   "cell_type": "code",
   "execution_count": null,
   "metadata": {
    "collapsed": true
   },
   "outputs": [],
   "source": [
    "p1 = sample.Point(2,3)\n",
    "# Usage if %extend Point is omitted\n",
    "p1 = sample.Point()\n",
    "p1.x = 2.0\n",
    "p1.y = 3\n",
    "sample.divide(42,8)"
   ]
  }
 ],
 "metadata": {
  "kernelspec": {
   "display_name": "Python 2",
   "language": "python",
   "name": "python2"
  },
  "language_info": {
   "codemirror_mode": {
    "name": "ipython",
    "version": 2
   },
   "file_extension": ".py",
   "mimetype": "text/x-python",
   "name": "python",
   "nbconvert_exporter": "python",
   "pygments_lexer": "ipython2",
   "version": "2.7.13"
  }
 },
 "nbformat": 4,
 "nbformat_minor": 2
}
