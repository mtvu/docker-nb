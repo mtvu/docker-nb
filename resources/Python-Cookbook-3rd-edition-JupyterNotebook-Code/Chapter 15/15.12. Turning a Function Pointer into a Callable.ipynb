{
 "cells": [
  {
   "cell_type": "code",
   "execution_count": null,
   "metadata": {},
   "outputs": [],
   "source": [
    "import ctypes\n",
    "lib = ctypes.cdll.LoadLibrary(None)\n",
    "# Get the address of sin() from the C math library\n",
    "addr = ctypes.cast(lib.sin, ctypes.c_void_p).value\n",
    "addr"
   ]
  },
  {
   "cell_type": "code",
   "execution_count": null,
   "metadata": {
    "collapsed": true
   },
   "outputs": [],
   "source": [
    "# Turn the address into a callable function\n",
    "functype = ctypes.CFUNCTYPE(ctypes.c_double, ctypes.c_double)\n",
    "func = functype(addr)\n",
    "func"
   ]
  },
  {
   "cell_type": "code",
   "execution_count": null,
   "metadata": {
    "collapsed": true
   },
   "outputs": [],
   "source": [
    "# Call the resulting function\n",
    "func(2)\n",
    "func(0)"
   ]
  },
  {
   "cell_type": "code",
   "execution_count": null,
   "metadata": {
    "collapsed": true
   },
   "outputs": [],
   "source": [
    "from llvm.core import Module, Function, Type, Builder\n",
    "mod = Module.new('example')\n",
    "f = Function.new(mod,Type.function(Type.double(), \\\n",
    "\n",
    "block = f.append_basic_block('entry')\n",
    "builder = Builder.new(block)\n",
    "x2 = builder.fmul(f.args[0],f.args[0])\n",
    "y2 = builder.fmul(f.args[1],f.args[1])\n",
    "r = builder.fadd(x2,y2)\n",
    "builder.ret(r)\n",
    "\n",
    "from llvm.ee import ExecutionEngine\n",
    "engine = ExecutionEngine.new(mod)\n",
    "ptr = engine.get_pointer_to_function(f)\n",
    "ptr\n",
    "\n",
    "foo = ctypes.CFUNCTYPE(ctypes.c_double, ctypes.c_double, ctypes.c_double)(ptr)\n",
    "# Call the resulting function\n",
    "foo(2,3)\n",
    "\n",
    "foo(4,5)\n",
    "\n",
    "foo(1,2)"
   ]
  }
 ],
 "metadata": {
  "kernelspec": {
   "display_name": "Python 2",
   "language": "python",
   "name": "python2"
  },
  "language_info": {
   "codemirror_mode": {
    "name": "ipython",
    "version": 2
   },
   "file_extension": ".py",
   "mimetype": "text/x-python",
   "name": "python",
   "nbconvert_exporter": "python",
   "pygments_lexer": "ipython2",
   "version": "2.7.13"
  }
 },
 "nbformat": 4,
 "nbformat_minor": 2
}
