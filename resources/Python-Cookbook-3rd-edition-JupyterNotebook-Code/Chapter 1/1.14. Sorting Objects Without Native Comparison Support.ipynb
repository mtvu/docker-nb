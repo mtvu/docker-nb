{
 "cells": [
  {
   "cell_type": "code",
   "execution_count": 4,
   "metadata": {},
   "outputs": [
    {
     "name": "stdout",
     "output_type": "stream",
     "text": [
      "[<__main__.User instance at 0x0000000005D2BD48>, <__main__.User instance at 0x0000000005D2BD08>, <__main__.User instance at 0x0000000005D2B608>]\n",
      "[<__main__.User instance at 0x0000000005D2B608>, <__main__.User instance at 0x0000000005D2BD08>, <__main__.User instance at 0x0000000005D2BD48>]\n"
     ]
    }
   ],
   "source": [
    "class User:\n",
    "    def __init__(self, user_id):\n",
    "        self.user_id = user_id\n",
    "    \n",
    "    def __rep__(self):\n",
    "        return 'User({})'.format(self.user_id)\n",
    "\n",
    "users = [User(23), User(3), User(99)]\n",
    "print users\n",
    "print sorted(users)\n",
    "\n"
   ]
  },
  {
   "cell_type": "code",
   "execution_count": 6,
   "metadata": {},
   "outputs": [
    {
     "data": {
      "text/plain": [
       "[<__main__.User instance at 0x0000000005D2BD08>,\n",
       " <__main__.User instance at 0x0000000005D2BD48>,\n",
       " <__main__.User instance at 0x0000000005D2B608>]"
      ]
     },
     "execution_count": 6,
     "metadata": {},
     "output_type": "execute_result"
    }
   ],
   "source": [
    "from operator import attrgetter\n",
    "sorted(users, key=attrgetter('user_id'))"
   ]
  },
  {
   "cell_type": "code",
   "execution_count": 8,
   "metadata": {},
   "outputs": [
    {
     "data": {
      "text/plain": [
       "[<__main__.User instance at 0x0000000005D2BD08>,\n",
       " <__main__.User instance at 0x0000000005D2BD48>,\n",
       " <__main__.User instance at 0x0000000005D2B608>]"
      ]
     },
     "execution_count": 8,
     "metadata": {},
     "output_type": "execute_result"
    }
   ],
   "source": [
    "by_name = sorted(users, key=attrgetter('user_id'))\n",
    "by_name"
   ]
  },
  {
   "cell_type": "code",
   "execution_count": 10,
   "metadata": {},
   "outputs": [
    {
     "name": "stdout",
     "output_type": "stream",
     "text": [
      "<__main__.User instance at 0x0000000005D2BD08>\n",
      "<__main__.User instance at 0x0000000005D2B608>\n"
     ]
    }
   ],
   "source": [
    "print min(users, key=attrgetter('user_id'))\n",
    "print max(users, key=attrgetter('user_id'))"
   ]
  },
  {
   "cell_type": "code",
   "execution_count": null,
   "metadata": {
    "collapsed": true
   },
   "outputs": [],
   "source": []
  }
 ],
 "metadata": {
  "kernelspec": {
   "display_name": "Python 2",
   "language": "python",
   "name": "python2"
  },
  "language_info": {
   "codemirror_mode": {
    "name": "ipython",
    "version": 2
   },
   "file_extension": ".py",
   "mimetype": "text/x-python",
   "name": "python",
   "nbconvert_exporter": "python",
   "pygments_lexer": "ipython2",
   "version": "2.7.13"
  }
 },
 "nbformat": 4,
 "nbformat_minor": 2
}
