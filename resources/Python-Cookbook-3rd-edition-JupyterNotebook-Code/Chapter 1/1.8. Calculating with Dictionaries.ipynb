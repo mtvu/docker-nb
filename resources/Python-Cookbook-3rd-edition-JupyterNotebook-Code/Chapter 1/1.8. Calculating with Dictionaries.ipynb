{
 "cells": [
  {
   "cell_type": "code",
   "execution_count": 9,
   "metadata": {},
   "outputs": [
    {
     "name": "stdout",
     "output_type": "stream",
     "text": [
      "[(10.75, 'FB'), (37.2, 'HPQ'), (45.23, 'ACME'), (205.55, 'IBM'), (612.78, 'AAPL')]\n",
      "(10.75, 'FB')\n",
      "(612.78, 'AAPL')\n"
     ]
    }
   ],
   "source": [
    "prices ={\n",
    "     'ACME': 45.23,\n",
    "     'AAPL': 612.78,\n",
    "     'IBM': 205.55,\n",
    "     'HPQ': 37.20,\n",
    "     'FB': 10.75\n",
    "}\n",
    "\n",
    "zipped_file = (zip(prices.values(),prices.keys()))\n",
    "prices_sorted = sorted(zipped_file)\n",
    "min_price = min(zipped_file)\n",
    "max_price = max(zipped_file)\n",
    "\n",
    "print prices_sorted\n",
    "print min_price\n",
    "print max_price"
   ]
  },
  {
   "cell_type": "code",
   "execution_count": 11,
   "metadata": {},
   "outputs": [
    {
     "name": "stdout",
     "output_type": "stream",
     "text": [
      "(10.75, 'FB')\n",
      "(612.78, 'AAPL')\n"
     ]
    }
   ],
   "source": [
    "min_price = prices_sorted[0]\n",
    "max_price = prices_sorted[-1]\n",
    "\n",
    "print min_price\n",
    "print max_price"
   ]
  },
  {
   "cell_type": "code",
   "execution_count": 13,
   "metadata": {},
   "outputs": [
    {
     "name": "stdout",
     "output_type": "stream",
     "text": [
      "AAPL\n",
      "IBM\n"
     ]
    }
   ],
   "source": [
    "print min(prices)\n",
    "print max(prices)"
   ]
  },
  {
   "cell_type": "code",
   "execution_count": null,
   "metadata": {
    "collapsed": true
   },
   "outputs": [],
   "source": [
    "print prices.values()\n",
    "print "
   ]
  },
  {
   "cell_type": "code",
   "execution_count": 14,
   "metadata": {},
   "outputs": [
    {
     "name": "stdout",
     "output_type": "stream",
     "text": [
      "FB 10.75\n"
     ]
    }
   ],
   "source": [
    "for key, value in prices.items():\n",
    "    if value == min(prices.values()):\n",
    "        print key, value"
   ]
  },
  {
   "cell_type": "code",
   "execution_count": 16,
   "metadata": {},
   "outputs": [
    {
     "name": "stdout",
     "output_type": "stream",
     "text": [
      "FB\n",
      "AAPL\n"
     ]
    }
   ],
   "source": [
    "print min(prices, key = lambda k: prices[k])\n",
    "print max(prices, key = lambda j: prices[j])"
   ]
  },
  {
   "cell_type": "code",
   "execution_count": 17,
   "metadata": {},
   "outputs": [
    {
     "name": "stdout",
     "output_type": "stream",
     "text": [
      "10.75\n"
     ]
    }
   ],
   "source": [
    "min_value = prices[min(prices, key=lambda k:prices[k])]\n",
    "\n",
    "print min_value"
   ]
  },
  {
   "cell_type": "code",
   "execution_count": 19,
   "metadata": {},
   "outputs": [
    {
     "name": "stdout",
     "output_type": "stream",
     "text": [
      "(45.23, 'AAA')\n",
      "(45.23, 'ZZZ')\n"
     ]
    }
   ],
   "source": [
    "prices = {'AAA':45.23,'ZZZ':45.23}\n",
    "print (min(zip(prices.values(),prices.keys())))\n",
    "print (max(zip(prices.values(),prices.keys())))"
   ]
  },
  {
   "cell_type": "code",
   "execution_count": null,
   "metadata": {
    "collapsed": true
   },
   "outputs": [],
   "source": []
  }
 ],
 "metadata": {
  "kernelspec": {
   "display_name": "Python 2",
   "language": "python",
   "name": "python2"
  },
  "language_info": {
   "codemirror_mode": {
    "name": "ipython",
    "version": 2
   },
   "file_extension": ".py",
   "mimetype": "text/x-python",
   "name": "python",
   "nbconvert_exporter": "python",
   "pygments_lexer": "ipython2",
   "version": "2.7.13"
  }
 },
 "nbformat": 4,
 "nbformat_minor": 2
}
