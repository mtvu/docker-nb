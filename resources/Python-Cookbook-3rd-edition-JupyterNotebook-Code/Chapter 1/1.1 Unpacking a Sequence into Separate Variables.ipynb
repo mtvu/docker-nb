{
 "cells": [
  {
   "cell_type": "code",
   "execution_count": 5,
   "metadata": {},
   "outputs": [
    {
     "data": {
      "text/plain": [
       "(4, 5)"
      ]
     },
     "execution_count": 5,
     "metadata": {},
     "output_type": "execute_result"
    }
   ],
   "source": [
    "p = (4,5)\n",
    "x,y = p\n",
    "\n",
    "print x\n",
    "print y\n",
    "print x,y"
   ]
  },
  {
   "cell_type": "code",
   "execution_count": 9,
   "metadata": {},
   "outputs": [
    {
     "name": "stdout",
     "output_type": "stream",
     "text": [
      "ACME\n",
      "50\n",
      "91.1\n",
      "(2012, 12, 21)\n",
      "ACME 50 91.1 (2012, 12, 21)\n",
      "2012\n",
      "12\n",
      "21\n",
      "(2012, 12, 21)\n"
     ]
    }
   ],
   "source": [
    "data = ['ACME',50, 91.1, (2012,12,21)]\n",
    "\n",
    "name,share,price,date = data\n",
    "print(name)\n",
    "print(share)\n",
    "print(price)\n",
    "print(date)\n",
    "print name,share, price, date\n",
    "\n",
    "name,shares,price,(year,mon,day) = data\n",
    "print year\n",
    "print mon\n",
    "print day\n",
    "print (year,mon,day)"
   ]
  },
  {
   "cell_type": "markdown",
   "metadata": {},
   "source": [
    "NB: If there is a mismatch in the number of elements, an error will occur. Look Below."
   ]
  },
  {
   "cell_type": "code",
   "execution_count": 10,
   "metadata": {},
   "outputs": [
    {
     "ename": "ValueError",
     "evalue": "need more than 2 values to unpack",
     "output_type": "error",
     "traceback": [
      "\u001b[1;31m---------------------------------------------------------------------------\u001b[0m",
      "\u001b[1;31mValueError\u001b[0m                                Traceback (most recent call last)",
      "\u001b[1;32m<ipython-input-10-73e9959a34b9>\u001b[0m in \u001b[0;36m<module>\u001b[1;34m()\u001b[0m\n\u001b[0;32m      1\u001b[0m \u001b[0mp\u001b[0m \u001b[1;33m=\u001b[0m \u001b[1;33m(\u001b[0m\u001b[1;36m4\u001b[0m\u001b[1;33m,\u001b[0m\u001b[1;36m5\u001b[0m\u001b[1;33m)\u001b[0m\u001b[1;33m\u001b[0m\u001b[0m\n\u001b[1;32m----> 2\u001b[1;33m \u001b[0mx\u001b[0m\u001b[1;33m,\u001b[0m\u001b[0my\u001b[0m\u001b[1;33m,\u001b[0m\u001b[0mz\u001b[0m \u001b[1;33m=\u001b[0m \u001b[0mp\u001b[0m\u001b[1;33m\u001b[0m\u001b[0m\n\u001b[0m",
      "\u001b[1;31mValueError\u001b[0m: need more than 2 values to unpack"
     ]
    }
   ],
   "source": [
    "p = (4,5)\n",
    "x,y,z = p\n"
   ]
  },
  {
   "cell_type": "markdown",
   "metadata": {},
   "source": [
    "Unpacking works with any iterable in Python includings tuples, lists, strings, files, iterators, generators"
   ]
  },
  {
   "cell_type": "code",
   "execution_count": 15,
   "metadata": {},
   "outputs": [
    {
     "name": "stdout",
     "output_type": "stream",
     "text": [
      "H\n",
      "e\n",
      "l\n",
      "l\n",
      "o\n"
     ]
    }
   ],
   "source": [
    "s = 'Hello'\n",
    "a,b,c,d,e = s\n",
    "print a\n",
    "print b\n",
    "print c\n",
    "print d\n",
    "print e"
   ]
  },
  {
   "cell_type": "markdown",
   "metadata": {},
   "source": [
    "NB: even tho there is no synatc in discarding parts of the unpacked elements, you can use throwaway variables like '_' to discard unwated elements. \n",
    "\n",
    "BE CAREFUL to pick variables that are not used anywhere in a code"
   ]
  },
  {
   "cell_type": "code",
   "execution_count": 16,
   "metadata": {},
   "outputs": [
    {
     "name": "stdout",
     "output_type": "stream",
     "text": [
      "50\n",
      "91.1\n",
      "50 91.1\n"
     ]
    }
   ],
   "source": [
    "data = ['ACME',50, 91.1, (2012,12,21)]\n",
    "\n",
    "_,share,price,_ = data\n",
    "\n",
    "print(share)\n",
    "print(price)\n",
    "\n",
    "print share, price"
   ]
  },
  {
   "cell_type": "code",
   "execution_count": null,
   "metadata": {
    "collapsed": true
   },
   "outputs": [],
   "source": []
  }
 ],
 "metadata": {
  "kernelspec": {
   "display_name": "Python 2",
   "language": "python",
   "name": "python2"
  },
  "language_info": {
   "codemirror_mode": {
    "name": "ipython",
    "version": 2
   },
   "file_extension": ".py",
   "mimetype": "text/x-python",
   "name": "python",
   "nbconvert_exporter": "python",
   "pygments_lexer": "ipython2",
   "version": "2.7.13"
  }
 },
 "nbformat": 4,
 "nbformat_minor": 2
}
