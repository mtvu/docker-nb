{
 "cells": [
  {
   "cell_type": "code",
   "execution_count": 3,
   "metadata": {},
   "outputs": [
    {
     "name": "stdout",
     "output_type": "stream",
     "text": [
      "[42, 37, 23, 23, 18, 8, 7, 2, 2, 1, -4]\n",
      "[-4, 1, 2, 2, 7, 8, 18, 23, 23, 37, 42]\n"
     ]
    }
   ],
   "source": [
    "import heapq\n",
    "\n",
    "nums = [1,8,2,23,7,-4,18,23,42,37,2]\n",
    "\n",
    "print heapq.nlargest(len(nums),nums)\n",
    "print heapq.nsmallest(len(nums),nums)\n",
    "\n"
   ]
  },
  {
   "cell_type": "code",
   "execution_count": 5,
   "metadata": {},
   "outputs": [
    {
     "name": "stdout",
     "output_type": "stream",
     "text": [
      "[{'price': 16.35, 'name': 'YHOO', 'shares': 45}, {'price': 21.09, 'name': 'FB', 'shares': 200}, {'price': 31.75, 'name': 'HPQ', 'shares': 35}, {'price': 91.1, 'name': 'IBM', 'shares': 100}, {'price': 115.65, 'name': 'ACME', 'shares': 75}, {'price': 543.22, 'name': 'AAPL', 'shares': 50}]\n",
      "[{'price': 543.22, 'name': 'AAPL', 'shares': 50}, {'price': 115.65, 'name': 'ACME', 'shares': 75}, {'price': 91.1, 'name': 'IBM', 'shares': 100}, {'price': 31.75, 'name': 'HPQ', 'shares': 35}, {'price': 21.09, 'name': 'FB', 'shares': 200}, {'price': 16.35, 'name': 'YHOO', 'shares': 45}]\n"
     ]
    }
   ],
   "source": [
    "portfolio = [\n",
    "     {'name': 'IBM', 'shares': 100, 'price': 91.1},\n",
    "     {'name': 'AAPL', 'shares': 50, 'price': 543.22},\n",
    "     {'name': 'FB', 'shares': 200, 'price': 21.09},\n",
    "     {'name': 'HPQ', 'shares': 35, 'price': 31.75},\n",
    "     {'name': 'YHOO', 'shares': 45, 'price': 16.35},\n",
    "     {'name': 'ACME', 'shares': 75, 'price': 115.65}\n",
    "]\n",
    "\n",
    "cheap = heapq.nsmallest(len(portfolio), portfolio, key=lambda k: k['price'])\n",
    "expensive = heapq.nlargest(len(portfolio), portfolio, key=lambda k: k['price'])\n",
    "\n",
    "print cheap\n",
    "print expensive"
   ]
  },
  {
   "cell_type": "code",
   "execution_count": 8,
   "metadata": {},
   "outputs": [
    {
     "data": {
      "text/plain": [
       "[-4, 2, 1, 23, 7, 2, 18, 23, 42, 37, 8]"
      ]
     },
     "execution_count": 8,
     "metadata": {},
     "output_type": "execute_result"
    }
   ],
   "source": [
    "nums = [1,8,2,23,7,-4,18,23,42,37,2]\n",
    "\n",
    "import heapq\n",
    "heap = list(nums)\n",
    "heapq.heapify(heap)\n",
    "heap"
   ]
  },
  {
   "cell_type": "code",
   "execution_count": 14,
   "metadata": {},
   "outputs": [
    {
     "name": "stdout",
     "output_type": "stream",
     "text": [
      "18\n",
      "23\n",
      "23\n"
     ]
    },
    {
     "data": {
      "text/plain": [
       "[37, 42]"
      ]
     },
     "execution_count": 14,
     "metadata": {},
     "output_type": "execute_result"
    }
   ],
   "source": [
    "print(heapq.heappop(heap))\n",
    "print(heapq.heappop(heap))\n",
    "print(heapq.heappop(heap))\n",
    "heap"
   ]
  },
  {
   "cell_type": "code",
   "execution_count": null,
   "metadata": {
    "collapsed": true
   },
   "outputs": [],
   "source": []
  }
 ],
 "metadata": {
  "kernelspec": {
   "display_name": "Python 2",
   "language": "python",
   "name": "python2"
  },
  "language_info": {
   "codemirror_mode": {
    "name": "ipython",
    "version": 2
   },
   "file_extension": ".py",
   "mimetype": "text/x-python",
   "name": "python",
   "nbconvert_exporter": "python",
   "pygments_lexer": "ipython2",
   "version": "2.7.13"
  }
 },
 "nbformat": 4,
 "nbformat_minor": 2
}
