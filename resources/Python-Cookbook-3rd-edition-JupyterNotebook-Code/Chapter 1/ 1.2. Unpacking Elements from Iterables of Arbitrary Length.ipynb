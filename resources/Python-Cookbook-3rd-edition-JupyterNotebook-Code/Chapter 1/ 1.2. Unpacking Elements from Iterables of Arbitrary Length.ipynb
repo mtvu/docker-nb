{
 "cells": [
  {
   "cell_type": "markdown",
   "metadata": {},
   "source": [
    "Python 3 \"star expressions\" can be used to address unpacking iterables of unknown or very large length.\n",
    "\n",
    "NB: This Jupyter Notebook uses Python 2 and so the Python 3 code is also adapted to Python 2 and the Python 3 code poses synax errors."
   ]
  },
  {
   "cell_type": "code",
   "execution_count": 6,
   "metadata": {},
   "outputs": [
    {
     "ename": "SyntaxError",
     "evalue": "invalid syntax (<ipython-input-6-9ff895e56db3>, line 4)",
     "output_type": "error",
     "traceback": [
      "\u001b[1;36m  File \u001b[1;32m\"<ipython-input-6-9ff895e56db3>\"\u001b[1;36m, line \u001b[1;32m4\u001b[0m\n\u001b[1;33m    first, *middle, last = grades\u001b[0m\n\u001b[1;37m           ^\u001b[0m\n\u001b[1;31mSyntaxError\u001b[0m\u001b[1;31m:\u001b[0m invalid syntax\n"
     ]
    }
   ],
   "source": [
    "#First example if you need to find the average of the middle grades \n",
    "#Python 3 code\n",
    "def drop_first_last(grades):\n",
    "    first, *middle, last = grades\n",
    "    return avg(middle)"
   ]
  },
  {
   "cell_type": "code",
   "execution_count": 7,
   "metadata": {},
   "outputs": [
    {
     "data": {
      "text/plain": [
       "2.857142857142857"
      ]
     },
     "execution_count": 7,
     "metadata": {},
     "output_type": "execute_result"
    }
   ],
   "source": [
    "#Python 2 code\n",
    "def py2_drop_first_last(grades):\n",
    "    return (float(sum(grades[1:-1]))/(len(grades)))\n",
    "\n",
    "float(py2_drop_first_last([1,2,3,4,5,6,7]))"
   ]
  },
  {
   "cell_type": "code",
   "execution_count": 8,
   "metadata": {},
   "outputs": [
    {
     "ename": "SyntaxError",
     "evalue": "invalid syntax (<ipython-input-8-a74fe55ef9ce>, line 3)",
     "output_type": "error",
     "traceback": [
      "\u001b[1;36m  File \u001b[1;32m\"<ipython-input-8-a74fe55ef9ce>\"\u001b[1;36m, line \u001b[1;32m3\u001b[0m\n\u001b[1;33m    name,email,*phone_numbers = user_record\u001b[0m\n\u001b[1;37m               ^\u001b[0m\n\u001b[1;31mSyntaxError\u001b[0m\u001b[1;31m:\u001b[0m invalid syntax\n"
     ]
    }
   ],
   "source": [
    "#Python 3 code\n",
    "record = ('Dave','dave@exmple.com','773-555-1212','847-555-1212')\n",
    "name,email,*phone_numbers = record\n",
    "name\n",
    "email\n",
    "phone_numbers"
   ]
  },
  {
   "cell_type": "code",
   "execution_count": 12,
   "metadata": {},
   "outputs": [
    {
     "name": "stdout",
     "output_type": "stream",
     "text": [
      "Dave\n",
      "dave@exmple.com\n",
      "('773-555-1212', '847-555-1212')\n"
     ]
    }
   ],
   "source": [
    "#Python 2 code\n",
    "record = ('Dave','dave@exmple.com','773-555-1212','847-555-1212')\n",
    "name = record[0]\n",
    "email = record[1]\n",
    "phone_numbers = record[-2:]\n",
    "\n",
    "print name\n",
    "print email\n",
    "print phone_numbers"
   ]
  },
  {
   "cell_type": "code",
   "execution_count": 13,
   "metadata": {},
   "outputs": [
    {
     "ename": "SyntaxError",
     "evalue": "invalid syntax (<ipython-input-13-4f8f08b8025e>, line 3)",
     "output_type": "error",
     "traceback": [
      "\u001b[1;36m  File \u001b[1;32m\"<ipython-input-13-4f8f08b8025e>\"\u001b[1;36m, line \u001b[1;32m3\u001b[0m\n\u001b[1;33m    *trailing_qtrs, current_qtr = sales_record\u001b[0m\n\u001b[1;37m    ^\u001b[0m\n\u001b[1;31mSyntaxError\u001b[0m\u001b[1;31m:\u001b[0m invalid syntax\n"
     ]
    }
   ],
   "source": [
    "#Python 3 code\n",
    "\n",
    "*trailing_qtrs, current_qtr = sales_record\n",
    "trailing_avg = sum(trailing_qtrs)/len(trailing_qtrs)\n",
    "return avg_comparison(trailing_avg,current_qtr)\n",
    "\n",
    "*trailing, current = [10,8,7,1,9,5,10,3]\n",
    "trailing\n",
    "current"
   ]
  },
  {
   "cell_type": "code",
   "execution_count": 23,
   "metadata": {},
   "outputs": [
    {
     "data": {
      "text/plain": [
       "([10, 8, 7, 1, 9, 5, 10], 3)"
      ]
     },
     "execution_count": 23,
     "metadata": {},
     "output_type": "execute_result"
    }
   ],
   "source": [
    "#Python 2 code\n",
    "sales_record = [10,8,7,1,9,5,10,3]\n",
    "trailing = sales_record[0:-1]\n",
    "current = sales_record[-1]\n",
    "trailing_avg = sum(trailing)/(len(sales_record))\n",
    "trailing, current"
   ]
  },
  {
   "cell_type": "code",
   "execution_count": 25,
   "metadata": {},
   "outputs": [
    {
     "ename": "SyntaxError",
     "evalue": "invalid syntax (<ipython-input-25-cb56ad378194>, line 13)",
     "output_type": "error",
     "traceback": [
      "\u001b[1;36m  File \u001b[1;32m\"<ipython-input-25-cb56ad378194>\"\u001b[1;36m, line \u001b[1;32m13\u001b[0m\n\u001b[1;33m    for tag, *args in records:\u001b[0m\n\u001b[1;37m             ^\u001b[0m\n\u001b[1;31mSyntaxError\u001b[0m\u001b[1;31m:\u001b[0m invalid syntax\n"
     ]
    }
   ],
   "source": [
    "records = [\n",
    "    ('foo', 1,2),\n",
    "    ('bar','hello'),     \n",
    "    ('foo',3,4),      \n",
    "          ]\n",
    "\n",
    "def do_foo(x,y):\n",
    "    print('foo',x,y)\n",
    "    \n",
    "def do_bar(s):\n",
    "    print('bar',s)\n",
    "\n",
    "for tag, *args in records:\n",
    "    if tag == 'foo':\n",
    "        do_foo(*args)\n",
    "    elif tag == 'bar':\n",
    "        do_bar(*args)|"
   ]
  },
  {
   "cell_type": "code",
   "execution_count": 34,
   "metadata": {},
   "outputs": [
    {
     "name": "stdout",
     "output_type": "stream",
     "text": [
      "('foo', 1, 2)\n",
      "('bar', ('hello',))\n",
      "('foo', 3, 4)\n"
     ]
    }
   ],
   "source": [
    "#Python 2\n",
    "records = [\n",
    "    ('foo', 1,2),\n",
    "    ('bar','hello'),     \n",
    "    ('foo',3,4),      \n",
    "          ]\n",
    "\n",
    "def do_foo(x,y):\n",
    "    print('foo',x,y)\n",
    "    \n",
    "def do_bar(s):\n",
    "    print('bar',s)\n",
    "\n",
    "for i in records:\n",
    "    if i[0] == 'foo':\n",
    "        do_foo(i[1],i[2])\n",
    "    elif i[0] == 'bar':\n",
    "        do_bar(i[1:])"
   ]
  },
  {
   "cell_type": "code",
   "execution_count": 36,
   "metadata": {},
   "outputs": [
    {
     "ename": "SyntaxError",
     "evalue": "invalid syntax (<ipython-input-36-22e327a87868>, line 4)",
     "output_type": "error",
     "traceback": [
      "\u001b[1;36m  File \u001b[1;32m\"<ipython-input-36-22e327a87868>\"\u001b[1;36m, line \u001b[1;32m4\u001b[0m\n\u001b[1;33m    uname, *fields, homedir, sh = line.split(':')\u001b[0m\n\u001b[1;37m           ^\u001b[0m\n\u001b[1;31mSyntaxError\u001b[0m\u001b[1;31m:\u001b[0m invalid syntax\n"
     ]
    }
   ],
   "source": [
    "#Python 3\n",
    "\n",
    "line = 'nobody:*:-2:-2:Unprivileged User:/var/empty:/usr/bin/false'\n",
    "uname, *fields, homedir, sh = line.split(':')\n",
    "uname\n",
    "homedir\n",
    "sh"
   ]
  },
  {
   "cell_type": "code",
   "execution_count": 39,
   "metadata": {},
   "outputs": [
    {
     "name": "stdout",
     "output_type": "stream",
     "text": [
      "nobody\n",
      "/var/empty\n",
      "/usr/bin/false\n"
     ]
    }
   ],
   "source": [
    "#Python 2\n",
    "\n",
    "line = 'nobody:*:-2:-2:Unprivileged User:/var/empty:/usr/bin/false'\n",
    "\n",
    "list1 = line.split(':')\n",
    "print list1[0]\n",
    "print list1[-2]\n",
    "print list1[-1]"
   ]
  },
  {
   "cell_type": "code",
   "execution_count": 40,
   "metadata": {},
   "outputs": [
    {
     "ename": "SyntaxError",
     "evalue": "invalid syntax (<ipython-input-40-8b05c5e85f8b>, line 4)",
     "output_type": "error",
     "traceback": [
      "\u001b[1;36m  File \u001b[1;32m\"<ipython-input-40-8b05c5e85f8b>\"\u001b[1;36m, line \u001b[1;32m4\u001b[0m\n\u001b[1;33m    name, *_, (*_,year) = record\u001b[0m\n\u001b[1;37m          ^\u001b[0m\n\u001b[1;31mSyntaxError\u001b[0m\u001b[1;31m:\u001b[0m invalid syntax\n"
     ]
    }
   ],
   "source": [
    "#Python 3\n",
    "\n",
    "record = ('ACME', 50, 123.45, (12,18,2012))\n",
    "name, *_, (*_,year) = record\n",
    "name\n",
    "year"
   ]
  },
  {
   "cell_type": "code",
   "execution_count": 41,
   "metadata": {},
   "outputs": [
    {
     "name": "stdout",
     "output_type": "stream",
     "text": [
      "ACME\n",
      "2012\n"
     ]
    }
   ],
   "source": [
    "#Python 2\n",
    "\n",
    "record = ('ACME', 50, 123.45, (12,18,2012))\n",
    "name = record[0]\n",
    "year = record[-1][-1]\n",
    "\n",
    "print name\n",
    "print year"
   ]
  },
  {
   "cell_type": "code",
   "execution_count": 48,
   "metadata": {},
   "outputs": [
    {
     "ename": "SyntaxError",
     "evalue": "invalid syntax (<ipython-input-48-478fec94a274>, line 4)",
     "output_type": "error",
     "traceback": [
      "\u001b[1;36m  File \u001b[1;32m\"<ipython-input-48-478fec94a274>\"\u001b[1;36m, line \u001b[1;32m4\u001b[0m\n\u001b[1;33m    head, *tail = items\u001b[0m\n\u001b[1;37m          ^\u001b[0m\n\u001b[1;31mSyntaxError\u001b[0m\u001b[1;31m:\u001b[0m invalid syntax\n"
     ]
    }
   ],
   "source": [
    "#Python 3 \n",
    "\n",
    "items = [1,10,7,4,5,9]\n",
    "head, *tail = items\n",
    "head\n",
    "tail\n",
    "\n",
    "def sum2(head,tail):\n",
    "    return head + sum(tail) if tail else head\n",
    "\n",
    "sum2(head,tail)"
   ]
  },
  {
   "cell_type": "code",
   "execution_count": 62,
   "metadata": {},
   "outputs": [
    {
     "name": "stdout",
     "output_type": "stream",
     "text": [
      "36\n"
     ]
    }
   ],
   "source": [
    "#Python 2\n",
    "\n",
    "items = [1,10,7,4,5,9]\n",
    "head = items[0]\n",
    "tail = items[1:]\n",
    "head\n",
    "tail\n",
    "\n",
    "p = 0\n",
    "for i in tail:\n",
    "    p+=i\n",
    "print head+p"
   ]
  },
  {
   "cell_type": "code",
   "execution_count": null,
   "metadata": {
    "collapsed": true
   },
   "outputs": [],
   "source": []
  }
 ],
 "metadata": {
  "kernelspec": {
   "display_name": "Python 2",
   "language": "python",
   "name": "python2"
  },
  "language_info": {
   "codemirror_mode": {
    "name": "ipython",
    "version": 2
   },
   "file_extension": ".py",
   "mimetype": "text/x-python",
   "name": "python",
   "nbconvert_exporter": "python",
   "pygments_lexer": "ipython2",
   "version": "2.7.13"
  }
 },
 "nbformat": 4,
 "nbformat_minor": 2
}
