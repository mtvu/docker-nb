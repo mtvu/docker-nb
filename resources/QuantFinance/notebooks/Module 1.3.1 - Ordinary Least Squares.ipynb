{
 "cells": [
  {
   "cell_type": "markdown",
   "metadata": {},
   "source": [
    "# Introduction to Quantitative Finance\n",
    "\n",
    "Copyright (c) 2019 Python Charmers Pty Ltd, Australia, <https://pythoncharmers.com>. All rights reserved.\n",
    "\n",
    "<img src=\"img/python_charmers_logo.png\" width=\"300\" alt=\"Python Charmers Logo\">\n",
    "\n",
    "Published under the Creative Commons Attribution-NonCommercial 4.0 International (CC BY-NC 4.0) license. See `LICENSE.md` for details.\n",
    "\n",
    "Sponsored by Tibra Global Services, <https://tibra.com>\n",
    "\n",
    "<img src=\"img/tibra_logo.png\" width=\"300\" alt=\"Tibra Logo\">\n",
    "\n",
    "\n",
    "## Module 1.3: Ordinary Least Squares\n",
    "\n",
    "### 1.3.1 Ordinary Least Squares\n",
    "\n",
    "The Ordinary Least Squares (hereafter OLS) algorithm is a key algorithm for prediction, regression and many other learning tasks. Despite it initially looking like *just* a linear algorithm, it can be extended to be able to predict a wide variety of complex tasks. It is a powerful algorithm with some solid mathematical proofs behind it, and is a very practically useful algorithm for prediction and modelling tasks.\n",
    "\n",
    "We will review the OLS algorithm in significant depth over the next few notebooks, and use it extensively over the rest of this course.\n",
    "The OLS algorithm aims to solve problems of the form:\n",
    "\n",
    "$ Y = X\\beta + \\boldsymbol{u}$\n",
    "\n",
    "Where:\n",
    "* $Y$ is the variable we are attempting to predict (the dependent variable)\n",
    "* $X$ is our independent variable (or multiple variables, as we will see in the next notebook)\n",
    "* $\\beta$ is the parameters we are trying to learn\n",
    "* $u$ is the error of our model, as we can often not predict data perfectly.\n",
    "\n",
    "This type of model is a **Linear Regression Model**, as the model is a linear combination of $X$ and $\\beta$. Note, however, that the values of $X$ do not have to be linear, for instance, we can used $x^2$ as our $X$ value, and we still use Linear Regression to learn that model (although in some cases it may no longer be the best algorithm - a problem for later). We use OLS to find the best values for $\\beta$ for our Linear Regression Model.\n",
    "\n",
    "OLS aims to learn the *best* values for $\\beta$, which is defined as the values that minimise the value $u$, our error. Before we get to how to do that, we will have a look at the Linear Regression Model in more detail."
   ]
  },
  {
   "cell_type": "markdown",
   "metadata": {},
   "source": [
    "### Linear Regression Model\n",
    "\n",
    "In a Linear Regression Model, we have our independent $X$ values, and our dependent $Y$ values, and we wish to find a linear relationship between them. For instance:"
   ]
  },
  {
   "cell_type": "code",
   "execution_count": 1,
   "metadata": {},
   "outputs": [],
   "source": [
    "%run setup.ipy"
   ]
  },
  {
   "cell_type": "code",
   "execution_count": 2,
   "metadata": {},
   "outputs": [],
   "source": [
    "# A sample of 20 students were examined for the link between study time and SAT scores\n",
    "study_hours = np.array([4, 9, 10, 14, 4, 7, 12, 22, 1, 3, 8, 11, 5, 6, 10, 11, 16, 13, 13, 10])\n",
    "SAT_scores = np.array([390, 580, 650, 730, 410, 530, 600, 790, 350, 400, 590, 640, \n",
    "                       450, 520, 690, 690, 770, 700, 730, 640])"
   ]
  },
  {
   "cell_type": "code",
   "execution_count": 3,
   "metadata": {},
   "outputs": [
    {
     "data": {
      "text/plain": [
       "Text(0, 0.5, 'SAT Score')"
      ]
     },
     "execution_count": 3,
     "metadata": {},
     "output_type": "execute_result"
    },
    {
     "data": {
      "image/png": "[encoded data removed]",
      "text/plain": [
       "<Figure size 432x288 with 1 Axes>"
      ]
     },
     "metadata": {
      "needs_background": "light"
     },
     "output_type": "display_data"
    }
   ],
   "source": [
    "plt.plot(study_hours, SAT_scores, 'ro')\n",
    "plt.xlabel(\"Hours Studied\")\n",
    "plt.ylabel(\"SAT Score\")"
   ]
  },
  {
   "cell_type": "markdown",
   "metadata": {},
   "source": [
    "Ignoring the outlier, there is quite a linear relationship here between hours studied, and the final SAT score.\n",
    "Approximately, the rate seems to be \"for every hour studied, the SAT score increases by 30, from a base of 300\". Let's look at this visually:"
   ]
  },
  {
   "cell_type": "code",
   "execution_count": 4,
   "metadata": {},
   "outputs": [
    {
     "data": {
      "text/plain": [
       "[<matplotlib.lines.Line2D at 0x7ff0b37dafd0>]"
      ]
     },
     "execution_count": 4,
     "metadata": {},
     "output_type": "execute_result"
    },
    {
     "data": {
      "image/png": "[encoded data removed]",
      "text/plain": [
       "<Figure size 432x288 with 1 Axes>"
      ]
     },
     "metadata": {
      "needs_background": "light"
     },
     "output_type": "display_data"
    }
   ],
   "source": [
    "plt.plot(study_hours, SAT_scores, 'ro')\n",
    "plt.xlabel(\"Hours Studied\")\n",
    "plt.ylabel(\"SAT Score\")\n",
    "\n",
    "# Here we create x values for \"each hour of study\" so we can plot the results\n",
    "x_model = np.arange(0, 25)\n",
    "y_model = x_model * 30 + 300\n",
    "\n",
    "plt.plot(x_model, y_model, 'b-')"
   ]
  },
  {
   "cell_type": "markdown",
   "metadata": {},
   "source": [
    "Quite a good fit! We can then work out our error, by using our \"model\" where $\\beta=4$ and a constant of 300 (we will see how this fits into a model soon), on the actual hours studied, and compare that to the actual scores:"
   ]
  },
  {
   "cell_type": "code",
   "execution_count": 5,
   "metadata": {},
   "outputs": [
    {
     "name": "stdout",
     "output_type": "stream",
     "text": [
      "The error is 740.00\n"
     ]
    }
   ],
   "source": [
    "predicted_scores = study_hours * 30 + 300  # Same values as before - this is our \"model\"\n",
    "error = np.sum(np.abs(predicted_scores - SAT_scores))  # The \"absolute error\"\n",
    "print(\"The error is {:.2f}\".format(error))"
   ]
  },
  {
   "cell_type": "markdown",
   "metadata": {},
   "source": [
    "The OLS algorithm aims to minimise the squared error, which is:"
   ]
  },
  {
   "cell_type": "code",
   "execution_count": 6,
   "metadata": {},
   "outputs": [
    {
     "name": "stdout",
     "output_type": "stream",
     "text": [
      "The squared error is 56400.00\n"
     ]
    }
   ],
   "source": [
    "squared_error = np.sum((predicted_scores - SAT_scores) ** 2)\n",
    "print(\"The squared error is {:.2f}\".format(squared_error))"
   ]
  },
  {
   "cell_type": "markdown",
   "metadata": {},
   "source": [
    "Both errors are valid to use, but the squared error is nicer from an algebraic perspective, allowing for gradients to be computed, and automatically account for positive/negative errors in the same way."
   ]
  },
  {
   "cell_type": "markdown",
   "metadata": {},
   "source": [
    "#### Exercises\n",
    "\n",
    "1. Why wouldn't you use the actual error, that is `np.sum(predicted_scores - SAT_scores)`?\n",
    "2. Try three different models (change the values 30 and 300 in the equation before). What is your best performing model?"
   ]
  },
  {
   "cell_type": "markdown",
   "metadata": {},
   "source": [
    "*For solutions, see `solutions/linear_regression_intro.py`*"
   ]
  },
  {
   "cell_type": "markdown",
   "metadata": {},
   "source": [
    "### Ordinary Least Squares Derivation\n",
    "\n",
    "Here we will go through the derivation of the OLS algorithm with matrix mathematics. We will extend this further in the next notebook where we look at multivariate OLS. Before we do that, we will extend our Linear Regression Model slightly to account for our constant value (the \"300\" in our model for SAT scores):\n",
    "\n",
    "$ Y = X\\beta + \\boldsymbol{u}$  (as before)\n",
    "\n",
    "where $\\beta = [\\beta_1, \\beta_2]$ and $X = [1, X]$.\n",
    "\n",
    "In other words, $\\beta$ is two values - the multiplier against the constant (hereafter just \"the constant\") and the value that the independent variable is multiplied against ($X\\beta_2$). We extend $X$ by adding a column of 1s to it, and then use matrix multiplication, as we will review in the next notebook. This multiplies the 1s by the constant and also the independent variable by its coefficient.\n",
    "\n",
    "The aim of OLS is to choose $\\beta$ to minimise $u^2$ (the squared error), which we can do via the following equations:\n",
    "\n",
    "$ \\boldsymbol{y}  = X\\beta + u$ \n",
    "\n",
    "$ \\boldsymbol{u} = \\boldsymbol{y} - X\\beta $\n",
    "\n",
    "$\\boldsymbol{u}^2 = \\boldsymbol{u}\\boldsymbol{u} = (\\boldsymbol{y} - X\\beta)(\\boldsymbol{y} - X\\beta)$\n",
    "\n",
    "$\\boldsymbol{u}\\boldsymbol{u} = \\boldsymbol{y}\\boldsymbol{y} - 2\\boldsymbol{y}X\\beta + X\\beta X\\beta$\n",
    "\n",
    "Computing the partial derivative of the squared error with respect to $\\beta$, and setting it to zero yields:\n",
    "\n",
    "$\\frac{ \\partial(\\boldsymbol{u}\\boldsymbol{u})}{ \\partial\\beta} = 0$\n",
    "$ = -2X\\boldsymbol{y} + 2X^2\\beta$\n",
    "\n",
    "Solving for $\\beta$ yields:\n",
    "\n",
    "$\\beta = \\frac{XY}{X^2}$\n",
    "\n",
    "<div class=\"alert alert-warning\">\n",
    "    We do <b>not</b> reduce the $X$ values - they are matrices, and the equations here will change slightly in the next notebook when we examine these values as matrices\n",
    "</div>\n",
    "\n",
    "Below, I take you through the code to do the same. There is a bit of matrix manipulation happening here that may not be familiar, however we will cover that in the next notebook. Ignoring the transposing (`.T`), inverting (`np.linalg.inv`) and some rearranging if you are not familiar with matrix maths, this is the same result as before. Also note that generally you do *not* do this yourself, instead letting an established library do it for you."
   ]
  },
  {
   "cell_type": "code",
   "execution_count": 7,
   "metadata": {},
   "outputs": [
    {
     "data": {
      "text/plain": [
       "(20,)"
      ]
     },
     "execution_count": 7,
     "metadata": {},
     "output_type": "execute_result"
    }
   ],
   "source": [
    "study_hours.shape"
   ]
  },
  {
   "cell_type": "code",
   "execution_count": 8,
   "metadata": {},
   "outputs": [
    {
     "data": {
      "text/plain": [
       "(20,)"
      ]
     },
     "execution_count": 8,
     "metadata": {},
     "output_type": "execute_result"
    }
   ],
   "source": [
    "ones = np.ones((len(study_hours)))\n",
    "ones.shape"
   ]
  },
  {
   "cell_type": "code",
   "execution_count": 9,
   "metadata": {},
   "outputs": [],
   "source": [
    "X = np.vstack([ones, study_hours]).T"
   ]
  },
  {
   "cell_type": "code",
   "execution_count": 10,
   "metadata": {},
   "outputs": [
    {
     "data": {
      "text/plain": [
       "(20, 2)"
      ]
     },
     "execution_count": 10,
     "metadata": {},
     "output_type": "execute_result"
    }
   ],
   "source": [
    "X.shape"
   ]
  },
  {
   "cell_type": "code",
   "execution_count": 11,
   "metadata": {},
   "outputs": [],
   "source": [
    "Y = SAT_scores.reshape((len(SAT_scores), 1))"
   ]
  },
  {
   "cell_type": "code",
   "execution_count": 12,
   "metadata": {},
   "outputs": [
    {
     "data": {
      "text/plain": [
       "((20, 2), (20, 1))"
      ]
     },
     "execution_count": 12,
     "metadata": {},
     "output_type": "execute_result"
    }
   ],
   "source": [
    "X.shape, Y.shape"
   ]
  },
  {
   "cell_type": "code",
   "execution_count": 13,
   "metadata": {},
   "outputs": [
    {
     "data": {
      "text/plain": [
       "array([[353.1648795 ],\n",
       "       [ 25.32646778]])"
      ]
     },
     "execution_count": 13,
     "metadata": {},
     "output_type": "execute_result"
    }
   ],
   "source": [
    "beta = np.linalg.inv(X.T.dot(X)).dot(X.T.dot(Y))\n",
    "beta"
   ]
  },
  {
   "cell_type": "code",
   "execution_count": 14,
   "metadata": {},
   "outputs": [
    {
     "data": {
      "text/plain": [
       "[<matplotlib.lines.Line2D at 0x7ff0b3713438>]"
      ]
     },
     "execution_count": 14,
     "metadata": {},
     "output_type": "execute_result"
    },
    {
     "data": {
      "image/png": "[encoded data removed]",
      "text/plain": [
       "<Figure size 432x288 with 1 Axes>"
      ]
     },
     "metadata": {
      "needs_background": "light"
     },
     "output_type": "display_data"
    }
   ],
   "source": [
    "plt.plot(study_hours, SAT_scores, 'ro')\n",
    "plt.xlabel(\"Hours Studied\")\n",
    "plt.ylabel(\"SAT Score\")\n",
    "\n",
    "# Here we create x values for \"each hour of study\" so we can plot the results\n",
    "x_model = np.arange(0, 25)\n",
    "y_model = x_model * beta[1] + beta[0]  # Use our learned model to fit the line of best fit.\n",
    "\n",
    "plt.plot(x_model, y_model, 'b-')\n"
   ]
  },
  {
   "cell_type": "markdown",
   "metadata": {},
   "source": [
    "Predicting the actual scores, we can see our trained model is better than the intuited model from earlier."
   ]
  },
  {
   "cell_type": "code",
   "execution_count": 22,
   "metadata": {},
   "outputs": [
    {
     "name": "stdout",
     "output_type": "stream",
     "text": [
      "The squared error is 44493.56\n"
     ]
    }
   ],
   "source": [
    "predicted_scores = study_hours * beta[1] + beta[0]\n",
    "squared_error = np.sum((predicted_scores - SAT_scores) ** 2)\n",
    "print(\"The squared error is {:.2f}\".format(squared_error))"
   ]
  },
  {
   "cell_type": "markdown",
   "metadata": {},
   "source": [
    "#### Exercises\n",
    "\n",
    "1. Remove the outlier from the data (the sample with hours studied more than 20) and rerun the analysis. What $\\beta$ values do you obtain?\n",
    "2. Implement and run the following algorithm:\n",
    "\n",
    "\n",
    "```\n",
    "loop 100 times:\n",
    "    obtain a sample of 50% of the data points\n",
    "    compute the beta values\n",
    "    \n",
    "average all beta values obtained during the loop as the final beta values\n",
    "```\n",
    "\n",
    "This is an *ensemble* learner - it is great for removing the effect of outliers, as seen in the above data.\n"
   ]
  },
  {
   "cell_type": "markdown",
   "metadata": {},
   "source": [
    "*For solutions, see `solutions/ols_basic_ensemble.py`*"
   ]
  }
 ],
 "metadata": {
  "kernelspec": {
   "display_name": "Python 3",
   "language": "python",
   "name": "python3"
  },
  "language_info": {
   "codemirror_mode": {
    "name": "ipython",
    "version": 3
   },
   "file_extension": ".py",
   "mimetype": "text/x-python",
   "name": "python",
   "nbconvert_exporter": "python",
   "pygments_lexer": "ipython3",
   "version": "3.6.9"
  }
 },
 "nbformat": 4,
 "nbformat_minor": 4
}
