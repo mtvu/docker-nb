{
 "cells": [
  {
   "cell_type": "markdown",
   "metadata": {},
   "source": [
    "# Introduction to Quantitative Finance\n",
    "\n",
    "Copyright (c) 2019 Python Charmers Pty Ltd, Australia, <https://pythoncharmers.com>. All rights reserved.\n",
    "\n",
    "<img src=\"img/python_charmers_logo.png\" width=\"300\" alt=\"Python Charmers Logo\">\n",
    "\n",
    "Published under the Creative Commons Attribution-NonCommercial 4.0 International (CC BY-NC 4.0) license. See `LICENSE.md` for details.\n",
    "\n",
    "Sponsored by Tibra Global Services, <https://tibra.com>\n",
    "\n",
    "<img src=\"img/tibra_logo.png\" width=\"300\" alt=\"Tibra Logo\">\n",
    "\n",
    "## Module 1.1: Distributions and Random Processes\n",
    "\n",
    "### 1.1.1: Overview\n",
    "\n",
    "In this section we will review random distributions and processes, identifying their use cases and how to build them with the Python programming language.\n",
    "\n",
    "This module will also cover some background material on getting installed on your system, and some other notes on how to use these notebooks.\n",
    "\n",
    "In this first set of modules we will cover the following topics:\n",
    "\n",
    "1. How to use Jupyter Notebooks, including Markdown cells and exporting to PDF\n",
    "2. How to complete exercises and check your solutions work with *pytest*\n",
    "3. Python versions, and writing compatible code in both Python 2 and Python 3\n",
    "4. The Altair library for visualisations (we will use this extensively throughout the course)\n",
    "5. Different types of data (discrete and continuous) and how to generate random variables from them.\n",
    "6. Normal distributions, their properties and testing for normality\n",
    "7. Z-scores and moments"
   ]
  },
  {
   "cell_type": "markdown",
   "metadata": {},
   "source": [
    "Before we get started, let's check your setup to make sure it has the necessary software installed to run the notebooks. Click the next cell, and press: <kbd>CTRL</kbd> + <kbd>Enter</kbd> to run the code in it."
   ]
  },
  {
   "cell_type": "code",
   "execution_count": 4,
   "metadata": {},
   "outputs": [
    {
     "name": "stdout",
     "output_type": "stream",
     "text": [
      "3.6.9 |Anaconda, Inc.| (default, Jul 30 2019, 19:07:31) \n",
      "[GCC 7.3.0]\n"
     ]
    }
   ],
   "source": [
    "import sys\n",
    "print(sys.version)"
   ]
  },
  {
   "cell_type": "markdown",
   "metadata": {},
   "source": [
    "This course is designed to work with both Python 2 and Python 3. There are some differences, but these will be pointed out as we go.\n",
    "\n",
    "In the output above, you should see the version of Python you are using. These notebooks have been tested with versions:\n",
    "\n",
    "* 2.7 and above for Python 2\n",
    "* 3.6 and above for Python 3\n",
    "\n",
    "If your versions are lower than those, please consider upgrading - your Python system may not be receiving all updates it can, and many libraries will slowly stop adding features for your version. This is true too of Python 2.7, but support for that version (specifically) will continue until 1 January 2020."
   ]
  },
  {
   "cell_type": "markdown",
   "metadata": {},
   "source": [
    "Throughout this course, you'll be able to run the code directly in the notebook itself. I also recommend completing the exercises within the notebook as you go. That way, you can reuse some of the code in the notebook itself for your exercises. To do that, you will need to add cells. "
   ]
  },
  {
   "cell_type": "markdown",
   "metadata": {},
   "source": [
    "Try adding a cell now. Click this cell, so that it has an outline around this paragraph. Then click <kbd>ESC</kbd>, and then <kbd>b</kbd>. This should create a new cell below this one."
   ]
  },
  {
   "cell_type": "markdown",
   "metadata": {},
   "source": [
    "For more keyboard shortcuts, click <kbd>ESC</kbd>, and then <kbd>h</kbd>. The command mode is activated by clicking <kbd>ESC</kbd>, and then the command itself is selected using the letter <kbd>h</kbd> (or whatever for the other commands).\n",
    "\n",
    "If you want to write notes, like these ones, click <kbd>ESC</kbd>, and then <kbd>m</kbd>. This changes the cell type to \"markdown\", letting you add notes to the notebook as we are going."
   ]
  },
  {
   "cell_type": "markdown",
   "metadata": {},
   "source": [
    "Next, let us test your python setup. Let's check you have all the libraries installed on your computer."
   ]
  },
  {
   "cell_type": "code",
   "execution_count": 5,
   "metadata": {},
   "outputs": [
    {
     "name": "stderr",
     "output_type": "stream",
     "text": [
      "ERROR:root:Internal Python error in the inspect module.\n",
      "Below is the traceback from this internal error.\n",
      "\n"
     ]
    },
    {
     "name": "stdout",
     "output_type": "stream",
     "text": [
      "Traceback (most recent call last):\n",
      "  File \"/home/abeo/anaconda3/envs/arcw/lib/python3.6/site-packages/IPython/core/interactiveshell.py\", line 3319, in run_code\n",
      "    exec(code_obj, self.user_global_ns, self.user_ns)\n",
      "  File \"<ipython-input-5-03aa73ac448b>\", line 1, in <module>\n",
      "    import pytest\n",
      "  File \"/home/abeo/.local/lib/python3.6/site-packages/pytest.py\", line 13, in <module>\n",
      "    from _pytest.fixtures import fixture, yield_fixture\n",
      "  File \"/home/abeo/.local/lib/python3.6/site-packages/_pytest/fixtures.py\", line 840, in <module>\n",
      "    class FixtureFunctionMarker(object):\n",
      "  File \"/home/abeo/.local/lib/python3.6/site-packages/_pytest/fixtures.py\", line 842, in FixtureFunctionMarker\n",
      "    params = attr.ib(convert=attr.converters.optional(tuple))\n",
      "TypeError: attrib() got an unexpected keyword argument 'convert'\n",
      "\n",
      "During handling of the above exception, another exception occurred:\n",
      "\n",
      "Traceback (most recent call last):\n",
      "  File \"/home/abeo/anaconda3/envs/arcw/lib/python3.6/site-packages/IPython/core/interactiveshell.py\", line 2034, in showtraceback\n",
      "    stb = value._render_traceback_()\n",
      "AttributeError: 'TypeError' object has no attribute '_render_traceback_'\n",
      "\n",
      "During handling of the above exception, another exception occurred:\n",
      "\n",
      "Traceback (most recent call last):\n",
      "  File \"/home/abeo/anaconda3/envs/arcw/lib/python3.6/site-packages/IPython/core/ultratb.py\", line 1151, in get_records\n",
      "    return _fixed_getinnerframes(etb, number_of_lines_of_context, tb_offset)\n",
      "  File \"/home/abeo/anaconda3/envs/arcw/lib/python3.6/site-packages/IPython/core/ultratb.py\", line 319, in wrapped\n",
      "    return f(*args, **kwargs)\n",
      "  File \"/home/abeo/anaconda3/envs/arcw/lib/python3.6/site-packages/IPython/core/ultratb.py\", line 353, in _fixed_getinnerframes\n",
      "    records = fix_frame_records_filenames(inspect.getinnerframes(etb, context))\n",
      "  File \"/home/abeo/anaconda3/envs/arcw/lib/python3.6/inspect.py\", line 1490, in getinnerframes\n",
      "    frameinfo = (tb.tb_frame,) + getframeinfo(tb, context)\n",
      "  File \"/home/abeo/anaconda3/envs/arcw/lib/python3.6/inspect.py\", line 1448, in getframeinfo\n",
      "    filename = getsourcefile(frame) or getfile(frame)\n",
      "  File \"/home/abeo/anaconda3/envs/arcw/lib/python3.6/inspect.py\", line 696, in getsourcefile\n",
      "    if getattr(getmodule(object, filename), '__loader__', None) is not None:\n",
      "  File \"/home/abeo/anaconda3/envs/arcw/lib/python3.6/inspect.py\", line 733, in getmodule\n",
      "    if ismodule(module) and hasattr(module, '__file__'):\n",
      "  File \"/home/abeo/.local/lib/python3.6/site-packages/py/_vendored_packages/apipkg.py\", line 195, in __getattribute__\n",
      "    return getattr(getmod(), name)\n",
      "  File \"/home/abeo/.local/lib/python3.6/site-packages/py/_vendored_packages/apipkg.py\", line 179, in getmod\n",
      "    x = importobj(modpath, None)\n",
      "  File \"/home/abeo/.local/lib/python3.6/site-packages/py/_vendored_packages/apipkg.py\", line 69, in importobj\n",
      "    module = __import__(modpath, None, None, ['__doc__'])\n",
      "  File \"/home/abeo/.local/lib/python3.6/site-packages/pytest.py\", line 13, in <module>\n",
      "    from _pytest.fixtures import fixture, yield_fixture\n",
      "  File \"/home/abeo/.local/lib/python3.6/site-packages/_pytest/fixtures.py\", line 840, in <module>\n",
      "    class FixtureFunctionMarker(object):\n",
      "  File \"/home/abeo/.local/lib/python3.6/site-packages/_pytest/fixtures.py\", line 842, in FixtureFunctionMarker\n",
      "    params = attr.ib(convert=attr.converters.optional(tuple))\n",
      "TypeError: attrib() got an unexpected keyword argument 'convert'\n"
     ]
    },
    {
     "ename": "TypeError",
     "evalue": "attrib() got an unexpected keyword argument 'convert'",
     "output_type": "error",
     "traceback": [
      "\u001b[0;31m---------------------------------------------------------------------------\u001b[0m"
     ]
    }
   ],
   "source": [
    "import pytest\n",
    "import numpy\n",
    "import scipy\n",
    "import statsmodels\n",
    "import altair\n",
    "import vega\n",
    "import vega_datasets\n",
    "import sklearn\n",
    "import tensorflow\n",
    "print(\"Everything is installed!\")"
   ]
  },
  {
   "cell_type": "markdown",
   "metadata": {},
   "source": [
    "If one of those failed, you'll get an error that looks like this:\n",
    "\n",
    "<pre><span class=\"ansi-red-fg\">---------------------------------------------------------------------------</span>\n",
    "<span class=\"ansi-red-fg\">ModuleNotFoundError</span>                       Traceback (most recent call last)\n",
    "<span class=\"ansi-green-fg\">&lt;ipython-input-2-302beb3fe330&gt;</span> in <span class=\"ansi-cyan-fg\">&lt;module&gt;</span>\n",
    "<span class=\"ansi-green-intense-fg ansi-bold\">      2</span> <span class=\"ansi-green-fg\">import</span> scipy\n",
    "<span class=\"ansi-green-intense-fg ansi-bold\">      3</span> <span class=\"ansi-green-fg\">import</span> statsmodels\n",
    "<span class=\"ansi-green-fg\">----&gt; 4</span><span class=\"ansi-red-fg\"> </span><span class=\"ansi-green-fg\">import</span> altair\n",
    "<span class=\"ansi-green-intense-fg ansi-bold\">      5</span> <span class=\"ansi-green-fg\">import</span> vega\n",
    "<span class=\"ansi-green-intense-fg ansi-bold\">      6</span> <span class=\"ansi-green-fg\">import</span> vega_datasets\n",
    "\n",
    "<span class=\"ansi-red-fg\">ModuleNotFoundError</span>: No module named 'altair'\n",
    "\n",
    "</pre>\n",
    "\n",
    "To fix it, install the failed library into your system using the following command:\n",
    "\n",
    "    conda install -y LIBRARY_NAME\n",
    "    \n",
    "For instance, to get tensorflow, run:\n",
    "\n",
    "    conda install -y tensorflow\n",
    "    \n",
    "You can run this command from Jupyter Notebooks too, and if you run many versions of Python on your computer, this helps ensure you have the right environment. Just prepend a `!` and run in a cell:\n",
    "\n",
    "    !conda install -y tensorflow\n",
    "    \n",
    "For `sklearn`, the name of the library is `scikit-learn`. Therefore you would run:\n",
    "\n",
    "    !conda install -y scikit-learn\n",
    "    \n",
    "    \n",
    "For `altair`, `vega` and `vega_datasets`, you'll need to use the `conda-forge`, which is simply a different repository of libraries than normal. Instead, use:\n",
    "    \n",
    "    !conda install -c conda-forge -y vega vega_datasets altair\n",
    "\n",
    "If the cell run, completed, and gave you an execution number, you'll see the message \"Everything is installed!\" printed after the cell. If that's the case, you are free to move onto the next Notebook!\n",
    "\n",
    "If you've installed Python yourself, you probably know how to install modules for your system. If you are unsure, try: `pip install my_module`"
   ]
  },
  {
   "cell_type": "code",
   "execution_count": 2,
   "metadata": {},
   "outputs": [
    {
     "name": "stdout",
     "output_type": "stream",
     "text": [
      "Collecting package metadata (current_repodata.json): done\n",
      "Solving environment: done\n",
      "\n",
      "\n",
      "==> WARNING: A newer version of conda exists. <==\n",
      "  current version: 4.7.12\n",
      "  latest version: 4.8.1\n",
      "\n",
      "Please update conda by running\n",
      "\n",
      "    $ conda update -n base -c defaults conda\n",
      "\n",
      "\n",
      "\n",
      "# All requested packages already installed.\n",
      "\n"
     ]
    }
   ],
   "source": [
    "!conda install -c conda-forge -y vega vega_datasets altair"
   ]
  },
  {
   "cell_type": "code",
   "execution_count": 11,
   "metadata": {},
   "outputs": [
    {
     "name": "stdout",
     "output_type": "stream",
     "text": [
      "Collecting attrs==19.1.0\n",
      "  Downloading https://files.pythonhosted.org/packages/23/96/d828354fa2dbdf216eaa7b7de0db692f12c234f7ef888cc14980ef40d1d2/attrs-19.1.0-py2.py3-none-any.whl\n",
      "Installing collected packages: attrs\n",
      "  Found existing installation: attrs 19.2.0\n",
      "    Uninstalling attrs-19.2.0:\n",
      "      Successfully uninstalled attrs-19.2.0\n",
      "Successfully installed attrs-19.1.0\n",
      "\u001b[33mWARNING: You are using pip version 19.3.1; however, version 20.0.2 is available.\n",
      "You should consider upgrading via the 'pip install --upgrade pip' command.\u001b[0m\n"
     ]
    }
   ],
   "source": [
    "!pip install attrs==19.1.0"
   ]
  },
  {
   "cell_type": "code",
   "execution_count": null,
   "metadata": {},
   "outputs": [],
   "source": []
  }
 ],
 "metadata": {
  "kernelspec": {
   "display_name": "Python 3",
   "language": "python",
   "name": "python3"
  },
  "language_info": {
   "codemirror_mode": {
    "name": "ipython",
    "version": 3
   },
   "file_extension": ".py",
   "mimetype": "text/x-python",
   "name": "python",
   "nbconvert_exporter": "python",
   "pygments_lexer": "ipython3",
   "version": "3.7.4"
  }
 },
 "nbformat": 4,
 "nbformat_minor": 4
}
